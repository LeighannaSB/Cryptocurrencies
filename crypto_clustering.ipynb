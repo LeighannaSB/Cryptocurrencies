{
 "cells": [
  {
   "cell_type": "markdown",
   "metadata": {},
   "source": [
    "# Clustering Crypto"
   ]
  },
  {
   "cell_type": "code",
   "execution_count": 71,
   "metadata": {},
   "outputs": [],
   "source": [
    "# Initial imports\n",
    "import pandas as pd\n",
    "import hvplot.pandas\n",
    "import plotly.express as px\n",
    "from sklearn.preprocessing import StandardScaler, MinMaxScaler\n",
    "from sklearn.decomposition import PCA\n",
    "from sklearn.cluster import KMeans\n"
   ]
  },
  {
   "cell_type": "markdown",
   "metadata": {},
   "source": [
    "### Deliverable 1: Preprocessing the Data for PCA"
   ]
  },
  {
   "cell_type": "code",
   "execution_count": 72,
   "metadata": {},
   "outputs": [
    {
     "data": {
      "text/html": [
       "<div>\n",
       "<style scoped>\n",
       "    .dataframe tbody tr th:only-of-type {\n",
       "        vertical-align: middle;\n",
       "    }\n",
       "\n",
       "    .dataframe tbody tr th {\n",
       "        vertical-align: top;\n",
       "    }\n",
       "\n",
       "    .dataframe thead th {\n",
       "        text-align: right;\n",
       "    }\n",
       "</style>\n",
       "<table border=\"1\" class=\"dataframe\">\n",
       "  <thead>\n",
       "    <tr style=\"text-align: right;\">\n",
       "      <th></th>\n",
       "      <th>Unnamed: 0</th>\n",
       "      <th>CoinName</th>\n",
       "      <th>Algorithm</th>\n",
       "      <th>IsTrading</th>\n",
       "      <th>ProofType</th>\n",
       "      <th>TotalCoinsMined</th>\n",
       "      <th>TotalCoinSupply</th>\n",
       "    </tr>\n",
       "  </thead>\n",
       "  <tbody>\n",
       "    <tr>\n",
       "      <th>0</th>\n",
       "      <td>42</td>\n",
       "      <td>42 Coin</td>\n",
       "      <td>Scrypt</td>\n",
       "      <td>True</td>\n",
       "      <td>PoW/PoS</td>\n",
       "      <td>4.199995e+01</td>\n",
       "      <td>42</td>\n",
       "    </tr>\n",
       "    <tr>\n",
       "      <th>1</th>\n",
       "      <td>365</td>\n",
       "      <td>365Coin</td>\n",
       "      <td>X11</td>\n",
       "      <td>True</td>\n",
       "      <td>PoW/PoS</td>\n",
       "      <td>NaN</td>\n",
       "      <td>2300000000</td>\n",
       "    </tr>\n",
       "    <tr>\n",
       "      <th>2</th>\n",
       "      <td>404</td>\n",
       "      <td>404Coin</td>\n",
       "      <td>Scrypt</td>\n",
       "      <td>True</td>\n",
       "      <td>PoW/PoS</td>\n",
       "      <td>1.055185e+09</td>\n",
       "      <td>532000000</td>\n",
       "    </tr>\n",
       "    <tr>\n",
       "      <th>3</th>\n",
       "      <td>611</td>\n",
       "      <td>SixEleven</td>\n",
       "      <td>SHA-256</td>\n",
       "      <td>True</td>\n",
       "      <td>PoW</td>\n",
       "      <td>NaN</td>\n",
       "      <td>611000</td>\n",
       "    </tr>\n",
       "    <tr>\n",
       "      <th>4</th>\n",
       "      <td>808</td>\n",
       "      <td>808</td>\n",
       "      <td>SHA-256</td>\n",
       "      <td>True</td>\n",
       "      <td>PoW/PoS</td>\n",
       "      <td>0.000000e+00</td>\n",
       "      <td>0</td>\n",
       "    </tr>\n",
       "  </tbody>\n",
       "</table>\n",
       "</div>"
      ],
      "text/plain": [
       "  Unnamed: 0   CoinName Algorithm  IsTrading ProofType  TotalCoinsMined  \\\n",
       "0         42    42 Coin    Scrypt       True   PoW/PoS     4.199995e+01   \n",
       "1        365    365Coin       X11       True   PoW/PoS              NaN   \n",
       "2        404    404Coin    Scrypt       True   PoW/PoS     1.055185e+09   \n",
       "3        611  SixEleven   SHA-256       True       PoW              NaN   \n",
       "4        808        808   SHA-256       True   PoW/PoS     0.000000e+00   \n",
       "\n",
       "  TotalCoinSupply  \n",
       "0              42  \n",
       "1      2300000000  \n",
       "2       532000000  \n",
       "3          611000  \n",
       "4               0  "
      ]
     },
     "execution_count": 72,
     "metadata": {},
     "output_type": "execute_result"
    }
   ],
   "source": [
    "# Load the crypto_data.csv dataset.\n",
    "file_path= r\"C:\\Users\\jbrad\\OneDrive\\Desktop\\Bootcamp_Classwork\\Cryptocurrencies\\Resources\\crypto_data.csv\"\n",
    "crypto_data_df = pd.read_csv(file_path)\n",
    "crypto_data_df.head() "
   ]
  },
  {
   "cell_type": "code",
   "execution_count": 73,
   "metadata": {},
   "outputs": [
    {
     "data": {
      "text/html": [
       "<div>\n",
       "<style scoped>\n",
       "    .dataframe tbody tr th:only-of-type {\n",
       "        vertical-align: middle;\n",
       "    }\n",
       "\n",
       "    .dataframe tbody tr th {\n",
       "        vertical-align: top;\n",
       "    }\n",
       "\n",
       "    .dataframe thead th {\n",
       "        text-align: right;\n",
       "    }\n",
       "</style>\n",
       "<table border=\"1\" class=\"dataframe\">\n",
       "  <thead>\n",
       "    <tr style=\"text-align: right;\">\n",
       "      <th></th>\n",
       "      <th>Unnamed: 0</th>\n",
       "      <th>CoinName</th>\n",
       "      <th>Algorithm</th>\n",
       "      <th>IsTrading</th>\n",
       "      <th>ProofType</th>\n",
       "      <th>TotalCoinsMined</th>\n",
       "      <th>TotalCoinSupply</th>\n",
       "    </tr>\n",
       "  </thead>\n",
       "  <tbody>\n",
       "    <tr>\n",
       "      <th>0</th>\n",
       "      <td>42</td>\n",
       "      <td>42 Coin</td>\n",
       "      <td>Scrypt</td>\n",
       "      <td>True</td>\n",
       "      <td>PoW/PoS</td>\n",
       "      <td>4.199995e+01</td>\n",
       "      <td>42</td>\n",
       "    </tr>\n",
       "    <tr>\n",
       "      <th>1</th>\n",
       "      <td>365</td>\n",
       "      <td>365Coin</td>\n",
       "      <td>X11</td>\n",
       "      <td>True</td>\n",
       "      <td>PoW/PoS</td>\n",
       "      <td>NaN</td>\n",
       "      <td>2300000000</td>\n",
       "    </tr>\n",
       "    <tr>\n",
       "      <th>2</th>\n",
       "      <td>404</td>\n",
       "      <td>404Coin</td>\n",
       "      <td>Scrypt</td>\n",
       "      <td>True</td>\n",
       "      <td>PoW/PoS</td>\n",
       "      <td>1.055185e+09</td>\n",
       "      <td>532000000</td>\n",
       "    </tr>\n",
       "    <tr>\n",
       "      <th>3</th>\n",
       "      <td>611</td>\n",
       "      <td>SixEleven</td>\n",
       "      <td>SHA-256</td>\n",
       "      <td>True</td>\n",
       "      <td>PoW</td>\n",
       "      <td>NaN</td>\n",
       "      <td>611000</td>\n",
       "    </tr>\n",
       "    <tr>\n",
       "      <th>4</th>\n",
       "      <td>808</td>\n",
       "      <td>808</td>\n",
       "      <td>SHA-256</td>\n",
       "      <td>True</td>\n",
       "      <td>PoW/PoS</td>\n",
       "      <td>0.000000e+00</td>\n",
       "      <td>0</td>\n",
       "    </tr>\n",
       "  </tbody>\n",
       "</table>\n",
       "</div>"
      ],
      "text/plain": [
       "  Unnamed: 0   CoinName Algorithm  IsTrading ProofType  TotalCoinsMined  \\\n",
       "0         42    42 Coin    Scrypt       True   PoW/PoS     4.199995e+01   \n",
       "1        365    365Coin       X11       True   PoW/PoS              NaN   \n",
       "2        404    404Coin    Scrypt       True   PoW/PoS     1.055185e+09   \n",
       "3        611  SixEleven   SHA-256       True       PoW              NaN   \n",
       "4        808        808   SHA-256       True   PoW/PoS     0.000000e+00   \n",
       "\n",
       "  TotalCoinSupply  \n",
       "0              42  \n",
       "1      2300000000  \n",
       "2       532000000  \n",
       "3          611000  \n",
       "4               0  "
      ]
     },
     "execution_count": 73,
     "metadata": {},
     "output_type": "execute_result"
    }
   ],
   "source": [
    "# Keep all the cryptocurrencies that are being traded.\n",
    "trading_crypto_df = crypto_data_df[crypto_data_df['IsTrading'] == True]\n",
    "trading_crypto_df.head()"
   ]
  },
  {
   "cell_type": "code",
   "execution_count": 74,
   "metadata": {},
   "outputs": [
    {
     "data": {
      "text/html": [
       "<div>\n",
       "<style scoped>\n",
       "    .dataframe tbody tr th:only-of-type {\n",
       "        vertical-align: middle;\n",
       "    }\n",
       "\n",
       "    .dataframe tbody tr th {\n",
       "        vertical-align: top;\n",
       "    }\n",
       "\n",
       "    .dataframe thead th {\n",
       "        text-align: right;\n",
       "    }\n",
       "</style>\n",
       "<table border=\"1\" class=\"dataframe\">\n",
       "  <thead>\n",
       "    <tr style=\"text-align: right;\">\n",
       "      <th></th>\n",
       "      <th>Unnamed: 0</th>\n",
       "      <th>CoinName</th>\n",
       "      <th>Algorithm</th>\n",
       "      <th>IsTrading</th>\n",
       "      <th>ProofType</th>\n",
       "      <th>TotalCoinsMined</th>\n",
       "      <th>TotalCoinSupply</th>\n",
       "    </tr>\n",
       "  </thead>\n",
       "  <tbody>\n",
       "    <tr>\n",
       "      <th>0</th>\n",
       "      <td>42</td>\n",
       "      <td>42 Coin</td>\n",
       "      <td>Scrypt</td>\n",
       "      <td>True</td>\n",
       "      <td>PoW/PoS</td>\n",
       "      <td>4.199995e+01</td>\n",
       "      <td>42</td>\n",
       "    </tr>\n",
       "    <tr>\n",
       "      <th>1</th>\n",
       "      <td>365</td>\n",
       "      <td>365Coin</td>\n",
       "      <td>X11</td>\n",
       "      <td>True</td>\n",
       "      <td>PoW/PoS</td>\n",
       "      <td>NaN</td>\n",
       "      <td>2300000000</td>\n",
       "    </tr>\n",
       "    <tr>\n",
       "      <th>2</th>\n",
       "      <td>404</td>\n",
       "      <td>404Coin</td>\n",
       "      <td>Scrypt</td>\n",
       "      <td>True</td>\n",
       "      <td>PoW/PoS</td>\n",
       "      <td>1.055185e+09</td>\n",
       "      <td>532000000</td>\n",
       "    </tr>\n",
       "    <tr>\n",
       "      <th>3</th>\n",
       "      <td>611</td>\n",
       "      <td>SixEleven</td>\n",
       "      <td>SHA-256</td>\n",
       "      <td>True</td>\n",
       "      <td>PoW</td>\n",
       "      <td>NaN</td>\n",
       "      <td>611000</td>\n",
       "    </tr>\n",
       "    <tr>\n",
       "      <th>4</th>\n",
       "      <td>808</td>\n",
       "      <td>808</td>\n",
       "      <td>SHA-256</td>\n",
       "      <td>True</td>\n",
       "      <td>PoW/PoS</td>\n",
       "      <td>0.000000e+00</td>\n",
       "      <td>0</td>\n",
       "    </tr>\n",
       "  </tbody>\n",
       "</table>\n",
       "</div>"
      ],
      "text/plain": [
       "  Unnamed: 0   CoinName Algorithm  IsTrading ProofType  TotalCoinsMined  \\\n",
       "0         42    42 Coin    Scrypt       True   PoW/PoS     4.199995e+01   \n",
       "1        365    365Coin       X11       True   PoW/PoS              NaN   \n",
       "2        404    404Coin    Scrypt       True   PoW/PoS     1.055185e+09   \n",
       "3        611  SixEleven   SHA-256       True       PoW              NaN   \n",
       "4        808        808   SHA-256       True   PoW/PoS     0.000000e+00   \n",
       "\n",
       "  TotalCoinSupply  \n",
       "0              42  \n",
       "1      2300000000  \n",
       "2       532000000  \n",
       "3          611000  \n",
       "4               0  "
      ]
     },
     "execution_count": 74,
     "metadata": {},
     "output_type": "execute_result"
    }
   ],
   "source": [
    "# Keep all the cryptocurrencies that have a working algorithm.\n",
    "crypto_alg_df = trading_crypto_df.dropna(subset=['Algorithm'])\n",
    "crypto_alg_df.head()"
   ]
  },
  {
   "cell_type": "code",
   "execution_count": 75,
   "metadata": {},
   "outputs": [
    {
     "data": {
      "text/html": [
       "<div>\n",
       "<style scoped>\n",
       "    .dataframe tbody tr th:only-of-type {\n",
       "        vertical-align: middle;\n",
       "    }\n",
       "\n",
       "    .dataframe tbody tr th {\n",
       "        vertical-align: top;\n",
       "    }\n",
       "\n",
       "    .dataframe thead th {\n",
       "        text-align: right;\n",
       "    }\n",
       "</style>\n",
       "<table border=\"1\" class=\"dataframe\">\n",
       "  <thead>\n",
       "    <tr style=\"text-align: right;\">\n",
       "      <th></th>\n",
       "      <th>Unnamed: 0</th>\n",
       "      <th>CoinName</th>\n",
       "      <th>Algorithm</th>\n",
       "      <th>ProofType</th>\n",
       "      <th>TotalCoinsMined</th>\n",
       "      <th>TotalCoinSupply</th>\n",
       "    </tr>\n",
       "  </thead>\n",
       "  <tbody>\n",
       "    <tr>\n",
       "      <th>0</th>\n",
       "      <td>42</td>\n",
       "      <td>42 Coin</td>\n",
       "      <td>Scrypt</td>\n",
       "      <td>PoW/PoS</td>\n",
       "      <td>4.199995e+01</td>\n",
       "      <td>42</td>\n",
       "    </tr>\n",
       "    <tr>\n",
       "      <th>1</th>\n",
       "      <td>365</td>\n",
       "      <td>365Coin</td>\n",
       "      <td>X11</td>\n",
       "      <td>PoW/PoS</td>\n",
       "      <td>NaN</td>\n",
       "      <td>2300000000</td>\n",
       "    </tr>\n",
       "    <tr>\n",
       "      <th>2</th>\n",
       "      <td>404</td>\n",
       "      <td>404Coin</td>\n",
       "      <td>Scrypt</td>\n",
       "      <td>PoW/PoS</td>\n",
       "      <td>1.055185e+09</td>\n",
       "      <td>532000000</td>\n",
       "    </tr>\n",
       "    <tr>\n",
       "      <th>3</th>\n",
       "      <td>611</td>\n",
       "      <td>SixEleven</td>\n",
       "      <td>SHA-256</td>\n",
       "      <td>PoW</td>\n",
       "      <td>NaN</td>\n",
       "      <td>611000</td>\n",
       "    </tr>\n",
       "    <tr>\n",
       "      <th>4</th>\n",
       "      <td>808</td>\n",
       "      <td>808</td>\n",
       "      <td>SHA-256</td>\n",
       "      <td>PoW/PoS</td>\n",
       "      <td>0.000000e+00</td>\n",
       "      <td>0</td>\n",
       "    </tr>\n",
       "  </tbody>\n",
       "</table>\n",
       "</div>"
      ],
      "text/plain": [
       "  Unnamed: 0   CoinName Algorithm ProofType  TotalCoinsMined TotalCoinSupply\n",
       "0         42    42 Coin    Scrypt   PoW/PoS     4.199995e+01              42\n",
       "1        365    365Coin       X11   PoW/PoS              NaN      2300000000\n",
       "2        404    404Coin    Scrypt   PoW/PoS     1.055185e+09       532000000\n",
       "3        611  SixEleven   SHA-256       PoW              NaN          611000\n",
       "4        808        808   SHA-256   PoW/PoS     0.000000e+00               0"
      ]
     },
     "execution_count": 75,
     "metadata": {},
     "output_type": "execute_result"
    }
   ],
   "source": [
    "# Remove the \"IsTrading\" column. \n",
    "cleaning_crypto_df = crypto_alg_df.drop(['IsTrading'], axis=1)\n",
    "cleaning_crypto_df.head()"
   ]
  },
  {
   "cell_type": "code",
   "execution_count": 76,
   "metadata": {},
   "outputs": [
    {
     "data": {
      "text/html": [
       "<div>\n",
       "<style scoped>\n",
       "    .dataframe tbody tr th:only-of-type {\n",
       "        vertical-align: middle;\n",
       "    }\n",
       "\n",
       "    .dataframe tbody tr th {\n",
       "        vertical-align: top;\n",
       "    }\n",
       "\n",
       "    .dataframe thead th {\n",
       "        text-align: right;\n",
       "    }\n",
       "</style>\n",
       "<table border=\"1\" class=\"dataframe\">\n",
       "  <thead>\n",
       "    <tr style=\"text-align: right;\">\n",
       "      <th></th>\n",
       "      <th>Unnamed: 0</th>\n",
       "      <th>CoinName</th>\n",
       "      <th>Algorithm</th>\n",
       "      <th>ProofType</th>\n",
       "      <th>TotalCoinsMined</th>\n",
       "      <th>TotalCoinSupply</th>\n",
       "    </tr>\n",
       "  </thead>\n",
       "  <tbody>\n",
       "    <tr>\n",
       "      <th>0</th>\n",
       "      <td>42</td>\n",
       "      <td>42 Coin</td>\n",
       "      <td>Scrypt</td>\n",
       "      <td>PoW/PoS</td>\n",
       "      <td>4.199995e+01</td>\n",
       "      <td>42</td>\n",
       "    </tr>\n",
       "    <tr>\n",
       "      <th>2</th>\n",
       "      <td>404</td>\n",
       "      <td>404Coin</td>\n",
       "      <td>Scrypt</td>\n",
       "      <td>PoW/PoS</td>\n",
       "      <td>1.055185e+09</td>\n",
       "      <td>532000000</td>\n",
       "    </tr>\n",
       "    <tr>\n",
       "      <th>4</th>\n",
       "      <td>808</td>\n",
       "      <td>808</td>\n",
       "      <td>SHA-256</td>\n",
       "      <td>PoW/PoS</td>\n",
       "      <td>0.000000e+00</td>\n",
       "      <td>0</td>\n",
       "    </tr>\n",
       "    <tr>\n",
       "      <th>5</th>\n",
       "      <td>1337</td>\n",
       "      <td>EliteCoin</td>\n",
       "      <td>X13</td>\n",
       "      <td>PoW/PoS</td>\n",
       "      <td>2.927942e+10</td>\n",
       "      <td>314159265359</td>\n",
       "    </tr>\n",
       "    <tr>\n",
       "      <th>7</th>\n",
       "      <td>BTC</td>\n",
       "      <td>Bitcoin</td>\n",
       "      <td>SHA-256</td>\n",
       "      <td>PoW</td>\n",
       "      <td>1.792718e+07</td>\n",
       "      <td>21000000</td>\n",
       "    </tr>\n",
       "  </tbody>\n",
       "</table>\n",
       "</div>"
      ],
      "text/plain": [
       "  Unnamed: 0   CoinName Algorithm ProofType  TotalCoinsMined TotalCoinSupply\n",
       "0         42    42 Coin    Scrypt   PoW/PoS     4.199995e+01              42\n",
       "2        404    404Coin    Scrypt   PoW/PoS     1.055185e+09       532000000\n",
       "4        808        808   SHA-256   PoW/PoS     0.000000e+00               0\n",
       "5       1337  EliteCoin       X13   PoW/PoS     2.927942e+10    314159265359\n",
       "7        BTC    Bitcoin   SHA-256       PoW     1.792718e+07        21000000"
      ]
     },
     "execution_count": 76,
     "metadata": {},
     "output_type": "execute_result"
    }
   ],
   "source": [
    "# Remove rows that have at least 1 null value.\n",
    "nonull_crypto_df = cleaning_crypto_df.dropna(how='any', axis=0)\n",
    "nonull_crypto_df.head()"
   ]
  },
  {
   "cell_type": "code",
   "execution_count": 77,
   "metadata": {},
   "outputs": [
    {
     "data": {
      "text/html": [
       "<div>\n",
       "<style scoped>\n",
       "    .dataframe tbody tr th:only-of-type {\n",
       "        vertical-align: middle;\n",
       "    }\n",
       "\n",
       "    .dataframe tbody tr th {\n",
       "        vertical-align: top;\n",
       "    }\n",
       "\n",
       "    .dataframe thead th {\n",
       "        text-align: right;\n",
       "    }\n",
       "</style>\n",
       "<table border=\"1\" class=\"dataframe\">\n",
       "  <thead>\n",
       "    <tr style=\"text-align: right;\">\n",
       "      <th></th>\n",
       "      <th>Unnamed: 0</th>\n",
       "      <th>CoinName</th>\n",
       "      <th>Algorithm</th>\n",
       "      <th>ProofType</th>\n",
       "      <th>TotalCoinsMined</th>\n",
       "      <th>TotalCoinSupply</th>\n",
       "    </tr>\n",
       "  </thead>\n",
       "  <tbody>\n",
       "    <tr>\n",
       "      <th>0</th>\n",
       "      <td>42</td>\n",
       "      <td>42 Coin</td>\n",
       "      <td>Scrypt</td>\n",
       "      <td>PoW/PoS</td>\n",
       "      <td>4.199995e+01</td>\n",
       "      <td>42</td>\n",
       "    </tr>\n",
       "    <tr>\n",
       "      <th>2</th>\n",
       "      <td>404</td>\n",
       "      <td>404Coin</td>\n",
       "      <td>Scrypt</td>\n",
       "      <td>PoW/PoS</td>\n",
       "      <td>1.055185e+09</td>\n",
       "      <td>532000000</td>\n",
       "    </tr>\n",
       "    <tr>\n",
       "      <th>5</th>\n",
       "      <td>1337</td>\n",
       "      <td>EliteCoin</td>\n",
       "      <td>X13</td>\n",
       "      <td>PoW/PoS</td>\n",
       "      <td>2.927942e+10</td>\n",
       "      <td>314159265359</td>\n",
       "    </tr>\n",
       "    <tr>\n",
       "      <th>7</th>\n",
       "      <td>BTC</td>\n",
       "      <td>Bitcoin</td>\n",
       "      <td>SHA-256</td>\n",
       "      <td>PoW</td>\n",
       "      <td>1.792718e+07</td>\n",
       "      <td>21000000</td>\n",
       "    </tr>\n",
       "    <tr>\n",
       "      <th>8</th>\n",
       "      <td>ETH</td>\n",
       "      <td>Ethereum</td>\n",
       "      <td>Ethash</td>\n",
       "      <td>PoW</td>\n",
       "      <td>1.076842e+08</td>\n",
       "      <td>0</td>\n",
       "    </tr>\n",
       "  </tbody>\n",
       "</table>\n",
       "</div>"
      ],
      "text/plain": [
       "  Unnamed: 0   CoinName Algorithm ProofType  TotalCoinsMined TotalCoinSupply\n",
       "0         42    42 Coin    Scrypt   PoW/PoS     4.199995e+01              42\n",
       "2        404    404Coin    Scrypt   PoW/PoS     1.055185e+09       532000000\n",
       "5       1337  EliteCoin       X13   PoW/PoS     2.927942e+10    314159265359\n",
       "7        BTC    Bitcoin   SHA-256       PoW     1.792718e+07        21000000\n",
       "8        ETH   Ethereum    Ethash       PoW     1.076842e+08               0"
      ]
     },
     "execution_count": 77,
     "metadata": {},
     "output_type": "execute_result"
    }
   ],
   "source": [
    "# Keep the rows where coins are mined.\n",
    "mined_crypto_df = nonull_crypto_df[nonull_crypto_df['TotalCoinsMined'] >0]\n",
    "mined_crypto_df.head()"
   ]
  },
  {
   "cell_type": "code",
   "execution_count": 78,
   "metadata": {},
   "outputs": [
    {
     "data": {
      "text/html": [
       "<div>\n",
       "<style scoped>\n",
       "    .dataframe tbody tr th:only-of-type {\n",
       "        vertical-align: middle;\n",
       "    }\n",
       "\n",
       "    .dataframe tbody tr th {\n",
       "        vertical-align: top;\n",
       "    }\n",
       "\n",
       "    .dataframe thead th {\n",
       "        text-align: right;\n",
       "    }\n",
       "</style>\n",
       "<table border=\"1\" class=\"dataframe\">\n",
       "  <thead>\n",
       "    <tr style=\"text-align: right;\">\n",
       "      <th></th>\n",
       "      <th>CoinName</th>\n",
       "    </tr>\n",
       "  </thead>\n",
       "  <tbody>\n",
       "    <tr>\n",
       "      <th>0</th>\n",
       "      <td>42 Coin</td>\n",
       "    </tr>\n",
       "    <tr>\n",
       "      <th>2</th>\n",
       "      <td>404Coin</td>\n",
       "    </tr>\n",
       "    <tr>\n",
       "      <th>5</th>\n",
       "      <td>EliteCoin</td>\n",
       "    </tr>\n",
       "    <tr>\n",
       "      <th>7</th>\n",
       "      <td>Bitcoin</td>\n",
       "    </tr>\n",
       "    <tr>\n",
       "      <th>8</th>\n",
       "      <td>Ethereum</td>\n",
       "    </tr>\n",
       "  </tbody>\n",
       "</table>\n",
       "</div>"
      ],
      "text/plain": [
       "    CoinName\n",
       "0    42 Coin\n",
       "2    404Coin\n",
       "5  EliteCoin\n",
       "7    Bitcoin\n",
       "8   Ethereum"
      ]
     },
     "execution_count": 78,
     "metadata": {},
     "output_type": "execute_result"
    }
   ],
   "source": [
    "# Create a new DataFrame that holds only the cryptocurrencies names.\n",
    "crypto_names_df = mined_crypto_df.drop(['Unnamed: 0' , 'Algorithm', 'ProofType', 'TotalCoinsMined', 'TotalCoinSupply'], axis=1)\n",
    "crypto_names_df.head()"
   ]
  },
  {
   "cell_type": "code",
   "execution_count": 79,
   "metadata": {},
   "outputs": [
    {
     "data": {
      "text/html": [
       "<div>\n",
       "<style scoped>\n",
       "    .dataframe tbody tr th:only-of-type {\n",
       "        vertical-align: middle;\n",
       "    }\n",
       "\n",
       "    .dataframe tbody tr th {\n",
       "        vertical-align: top;\n",
       "    }\n",
       "\n",
       "    .dataframe thead th {\n",
       "        text-align: right;\n",
       "    }\n",
       "</style>\n",
       "<table border=\"1\" class=\"dataframe\">\n",
       "  <thead>\n",
       "    <tr style=\"text-align: right;\">\n",
       "      <th></th>\n",
       "      <th>Algorithm</th>\n",
       "      <th>ProofType</th>\n",
       "      <th>TotalCoinsMined</th>\n",
       "      <th>TotalCoinSupply</th>\n",
       "    </tr>\n",
       "  </thead>\n",
       "  <tbody>\n",
       "    <tr>\n",
       "      <th>0</th>\n",
       "      <td>Scrypt</td>\n",
       "      <td>PoW/PoS</td>\n",
       "      <td>4.199995e+01</td>\n",
       "      <td>42</td>\n",
       "    </tr>\n",
       "    <tr>\n",
       "      <th>2</th>\n",
       "      <td>Scrypt</td>\n",
       "      <td>PoW/PoS</td>\n",
       "      <td>1.055185e+09</td>\n",
       "      <td>532000000</td>\n",
       "    </tr>\n",
       "    <tr>\n",
       "      <th>5</th>\n",
       "      <td>X13</td>\n",
       "      <td>PoW/PoS</td>\n",
       "      <td>2.927942e+10</td>\n",
       "      <td>314159265359</td>\n",
       "    </tr>\n",
       "    <tr>\n",
       "      <th>7</th>\n",
       "      <td>SHA-256</td>\n",
       "      <td>PoW</td>\n",
       "      <td>1.792718e+07</td>\n",
       "      <td>21000000</td>\n",
       "    </tr>\n",
       "    <tr>\n",
       "      <th>8</th>\n",
       "      <td>Ethash</td>\n",
       "      <td>PoW</td>\n",
       "      <td>1.076842e+08</td>\n",
       "      <td>0</td>\n",
       "    </tr>\n",
       "  </tbody>\n",
       "</table>\n",
       "</div>"
      ],
      "text/plain": [
       "  Algorithm ProofType  TotalCoinsMined TotalCoinSupply\n",
       "0    Scrypt   PoW/PoS     4.199995e+01              42\n",
       "2    Scrypt   PoW/PoS     1.055185e+09       532000000\n",
       "5       X13   PoW/PoS     2.927942e+10    314159265359\n",
       "7   SHA-256       PoW     1.792718e+07        21000000\n",
       "8    Ethash       PoW     1.076842e+08               0"
      ]
     },
     "execution_count": 79,
     "metadata": {},
     "output_type": "execute_result"
    }
   ],
   "source": [
    "# Drop the 'CoinName' column since it's not going to be used on the clustering algorithm.\n",
    "noname_crypto_df = mined_crypto_df.drop(['CoinName', 'Unnamed: 0'], axis=1)\n",
    "noname_crypto_df.head()"
   ]
  },
  {
   "cell_type": "code",
   "execution_count": 80,
   "metadata": {},
   "outputs": [
    {
     "data": {
      "text/html": [
       "<div>\n",
       "<style scoped>\n",
       "    .dataframe tbody tr th:only-of-type {\n",
       "        vertical-align: middle;\n",
       "    }\n",
       "\n",
       "    .dataframe tbody tr th {\n",
       "        vertical-align: top;\n",
       "    }\n",
       "\n",
       "    .dataframe thead th {\n",
       "        text-align: right;\n",
       "    }\n",
       "</style>\n",
       "<table border=\"1\" class=\"dataframe\">\n",
       "  <thead>\n",
       "    <tr style=\"text-align: right;\">\n",
       "      <th></th>\n",
       "      <th>TotalCoinsMined</th>\n",
       "      <th>TotalCoinSupply</th>\n",
       "      <th>Algorithm_1GB AES Pattern Search</th>\n",
       "      <th>Algorithm_536</th>\n",
       "      <th>Algorithm_Argon2d</th>\n",
       "      <th>Algorithm_BLAKE256</th>\n",
       "      <th>Algorithm_Blake</th>\n",
       "      <th>Algorithm_Blake2S</th>\n",
       "      <th>Algorithm_Blake2b</th>\n",
       "      <th>Algorithm_C11</th>\n",
       "      <th>...</th>\n",
       "      <th>ProofType_PoW/PoS</th>\n",
       "      <th>ProofType_PoW/PoS</th>\n",
       "      <th>ProofType_PoW/PoW</th>\n",
       "      <th>ProofType_PoW/nPoS</th>\n",
       "      <th>ProofType_Pos</th>\n",
       "      <th>ProofType_Proof of Authority</th>\n",
       "      <th>ProofType_Proof of Trust</th>\n",
       "      <th>ProofType_TPoS</th>\n",
       "      <th>ProofType_Zero-Knowledge Proof</th>\n",
       "      <th>ProofType_dPoW/PoW</th>\n",
       "    </tr>\n",
       "  </thead>\n",
       "  <tbody>\n",
       "    <tr>\n",
       "      <th>0</th>\n",
       "      <td>4.199995e+01</td>\n",
       "      <td>42</td>\n",
       "      <td>0</td>\n",
       "      <td>0</td>\n",
       "      <td>0</td>\n",
       "      <td>0</td>\n",
       "      <td>0</td>\n",
       "      <td>0</td>\n",
       "      <td>0</td>\n",
       "      <td>0</td>\n",
       "      <td>...</td>\n",
       "      <td>1</td>\n",
       "      <td>0</td>\n",
       "      <td>0</td>\n",
       "      <td>0</td>\n",
       "      <td>0</td>\n",
       "      <td>0</td>\n",
       "      <td>0</td>\n",
       "      <td>0</td>\n",
       "      <td>0</td>\n",
       "      <td>0</td>\n",
       "    </tr>\n",
       "    <tr>\n",
       "      <th>2</th>\n",
       "      <td>1.055185e+09</td>\n",
       "      <td>532000000</td>\n",
       "      <td>0</td>\n",
       "      <td>0</td>\n",
       "      <td>0</td>\n",
       "      <td>0</td>\n",
       "      <td>0</td>\n",
       "      <td>0</td>\n",
       "      <td>0</td>\n",
       "      <td>0</td>\n",
       "      <td>...</td>\n",
       "      <td>1</td>\n",
       "      <td>0</td>\n",
       "      <td>0</td>\n",
       "      <td>0</td>\n",
       "      <td>0</td>\n",
       "      <td>0</td>\n",
       "      <td>0</td>\n",
       "      <td>0</td>\n",
       "      <td>0</td>\n",
       "      <td>0</td>\n",
       "    </tr>\n",
       "    <tr>\n",
       "      <th>5</th>\n",
       "      <td>2.927942e+10</td>\n",
       "      <td>314159265359</td>\n",
       "      <td>0</td>\n",
       "      <td>0</td>\n",
       "      <td>0</td>\n",
       "      <td>0</td>\n",
       "      <td>0</td>\n",
       "      <td>0</td>\n",
       "      <td>0</td>\n",
       "      <td>0</td>\n",
       "      <td>...</td>\n",
       "      <td>1</td>\n",
       "      <td>0</td>\n",
       "      <td>0</td>\n",
       "      <td>0</td>\n",
       "      <td>0</td>\n",
       "      <td>0</td>\n",
       "      <td>0</td>\n",
       "      <td>0</td>\n",
       "      <td>0</td>\n",
       "      <td>0</td>\n",
       "    </tr>\n",
       "    <tr>\n",
       "      <th>7</th>\n",
       "      <td>1.792718e+07</td>\n",
       "      <td>21000000</td>\n",
       "      <td>0</td>\n",
       "      <td>0</td>\n",
       "      <td>0</td>\n",
       "      <td>0</td>\n",
       "      <td>0</td>\n",
       "      <td>0</td>\n",
       "      <td>0</td>\n",
       "      <td>0</td>\n",
       "      <td>...</td>\n",
       "      <td>0</td>\n",
       "      <td>0</td>\n",
       "      <td>0</td>\n",
       "      <td>0</td>\n",
       "      <td>0</td>\n",
       "      <td>0</td>\n",
       "      <td>0</td>\n",
       "      <td>0</td>\n",
       "      <td>0</td>\n",
       "      <td>0</td>\n",
       "    </tr>\n",
       "    <tr>\n",
       "      <th>8</th>\n",
       "      <td>1.076842e+08</td>\n",
       "      <td>0</td>\n",
       "      <td>0</td>\n",
       "      <td>0</td>\n",
       "      <td>0</td>\n",
       "      <td>0</td>\n",
       "      <td>0</td>\n",
       "      <td>0</td>\n",
       "      <td>0</td>\n",
       "      <td>0</td>\n",
       "      <td>...</td>\n",
       "      <td>0</td>\n",
       "      <td>0</td>\n",
       "      <td>0</td>\n",
       "      <td>0</td>\n",
       "      <td>0</td>\n",
       "      <td>0</td>\n",
       "      <td>0</td>\n",
       "      <td>0</td>\n",
       "      <td>0</td>\n",
       "      <td>0</td>\n",
       "    </tr>\n",
       "  </tbody>\n",
       "</table>\n",
       "<p>5 rows × 98 columns</p>\n",
       "</div>"
      ],
      "text/plain": [
       "   TotalCoinsMined TotalCoinSupply  Algorithm_1GB AES Pattern Search  \\\n",
       "0     4.199995e+01              42                                 0   \n",
       "2     1.055185e+09       532000000                                 0   \n",
       "5     2.927942e+10    314159265359                                 0   \n",
       "7     1.792718e+07        21000000                                 0   \n",
       "8     1.076842e+08               0                                 0   \n",
       "\n",
       "   Algorithm_536  Algorithm_Argon2d  Algorithm_BLAKE256  Algorithm_Blake  \\\n",
       "0              0                  0                   0                0   \n",
       "2              0                  0                   0                0   \n",
       "5              0                  0                   0                0   \n",
       "7              0                  0                   0                0   \n",
       "8              0                  0                   0                0   \n",
       "\n",
       "   Algorithm_Blake2S  Algorithm_Blake2b  Algorithm_C11  ...  \\\n",
       "0                  0                  0              0  ...   \n",
       "2                  0                  0              0  ...   \n",
       "5                  0                  0              0  ...   \n",
       "7                  0                  0              0  ...   \n",
       "8                  0                  0              0  ...   \n",
       "\n",
       "   ProofType_PoW/PoS  ProofType_PoW/PoS   ProofType_PoW/PoW  \\\n",
       "0                  1                   0                  0   \n",
       "2                  1                   0                  0   \n",
       "5                  1                   0                  0   \n",
       "7                  0                   0                  0   \n",
       "8                  0                   0                  0   \n",
       "\n",
       "   ProofType_PoW/nPoS  ProofType_Pos  ProofType_Proof of Authority  \\\n",
       "0                   0              0                             0   \n",
       "2                   0              0                             0   \n",
       "5                   0              0                             0   \n",
       "7                   0              0                             0   \n",
       "8                   0              0                             0   \n",
       "\n",
       "   ProofType_Proof of Trust  ProofType_TPoS  ProofType_Zero-Knowledge Proof  \\\n",
       "0                         0               0                               0   \n",
       "2                         0               0                               0   \n",
       "5                         0               0                               0   \n",
       "7                         0               0                               0   \n",
       "8                         0               0                               0   \n",
       "\n",
       "   ProofType_dPoW/PoW  \n",
       "0                   0  \n",
       "2                   0  \n",
       "5                   0  \n",
       "7                   0  \n",
       "8                   0  \n",
       "\n",
       "[5 rows x 98 columns]"
      ]
     },
     "execution_count": 80,
     "metadata": {},
     "output_type": "execute_result"
    }
   ],
   "source": [
    "# Use get_dummies() to create variables for text features.\n",
    "new = pd.get_dummies(noname_crypto_df, columns=['Algorithm', 'ProofType'])\n",
    "new.head()"
   ]
  },
  {
   "cell_type": "code",
   "execution_count": 81,
   "metadata": {},
   "outputs": [
    {
     "name": "stdout",
     "output_type": "stream",
     "text": [
      "[[-0.11710817 -0.1528703  -0.0433963  ... -0.0433963  -0.0433963\n",
      "  -0.0433963 ]\n",
      " [-0.09396955 -0.145009   -0.0433963  ... -0.0433963  -0.0433963\n",
      "  -0.0433963 ]\n",
      " [ 0.52494561  4.48942416 -0.0433963  ... -0.0433963  -0.0433963\n",
      "  -0.0433963 ]\n",
      " ...\n",
      " [-0.09561336 -0.13217937 -0.0433963  ... -0.0433963  -0.0433963\n",
      "  -0.0433963 ]\n",
      " [-0.11694817 -0.15255998 -0.0433963  ... -0.0433963  -0.0433963\n",
      "  -0.0433963 ]\n",
      " [-0.11710536 -0.15285552 -0.0433963  ... -0.0433963  -0.0433963\n",
      "  -0.0433963 ]]\n"
     ]
    }
   ],
   "source": [
    "# Standardize the data with StandardScaler().\n",
    "new_crypto_scaled = StandardScaler().fit_transform(new)\n",
    "print(new_crypto_scaled)"
   ]
  },
  {
   "cell_type": "markdown",
   "metadata": {},
   "source": [
    "### Deliverable 2: Reducing Data Dimensions Using PCA"
   ]
  },
  {
   "cell_type": "code",
   "execution_count": 82,
   "metadata": {},
   "outputs": [
    {
     "data": {
      "text/plain": [
       "array([[-0.33091416,  0.97481525, -0.53761078],\n",
       "       [-0.31425403,  0.97489493, -0.53792421],\n",
       "       [ 2.30374118,  1.57483708, -0.52295285],\n",
       "       ...,\n",
       "       [ 0.31639199, -2.25800718,  0.38743555],\n",
       "       [-0.13502194, -1.94353228,  0.47478575],\n",
       "       [-0.28598129,  0.80954964, -0.32079079]])"
      ]
     },
     "execution_count": 82,
     "metadata": {},
     "output_type": "execute_result"
    }
   ],
   "source": [
    "# Using PCA to reduce dimension to three principal components.\n",
    "pca = PCA(n_components=3)\n",
    "new_pca = pca.fit_transform(new_crypto_scaled)\n",
    "new_pca"
   ]
  },
  {
   "cell_type": "code",
   "execution_count": 83,
   "metadata": {},
   "outputs": [
    {
     "data": {
      "text/html": [
       "<div>\n",
       "<style scoped>\n",
       "    .dataframe tbody tr th:only-of-type {\n",
       "        vertical-align: middle;\n",
       "    }\n",
       "\n",
       "    .dataframe tbody tr th {\n",
       "        vertical-align: top;\n",
       "    }\n",
       "\n",
       "    .dataframe thead th {\n",
       "        text-align: right;\n",
       "    }\n",
       "</style>\n",
       "<table border=\"1\" class=\"dataframe\">\n",
       "  <thead>\n",
       "    <tr style=\"text-align: right;\">\n",
       "      <th></th>\n",
       "      <th>PC 1</th>\n",
       "      <th>PC 2</th>\n",
       "      <th>PC 3</th>\n",
       "    </tr>\n",
       "  </thead>\n",
       "  <tbody>\n",
       "    <tr>\n",
       "      <th>0</th>\n",
       "      <td>-0.330914</td>\n",
       "      <td>0.974815</td>\n",
       "      <td>-0.537611</td>\n",
       "    </tr>\n",
       "    <tr>\n",
       "      <th>2</th>\n",
       "      <td>-0.314254</td>\n",
       "      <td>0.974895</td>\n",
       "      <td>-0.537924</td>\n",
       "    </tr>\n",
       "    <tr>\n",
       "      <th>5</th>\n",
       "      <td>2.303741</td>\n",
       "      <td>1.574837</td>\n",
       "      <td>-0.522953</td>\n",
       "    </tr>\n",
       "    <tr>\n",
       "      <th>7</th>\n",
       "      <td>-0.145798</td>\n",
       "      <td>-1.299020</td>\n",
       "      <td>0.186292</td>\n",
       "    </tr>\n",
       "    <tr>\n",
       "      <th>8</th>\n",
       "      <td>-0.150199</td>\n",
       "      <td>-2.004917</td>\n",
       "      <td>0.356090</td>\n",
       "    </tr>\n",
       "  </tbody>\n",
       "</table>\n",
       "</div>"
      ],
      "text/plain": [
       "       PC 1      PC 2      PC 3\n",
       "0 -0.330914  0.974815 -0.537611\n",
       "2 -0.314254  0.974895 -0.537924\n",
       "5  2.303741  1.574837 -0.522953\n",
       "7 -0.145798 -1.299020  0.186292\n",
       "8 -0.150199 -2.004917  0.356090"
      ]
     },
     "execution_count": 83,
     "metadata": {},
     "output_type": "execute_result"
    }
   ],
   "source": [
    "# Create a DataFrame with the three principal components.\n",
    "new_pca_df = pd.DataFrame(data=new_pca, columns=['PC 1', 'PC 2', 'PC 3'], index = noname_crypto_df.index)\n",
    "new_pca_df.head()"
   ]
  },
  {
   "cell_type": "markdown",
   "metadata": {},
   "source": [
    "### Deliverable 3: Clustering Crytocurrencies Using K-Means\n",
    "\n",
    "#### Finding the Best Value for `k` Using the Elbow Curve"
   ]
  },
  {
   "cell_type": "code",
   "execution_count": 84,
   "metadata": {},
   "outputs": [
    {
     "name": "stderr",
     "output_type": "stream",
     "text": [
      "C:\\Users\\jbrad\\anaconda3\\envs\\PythonData\\lib\\site-packages\\sklearn\\cluster\\_kmeans.py:1037: UserWarning:\n",
      "\n",
      "KMeans is known to have a memory leak on Windows with MKL, when there are less chunks than available threads. You can avoid it by setting the environment variable OMP_NUM_THREADS=3.\n",
      "\n"
     ]
    },
    {
     "data": {},
     "metadata": {},
     "output_type": "display_data"
    },
    {
     "data": {
      "application/vnd.holoviews_exec.v0+json": "",
      "text/html": [
       "<div id='2386'>\n",
       "\n",
       "\n",
       "\n",
       "\n",
       "\n",
       "  <div class=\"bk-root\" id=\"0ef85bbf-0174-41a4-8139-61ed01bad8b5\" data-root-id=\"2386\"></div>\n",
       "</div>\n",
       "<script type=\"application/javascript\">(function(root) {\n",
       "  function embed_document(root) {\n",
       "    var docs_json = {\"f60fed03-1faf-4037-8e5a-c214c2b3fec1\":{\"defs\":[{\"extends\":null,\"module\":null,\"name\":\"ReactiveHTML1\",\"overrides\":[],\"properties\":[]},{\"extends\":null,\"module\":null,\"name\":\"FlexBox1\",\"overrides\":[],\"properties\":[{\"default\":\"flex-start\",\"kind\":null,\"name\":\"align_content\"},{\"default\":\"flex-start\",\"kind\":null,\"name\":\"align_items\"},{\"default\":\"row\",\"kind\":null,\"name\":\"flex_direction\"},{\"default\":\"wrap\",\"kind\":null,\"name\":\"flex_wrap\"},{\"default\":\"flex-start\",\"kind\":null,\"name\":\"justify_content\"}]},{\"extends\":null,\"module\":null,\"name\":\"GridStack1\",\"overrides\":[],\"properties\":[{\"default\":\"warn\",\"kind\":null,\"name\":\"mode\"},{\"default\":null,\"kind\":null,\"name\":\"ncols\"},{\"default\":null,\"kind\":null,\"name\":\"nrows\"},{\"default\":true,\"kind\":null,\"name\":\"allow_resize\"},{\"default\":true,\"kind\":null,\"name\":\"allow_drag\"},{\"default\":[],\"kind\":null,\"name\":\"state\"}]},{\"extends\":null,\"module\":null,\"name\":\"click1\",\"overrides\":[],\"properties\":[{\"default\":\"\",\"kind\":null,\"name\":\"terminal_output\"},{\"default\":\"\",\"kind\":null,\"name\":\"debug_name\"},{\"default\":0,\"kind\":null,\"name\":\"clears\"}]},{\"extends\":null,\"module\":null,\"name\":\"TemplateActions1\",\"overrides\":[],\"properties\":[{\"default\":0,\"kind\":null,\"name\":\"open_modal\"},{\"default\":0,\"kind\":null,\"name\":\"close_modal\"}]},{\"extends\":null,\"module\":null,\"name\":\"MaterialTemplateActions1\",\"overrides\":[],\"properties\":[{\"default\":0,\"kind\":null,\"name\":\"open_modal\"},{\"default\":0,\"kind\":null,\"name\":\"close_modal\"}]}],\"roots\":{\"references\":[{\"attributes\":{\"axis\":{\"id\":\"2400\"},\"coordinates\":null,\"grid_line_color\":null,\"group\":null,\"ticker\":null},\"id\":\"2403\",\"type\":\"Grid\"},{\"attributes\":{\"source\":{\"id\":\"2421\"}},\"id\":\"2428\",\"type\":\"CDSView\"},{\"attributes\":{},\"id\":\"2405\",\"type\":\"BasicTicker\"},{\"attributes\":{\"axis_label\":\"inertia\",\"coordinates\":null,\"formatter\":{\"id\":\"2437\"},\"group\":null,\"major_label_policy\":{\"id\":\"2438\"},\"ticker\":{\"id\":\"2405\"}},\"id\":\"2404\",\"type\":\"LinearAxis\"},{\"attributes\":{},\"id\":\"2398\",\"type\":\"LinearScale\"},{\"attributes\":{},\"id\":\"2445\",\"type\":\"UnionRenderers\"},{\"attributes\":{\"children\":[{\"id\":\"2387\"},{\"id\":\"2391\"},{\"id\":\"2457\"}],\"margin\":[0,0,0,0],\"name\":\"Row04433\",\"tags\":[\"embedded\"]},\"id\":\"2386\",\"type\":\"Row\"},{\"attributes\":{\"axis\":{\"id\":\"2404\"},\"coordinates\":null,\"dimension\":1,\"grid_line_color\":null,\"group\":null,\"ticker\":null},\"id\":\"2407\",\"type\":\"Grid\"},{\"attributes\":{},\"id\":\"2438\",\"type\":\"AllLabels\"},{\"attributes\":{\"line_color\":\"#30a2da\",\"line_width\":2,\"x\":{\"field\":\"k\"},\"y\":{\"field\":\"inertia\"}},\"id\":\"2424\",\"type\":\"Line\"},{\"attributes\":{\"margin\":[5,5,5,5],\"name\":\"HSpacer04437\",\"sizing_mode\":\"stretch_width\"},\"id\":\"2387\",\"type\":\"Spacer\"},{\"attributes\":{},\"id\":\"2437\",\"type\":\"BasicTickFormatter\"},{\"attributes\":{\"below\":[{\"id\":\"2400\"}],\"center\":[{\"id\":\"2403\"},{\"id\":\"2407\"}],\"height\":300,\"left\":[{\"id\":\"2404\"}],\"margin\":[5,5,5,5],\"min_border_bottom\":10,\"min_border_left\":10,\"min_border_right\":10,\"min_border_top\":10,\"renderers\":[{\"id\":\"2427\"}],\"sizing_mode\":\"fixed\",\"title\":{\"id\":\"2392\"},\"toolbar\":{\"id\":\"2414\"},\"width\":700,\"x_range\":{\"id\":\"2388\"},\"x_scale\":{\"id\":\"2396\"},\"y_range\":{\"id\":\"2389\"},\"y_scale\":{\"id\":\"2398\"}},\"id\":\"2391\",\"subtype\":\"Figure\",\"type\":\"Plot\"},{\"attributes\":{\"margin\":[5,5,5,5],\"name\":\"HSpacer04438\",\"sizing_mode\":\"stretch_width\"},\"id\":\"2457\",\"type\":\"Spacer\"},{\"attributes\":{\"data\":{\"inertia\":{\"__ndarray__\":\"Oqc2xHhvrEBcJLdPt1KjQDI5I74PUpdAZXU83MIggEDy7SvZpbt1QLFMJzd013FAtl1l3aNUbEALel66USJmQB6tn3PrZWFAXIy8QMODXEA=\",\"dtype\":\"float64\",\"order\":\"little\",\"shape\":[10]},\"k\":[1,2,3,4,5,6,7,8,9,10]},\"selected\":{\"id\":\"2422\"},\"selection_policy\":{\"id\":\"2445\"}},\"id\":\"2421\",\"type\":\"ColumnDataSource\"},{\"attributes\":{},\"id\":\"2422\",\"type\":\"Selection\"},{\"attributes\":{\"end\":10.0,\"reset_end\":10.0,\"reset_start\":1.0,\"start\":1.0,\"tags\":[[[\"k\",\"k\",null]]]},\"id\":\"2388\",\"type\":\"Range1d\"},{\"attributes\":{\"coordinates\":null,\"data_source\":{\"id\":\"2421\"},\"glyph\":{\"id\":\"2424\"},\"group\":null,\"hover_glyph\":null,\"muted_glyph\":{\"id\":\"2426\"},\"nonselection_glyph\":{\"id\":\"2425\"},\"selection_glyph\":{\"id\":\"2429\"},\"view\":{\"id\":\"2428\"}},\"id\":\"2427\",\"type\":\"GlyphRenderer\"},{\"attributes\":{\"line_color\":\"#30a2da\",\"line_width\":2,\"x\":{\"field\":\"k\"},\"y\":{\"field\":\"inertia\"}},\"id\":\"2429\",\"type\":\"Line\"},{\"attributes\":{\"bottom_units\":\"screen\",\"coordinates\":null,\"fill_alpha\":0.5,\"fill_color\":\"lightgrey\",\"group\":null,\"left_units\":\"screen\",\"level\":\"overlay\",\"line_alpha\":1.0,\"line_color\":\"black\",\"line_dash\":[4,4],\"line_width\":2,\"right_units\":\"screen\",\"syncable\":false,\"top_units\":\"screen\"},\"id\":\"2413\",\"type\":\"BoxAnnotation\"},{\"attributes\":{},\"id\":\"2408\",\"type\":\"SaveTool\"},{\"attributes\":{\"end\":3992.3035799601475,\"reset_end\":3992.3035799601475,\"reset_start\":-238.50891568016937,\"start\":-238.50891568016937,\"tags\":[[[\"inertia\",\"inertia\",null]]]},\"id\":\"2389\",\"type\":\"Range1d\"},{\"attributes\":{},\"id\":\"2409\",\"type\":\"PanTool\"},{\"attributes\":{},\"id\":\"2396\",\"type\":\"LinearScale\"},{\"attributes\":{},\"id\":\"2412\",\"type\":\"ResetTool\"},{\"attributes\":{\"line_alpha\":0.1,\"line_color\":\"#30a2da\",\"line_width\":2,\"x\":{\"field\":\"k\"},\"y\":{\"field\":\"inertia\"}},\"id\":\"2425\",\"type\":\"Line\"},{\"attributes\":{\"callback\":null,\"renderers\":[{\"id\":\"2427\"}],\"tags\":[\"hv_created\"],\"tooltips\":[[\"k\",\"@{k}\"],[\"inertia\",\"@{inertia}\"]]},\"id\":\"2390\",\"type\":\"HoverTool\"},{\"attributes\":{},\"id\":\"2410\",\"type\":\"WheelZoomTool\"},{\"attributes\":{\"ticks\":[1,2,3,4,5,6,7,8,9,10]},\"id\":\"2430\",\"type\":\"FixedTicker\"},{\"attributes\":{\"tools\":[{\"id\":\"2390\"},{\"id\":\"2408\"},{\"id\":\"2409\"},{\"id\":\"2410\"},{\"id\":\"2411\"},{\"id\":\"2412\"}]},\"id\":\"2414\",\"type\":\"Toolbar\"},{\"attributes\":{\"overlay\":{\"id\":\"2413\"}},\"id\":\"2411\",\"type\":\"BoxZoomTool\"},{\"attributes\":{\"line_alpha\":0.2,\"line_color\":\"#30a2da\",\"line_width\":2,\"x\":{\"field\":\"k\"},\"y\":{\"field\":\"inertia\"}},\"id\":\"2426\",\"type\":\"Line\"},{\"attributes\":{\"axis_label\":\"k\",\"coordinates\":null,\"formatter\":{\"id\":\"2432\"},\"group\":null,\"major_label_policy\":{\"id\":\"2433\"},\"ticker\":{\"id\":\"2430\"}},\"id\":\"2400\",\"type\":\"LinearAxis\"},{\"attributes\":{},\"id\":\"2432\",\"type\":\"BasicTickFormatter\"},{\"attributes\":{},\"id\":\"2433\",\"type\":\"AllLabels\"},{\"attributes\":{\"coordinates\":null,\"group\":null,\"text\":\"Crypto Elbow Curve\",\"text_color\":\"black\",\"text_font_size\":\"12pt\"},\"id\":\"2392\",\"type\":\"Title\"}],\"root_ids\":[\"2386\"]},\"title\":\"Bokeh Application\",\"version\":\"2.4.2\"}};\n",
       "    var render_items = [{\"docid\":\"f60fed03-1faf-4037-8e5a-c214c2b3fec1\",\"root_ids\":[\"2386\"],\"roots\":{\"2386\":\"0ef85bbf-0174-41a4-8139-61ed01bad8b5\"}}];\n",
       "    root.Bokeh.embed.embed_items_notebook(docs_json, render_items);\n",
       "  }\n",
       "  if (root.Bokeh !== undefined && root.Bokeh.Panel !== undefined) {\n",
       "    embed_document(root);\n",
       "  } else {\n",
       "    var attempts = 0;\n",
       "    var timer = setInterval(function(root) {\n",
       "      if (root.Bokeh !== undefined && root.Bokeh.Panel !== undefined) {\n",
       "        clearInterval(timer);\n",
       "        embed_document(root);\n",
       "      } else if (document.readyState == \"complete\") {\n",
       "        attempts++;\n",
       "        if (attempts > 200) {\n",
       "          clearInterval(timer);\n",
       "          console.log(\"Bokeh: ERROR: Unable to run BokehJS code because BokehJS library is missing\");\n",
       "        }\n",
       "      }\n",
       "    }, 25, root)\n",
       "  }\n",
       "})(window);</script>"
      ],
      "text/plain": [
       ":Curve   [k]   (inertia)"
      ]
     },
     "execution_count": 84,
     "metadata": {
      "application/vnd.holoviews_exec.v0+json": {
       "id": "2386"
      }
     },
     "output_type": "execute_result"
    }
   ],
   "source": [
    "# Create an elbow curve to find the best value for K.\n",
    "inertia = []\n",
    "k = list(range(1, 11))\n",
    "for i in k:\n",
    "    km = KMeans(n_clusters=i, random_state=0)\n",
    "    km.fit(new_pca_df)\n",
    "    inertia.append(km.inertia_)\n",
    "    \n",
    "elbow_data = {'k': k, 'inertia': inertia}\n",
    "crypto_elbow_df = pd.DataFrame(elbow_data)\n",
    "crypto_elbow_df.hvplot.line(x='k', y='inertia', title='Crypto Elbow Curve', xticks=k)\n"
   ]
  },
  {
   "cell_type": "markdown",
   "metadata": {},
   "source": [
    "Running K-Means with `k=4`"
   ]
  },
  {
   "cell_type": "code",
   "execution_count": 85,
   "metadata": {},
   "outputs": [
    {
     "data": {
      "text/plain": [
       "array([0, 0, 0, 3, 3, 3, 0, 3, 3, 3, 0, 3, 0, 0, 3, 0, 3, 3, 0, 0, 3, 3,\n",
       "       3, 3, 3, 0, 3, 3, 3, 0, 3, 0, 3, 3, 0, 0, 3, 3, 3, 3, 3, 3, 0, 0,\n",
       "       3, 3, 3, 3, 3, 0, 0, 3, 0, 3, 3, 3, 3, 0, 3, 3, 0, 3, 0, 0, 0, 3,\n",
       "       3, 3, 0, 0, 0, 0, 0, 3, 3, 3, 0, 0, 3, 0, 3, 0, 0, 3, 3, 3, 3, 0,\n",
       "       0, 3, 0, 3, 3, 0, 0, 3, 0, 0, 3, 3, 0, 0, 3, 0, 0, 3, 0, 3, 0, 3,\n",
       "       0, 3, 0, 0, 3, 3, 0, 3, 3, 3, 0, 3, 3, 3, 3, 3, 0, 0, 3, 3, 3, 0,\n",
       "       3, 0, 3, 3, 0, 3, 0, 3, 0, 0, 3, 3, 0, 3, 3, 0, 0, 3, 0, 3, 0, 0,\n",
       "       0, 3, 3, 3, 3, 0, 0, 0, 0, 0, 3, 3, 0, 0, 0, 0, 0, 3, 0, 0, 0, 0,\n",
       "       0, 3, 0, 3, 0, 0, 3, 0, 3, 0, 0, 3, 0, 3, 0, 3, 0, 3, 0, 0, 0, 0,\n",
       "       3, 0, 0, 0, 0, 0, 3, 3, 0, 0, 3, 3, 0, 0, 0, 0, 0, 3, 0, 0, 0, 0,\n",
       "       0, 0, 0, 0, 3, 0, 0, 0, 0, 0, 0, 3, 3, 3, 0, 0, 0, 0, 3, 0, 3, 0,\n",
       "       0, 3, 0, 3, 3, 0, 3, 3, 0, 3, 0, 0, 0, 3, 0, 0, 3, 0, 0, 0, 0, 0,\n",
       "       0, 0, 3, 0, 3, 0, 0, 0, 0, 3, 0, 3, 0, 3, 3, 3, 3, 0, 3, 0, 0, 3,\n",
       "       0, 3, 3, 3, 0, 3, 0, 3, 3, 3, 0, 3, 0, 3, 0, 0, 1, 3, 0, 3, 3, 3,\n",
       "       3, 3, 0, 0, 3, 0, 0, 0, 3, 0, 3, 0, 3, 0, 3, 0, 0, 0, 0, 3, 0, 0,\n",
       "       3, 0, 0, 0, 3, 3, 3, 3, 0, 0, 0, 0, 3, 0, 3, 3, 3, 0, 0, 3, 3, 0,\n",
       "       0, 3, 0, 3, 3, 3, 0, 3, 3, 0, 0, 0, 3, 3, 3, 0, 0, 0, 3, 3, 0, 3,\n",
       "       3, 3, 3, 0, 1, 1, 3, 3, 3, 0, 1, 0, 0, 0, 0, 3, 3, 3, 3, 0, 0, 0,\n",
       "       3, 0, 3, 0, 0, 0, 0, 3, 0, 0, 3, 0, 0, 3, 3, 0, 3, 0, 3, 3, 3, 3,\n",
       "       0, 0, 3, 0, 3, 0, 0, 0, 0, 0, 0, 3, 3, 3, 0, 0, 0, 0, 0, 0, 3, 0,\n",
       "       3, 3, 3, 3, 0, 0, 0, 0, 3, 0, 0, 3, 0, 0, 3, 1, 3, 0, 3, 3, 0, 0,\n",
       "       3, 0, 3, 3, 0, 3, 3, 0, 3, 0, 3, 0, 0, 3, 0, 0, 0, 0, 0, 3, 3, 3,\n",
       "       0, 0, 0, 3, 0, 3, 0, 3, 0, 0, 0, 0, 3, 0, 0, 0, 3, 0, 3, 0, 3, 0,\n",
       "       0, 0, 3, 3, 0, 0, 0, 0, 0, 0, 3, 0, 3, 0, 3, 0, 0, 0, 0, 2, 0, 0,\n",
       "       0, 3, 3, 0])"
      ]
     },
     "execution_count": 85,
     "metadata": {},
     "output_type": "execute_result"
    }
   ],
   "source": [
    "# Initialize the K-Means model.\n",
    "crypto_model = KMeans(n_clusters=4, random_state=0)\n",
    "\n",
    "# Fit the model\n",
    "crypto_model.fit(new_pca_df)\n",
    "\n",
    "# Predict clusters\n",
    "predictions = crypto_model.predict(new_pca_df)\n",
    "\n",
    "predictions"
   ]
  },
  {
   "cell_type": "code",
   "execution_count": 86,
   "metadata": {},
   "outputs": [
    {
     "name": "stdout",
     "output_type": "stream",
     "text": [
      "(532, 9)\n"
     ]
    },
    {
     "data": {
      "text/html": [
       "<div>\n",
       "<style scoped>\n",
       "    .dataframe tbody tr th:only-of-type {\n",
       "        vertical-align: middle;\n",
       "    }\n",
       "\n",
       "    .dataframe tbody tr th {\n",
       "        vertical-align: top;\n",
       "    }\n",
       "\n",
       "    .dataframe thead th {\n",
       "        text-align: right;\n",
       "    }\n",
       "</style>\n",
       "<table border=\"1\" class=\"dataframe\">\n",
       "  <thead>\n",
       "    <tr style=\"text-align: right;\">\n",
       "      <th></th>\n",
       "      <th>Algorithm</th>\n",
       "      <th>ProofType</th>\n",
       "      <th>TotalCoinsMined</th>\n",
       "      <th>TotalCoinSupply</th>\n",
       "      <th>PC 1</th>\n",
       "      <th>PC 2</th>\n",
       "      <th>PC 3</th>\n",
       "      <th>CoinName</th>\n",
       "      <th>Class</th>\n",
       "    </tr>\n",
       "  </thead>\n",
       "  <tbody>\n",
       "    <tr>\n",
       "      <th>0</th>\n",
       "      <td>Scrypt</td>\n",
       "      <td>PoW/PoS</td>\n",
       "      <td>4.199995e+01</td>\n",
       "      <td>42</td>\n",
       "      <td>-0.330914</td>\n",
       "      <td>0.974815</td>\n",
       "      <td>-0.537611</td>\n",
       "      <td>42 Coin</td>\n",
       "      <td>0</td>\n",
       "    </tr>\n",
       "    <tr>\n",
       "      <th>2</th>\n",
       "      <td>Scrypt</td>\n",
       "      <td>PoW/PoS</td>\n",
       "      <td>1.055185e+09</td>\n",
       "      <td>532000000</td>\n",
       "      <td>-0.314254</td>\n",
       "      <td>0.974895</td>\n",
       "      <td>-0.537924</td>\n",
       "      <td>404Coin</td>\n",
       "      <td>0</td>\n",
       "    </tr>\n",
       "    <tr>\n",
       "      <th>5</th>\n",
       "      <td>X13</td>\n",
       "      <td>PoW/PoS</td>\n",
       "      <td>2.927942e+10</td>\n",
       "      <td>314159265359</td>\n",
       "      <td>2.303741</td>\n",
       "      <td>1.574837</td>\n",
       "      <td>-0.522953</td>\n",
       "      <td>EliteCoin</td>\n",
       "      <td>0</td>\n",
       "    </tr>\n",
       "    <tr>\n",
       "      <th>7</th>\n",
       "      <td>SHA-256</td>\n",
       "      <td>PoW</td>\n",
       "      <td>1.792718e+07</td>\n",
       "      <td>21000000</td>\n",
       "      <td>-0.145798</td>\n",
       "      <td>-1.299020</td>\n",
       "      <td>0.186292</td>\n",
       "      <td>Bitcoin</td>\n",
       "      <td>3</td>\n",
       "    </tr>\n",
       "    <tr>\n",
       "      <th>8</th>\n",
       "      <td>Ethash</td>\n",
       "      <td>PoW</td>\n",
       "      <td>1.076842e+08</td>\n",
       "      <td>0</td>\n",
       "      <td>-0.150199</td>\n",
       "      <td>-2.004917</td>\n",
       "      <td>0.356090</td>\n",
       "      <td>Ethereum</td>\n",
       "      <td>3</td>\n",
       "    </tr>\n",
       "    <tr>\n",
       "      <th>9</th>\n",
       "      <td>Scrypt</td>\n",
       "      <td>PoW</td>\n",
       "      <td>6.303924e+07</td>\n",
       "      <td>84000000</td>\n",
       "      <td>-0.161889</td>\n",
       "      <td>-1.148667</td>\n",
       "      <td>-0.035534</td>\n",
       "      <td>Litecoin</td>\n",
       "      <td>3</td>\n",
       "    </tr>\n",
       "    <tr>\n",
       "      <th>10</th>\n",
       "      <td>X11</td>\n",
       "      <td>PoW/PoS</td>\n",
       "      <td>9.031294e+06</td>\n",
       "      <td>22000000</td>\n",
       "      <td>-0.399639</td>\n",
       "      <td>1.206023</td>\n",
       "      <td>-0.407103</td>\n",
       "      <td>Dash</td>\n",
       "      <td>0</td>\n",
       "    </tr>\n",
       "    <tr>\n",
       "      <th>11</th>\n",
       "      <td>CryptoNight-V7</td>\n",
       "      <td>PoW</td>\n",
       "      <td>1.720114e+07</td>\n",
       "      <td>0</td>\n",
       "      <td>-0.146992</td>\n",
       "      <td>-2.190521</td>\n",
       "      <td>0.361217</td>\n",
       "      <td>Monero</td>\n",
       "      <td>3</td>\n",
       "    </tr>\n",
       "    <tr>\n",
       "      <th>12</th>\n",
       "      <td>Ethash</td>\n",
       "      <td>PoW</td>\n",
       "      <td>1.133597e+08</td>\n",
       "      <td>210000000</td>\n",
       "      <td>-0.148642</td>\n",
       "      <td>-2.005024</td>\n",
       "      <td>0.356086</td>\n",
       "      <td>Ethereum Classic</td>\n",
       "      <td>3</td>\n",
       "    </tr>\n",
       "    <tr>\n",
       "      <th>13</th>\n",
       "      <td>Equihash</td>\n",
       "      <td>PoW</td>\n",
       "      <td>7.383056e+06</td>\n",
       "      <td>21000000</td>\n",
       "      <td>-0.135021</td>\n",
       "      <td>-1.943532</td>\n",
       "      <td>0.474786</td>\n",
       "      <td>ZCash</td>\n",
       "      <td>3</td>\n",
       "    </tr>\n",
       "  </tbody>\n",
       "</table>\n",
       "</div>"
      ],
      "text/plain": [
       "         Algorithm ProofType  TotalCoinsMined TotalCoinSupply      PC 1  \\\n",
       "0           Scrypt   PoW/PoS     4.199995e+01              42 -0.330914   \n",
       "2           Scrypt   PoW/PoS     1.055185e+09       532000000 -0.314254   \n",
       "5              X13   PoW/PoS     2.927942e+10    314159265359  2.303741   \n",
       "7          SHA-256       PoW     1.792718e+07        21000000 -0.145798   \n",
       "8           Ethash       PoW     1.076842e+08               0 -0.150199   \n",
       "9           Scrypt       PoW     6.303924e+07        84000000 -0.161889   \n",
       "10             X11   PoW/PoS     9.031294e+06        22000000 -0.399639   \n",
       "11  CryptoNight-V7       PoW     1.720114e+07               0 -0.146992   \n",
       "12          Ethash       PoW     1.133597e+08       210000000 -0.148642   \n",
       "13        Equihash       PoW     7.383056e+06        21000000 -0.135021   \n",
       "\n",
       "        PC 2      PC 3          CoinName  Class  \n",
       "0   0.974815 -0.537611           42 Coin      0  \n",
       "2   0.974895 -0.537924           404Coin      0  \n",
       "5   1.574837 -0.522953         EliteCoin      0  \n",
       "7  -1.299020  0.186292           Bitcoin      3  \n",
       "8  -2.004917  0.356090          Ethereum      3  \n",
       "9  -1.148667 -0.035534          Litecoin      3  \n",
       "10  1.206023 -0.407103              Dash      0  \n",
       "11 -2.190521  0.361217            Monero      3  \n",
       "12 -2.005024  0.356086  Ethereum Classic      3  \n",
       "13 -1.943532  0.474786             ZCash      3  "
      ]
     },
     "execution_count": 86,
     "metadata": {},
     "output_type": "execute_result"
    }
   ],
   "source": [
    "# Create a new DataFrame including predicted clusters and cryptocurrencies features.\n",
    "# Concatentate the crypto_df and pcs_df DataFrames on the same columns.\n",
    "crypto_clustered_df = pd.concat([noname_crypto_df, new_pca_df], axis=1)\n",
    "\n",
    "#  Add a new column, \"CoinName\" to the clustered_df DataFrame that holds the names of the cryptocurrencies. \n",
    "crypto_clustered_df['CoinName'] = crypto_names_df\n",
    "\n",
    "#  Add a new column, \"Class\" to the clustered_df DataFrame that holds the predictions.\n",
    "crypto_clustered_df['Class'] = predictions\n",
    "\n",
    "# Print the shape of the clustered_df\n",
    "print(crypto_clustered_df.shape)\n",
    "crypto_clustered_df.head(10)"
   ]
  },
  {
   "cell_type": "markdown",
   "metadata": {},
   "source": [
    "### Deliverable 4: Visualizing Cryptocurrencies Results\n",
    "\n",
    "#### 3D-Scatter with Clusters"
   ]
  },
  {
   "cell_type": "code",
   "execution_count": 87,
   "metadata": {},
   "outputs": [
    {
     "data": {
      "application/vnd.plotly.v1+json": {
       "config": {
        "plotlyServerURL": "https://plot.ly"
       },
       "data": [
        {
         "customdata": [
          [
           "Scrypt"
          ],
          [
           "Scrypt"
          ],
          [
           "X13"
          ],
          [
           "X11"
          ],
          [
           "SHA-512"
          ],
          [
           "SHA-256"
          ],
          [
           "SHA-256"
          ],
          [
           "X15"
          ],
          [
           "Scrypt"
          ],
          [
           "Scrypt"
          ],
          [
           "Scrypt"
          ],
          [
           "Scrypt"
          ],
          [
           "Scrypt"
          ],
          [
           "Scrypt"
          ],
          [
           "Groestl"
          ],
          [
           "PoS"
          ],
          [
           "Scrypt"
          ],
          [
           "Scrypt"
          ],
          [
           "X11"
          ],
          [
           "X11"
          ],
          [
           "SHA3"
          ],
          [
           "Scrypt"
          ],
          [
           "SHA-256"
          ],
          [
           "Scrypt"
          ],
          [
           "X13"
          ],
          [
           "X13"
          ],
          [
           "NeoScrypt"
          ],
          [
           "Scrypt"
          ],
          [
           "Scrypt"
          ],
          [
           "Scrypt"
          ],
          [
           "X11"
          ],
          [
           "X11"
          ],
          [
           "Multiple"
          ],
          [
           "PHI1612"
          ],
          [
           "X11"
          ],
          [
           "Scrypt"
          ],
          [
           "Scrypt"
          ],
          [
           "Scrypt"
          ],
          [
           "X11"
          ],
          [
           "Multiple"
          ],
          [
           "X13"
          ],
          [
           "Scrypt"
          ],
          [
           "Shabal256"
          ],
          [
           "Counterparty"
          ],
          [
           "SHA-256"
          ],
          [
           "Groestl"
          ],
          [
           "Scrypt"
          ],
          [
           "X13"
          ],
          [
           "Scrypt"
          ],
          [
           "Scrypt"
          ],
          [
           "X13"
          ],
          [
           "X11"
          ],
          [
           "Scrypt"
          ],
          [
           "X11"
          ],
          [
           "SHA3"
          ],
          [
           "QUAIT"
          ],
          [
           "X11"
          ],
          [
           "Scrypt"
          ],
          [
           "X13"
          ],
          [
           "SHA-256"
          ],
          [
           "X15"
          ],
          [
           "BLAKE256"
          ],
          [
           "SHA-256"
          ],
          [
           "X11"
          ],
          [
           "SHA-256"
          ],
          [
           "NIST5"
          ],
          [
           "Scrypt"
          ],
          [
           "Scrypt"
          ],
          [
           "X11"
          ],
          [
           "Scrypt"
          ],
          [
           "SHA-256"
          ],
          [
           "Scrypt"
          ],
          [
           "PoS"
          ],
          [
           "X11"
          ],
          [
           "SHA-256"
          ],
          [
           "SHA-256"
          ],
          [
           "NIST5"
          ],
          [
           "X11"
          ],
          [
           "POS 3.0"
          ],
          [
           "Scrypt"
          ],
          [
           "Scrypt"
          ],
          [
           "Scrypt"
          ],
          [
           "X13"
          ],
          [
           "X11"
          ],
          [
           "X11"
          ],
          [
           "Scrypt"
          ],
          [
           "SHA-256"
          ],
          [
           "X11"
          ],
          [
           "Scrypt"
          ],
          [
           "Scrypt"
          ],
          [
           "Scrypt"
          ],
          [
           "Scrypt"
          ],
          [
           "SHA-256D"
          ],
          [
           "PoS"
          ],
          [
           "Scrypt"
          ],
          [
           "X11"
          ],
          [
           "PoS"
          ],
          [
           "X13"
          ],
          [
           "X14"
          ],
          [
           "PoS"
          ],
          [
           "SHA-256D"
          ],
          [
           "DPoS"
          ],
          [
           "X11"
          ],
          [
           "X13"
          ],
          [
           "X11"
          ],
          [
           "PoS"
          ],
          [
           "Scrypt"
          ],
          [
           "Scrypt"
          ],
          [
           "PoS"
          ],
          [
           "X11"
          ],
          [
           "SHA-256"
          ],
          [
           "Scrypt"
          ],
          [
           "X11"
          ],
          [
           "Scrypt"
          ],
          [
           "Scrypt"
          ],
          [
           "X11"
          ],
          [
           "Scrypt"
          ],
          [
           "Scrypt"
          ],
          [
           "Scrypt"
          ],
          [
           "Scrypt"
          ],
          [
           "Quark"
          ],
          [
           "QuBit"
          ],
          [
           "Scrypt"
          ],
          [
           "SHA-256"
          ],
          [
           "X11"
          ],
          [
           "Scrypt"
          ],
          [
           "Scrypt"
          ],
          [
           "Scrypt"
          ],
          [
           "Scrypt"
          ],
          [
           "X13"
          ],
          [
           "Scrypt"
          ],
          [
           "Scrypt"
          ],
          [
           "X11"
          ],
          [
           "Blake2S"
          ],
          [
           "X11"
          ],
          [
           "PoS"
          ],
          [
           "X11"
          ],
          [
           "PoS"
          ],
          [
           "X11"
          ],
          [
           "Scrypt"
          ],
          [
           "Scrypt"
          ],
          [
           "Scrypt"
          ],
          [
           "SHA-256"
          ],
          [
           "X11"
          ],
          [
           "Scrypt"
          ],
          [
           "PoS"
          ],
          [
           "Scrypt"
          ],
          [
           "X15"
          ],
          [
           "SHA-256"
          ],
          [
           "POS 3.0"
          ],
          [
           "536"
          ],
          [
           "NIST5"
          ],
          [
           "NIST5"
          ],
          [
           "Skein"
          ],
          [
           "X13"
          ],
          [
           "Scrypt"
          ],
          [
           "X13"
          ],
          [
           "SkunkHash v2 Raptor"
          ],
          [
           "Skein"
          ],
          [
           "X11"
          ],
          [
           "Scrypt"
          ],
          [
           "PoS"
          ],
          [
           "Scrypt"
          ],
          [
           "Scrypt"
          ],
          [
           "SHA-512"
          ],
          [
           "Ouroboros"
          ],
          [
           "X11"
          ],
          [
           "NeoScrypt"
          ],
          [
           "Scrypt"
          ],
          [
           "Lyra2REv2"
          ],
          [
           "Scrypt"
          ],
          [
           "SHA-256"
          ],
          [
           "NIST5"
          ],
          [
           "PHI1612"
          ],
          [
           "Scrypt"
          ],
          [
           "Quark"
          ],
          [
           "POS 2.0"
          ],
          [
           "Scrypt"
          ],
          [
           "SHA-256"
          ],
          [
           "X11"
          ],
          [
           "DPoS"
          ],
          [
           "NIST5"
          ],
          [
           "X13"
          ],
          [
           "Scrypt"
          ],
          [
           "NIST5"
          ],
          [
           "Quark"
          ],
          [
           "Scrypt"
          ],
          [
           "Scrypt"
          ],
          [
           "X11"
          ],
          [
           "Quark"
          ],
          [
           "Scrypt"
          ],
          [
           "Scrypt"
          ],
          [
           "X11"
          ],
          [
           "POS 3.0"
          ],
          [
           "Ethash"
          ],
          [
           "Scrypt"
          ],
          [
           "Scrypt"
          ],
          [
           "X13"
          ],
          [
           "C11"
          ],
          [
           "X11"
          ],
          [
           "XEVAN"
          ],
          [
           "Scrypt"
          ],
          [
           "VBFT"
          ],
          [
           "NIST5"
          ],
          [
           "Scrypt"
          ],
          [
           "Scrypt"
          ],
          [
           "Scrypt"
          ],
          [
           "Green Protocol"
          ],
          [
           "PoS"
          ],
          [
           "Scrypt"
          ],
          [
           "Semux BFT consensus"
          ],
          [
           "Quark"
          ],
          [
           "PoS"
          ],
          [
           "X16R"
          ],
          [
           "Scrypt"
          ],
          [
           "XEVAN"
          ],
          [
           "Scrypt"
          ],
          [
           "Scrypt"
          ],
          [
           "Scrypt"
          ],
          [
           "SHA-256D"
          ],
          [
           "Scrypt"
          ],
          [
           "X15"
          ],
          [
           "Scrypt"
          ],
          [
           "Quark"
          ],
          [
           "SHA-256"
          ],
          [
           "DPoS"
          ],
          [
           "X16R"
          ],
          [
           "Quark"
          ],
          [
           "Quark"
          ],
          [
           "Scrypt"
          ],
          [
           "Lyra2REv2"
          ],
          [
           "Quark"
          ],
          [
           "Scrypt"
          ],
          [
           "X11"
          ],
          [
           "X11"
          ],
          [
           "Scrypt"
          ],
          [
           "PoS"
          ],
          [
           "Keccak"
          ],
          [
           "X11"
          ],
          [
           "Scrypt"
          ],
          [
           "SHA-512"
          ],
          [
           "XEVAN"
          ],
          [
           "XEVAN"
          ],
          [
           "X11"
          ],
          [
           "Quark"
          ],
          [
           "Equihash"
          ],
          [
           "Scrypt"
          ],
          [
           "Quark"
          ],
          [
           "Quark"
          ],
          [
           "Scrypt"
          ],
          [
           "X11"
          ],
          [
           "Scrypt"
          ],
          [
           "XEVAN"
          ],
          [
           "SHA-256D"
          ],
          [
           "X11"
          ],
          [
           "X11"
          ],
          [
           "DPoS"
          ],
          [
           "Scrypt"
          ],
          [
           "X11"
          ],
          [
           "Scrypt"
          ],
          [
           "Scrypt"
          ],
          [
           "SHA-256"
          ],
          [
           "Scrypt"
          ],
          [
           "X11"
          ],
          [
           "Scrypt"
          ],
          [
           "SHA-256"
          ],
          [
           "X11"
          ],
          [
           "Scrypt"
          ],
          [
           "Scrypt"
          ],
          [
           "X11"
          ],
          [
           "Scrypt"
          ],
          [
           "PoS"
          ],
          [
           "X11"
          ],
          [
           "SHA-256"
          ],
          [
           "DPoS"
          ],
          [
           "Scrypt"
          ],
          [
           "Scrypt"
          ],
          [
           "NeoScrypt"
          ],
          [
           "X13"
          ],
          [
           "DPoS"
          ],
          [
           "DPoS"
          ],
          [
           "SHA-256"
          ],
          [
           "Leased POS"
          ],
          [
           "PoS"
          ],
          [
           "PoS"
          ],
          [
           "SHA-256"
          ],
          [
           "Scrypt"
          ],
          [
           "Scrypt"
          ]
         ],
         "hovertemplate": "<b>%{hovertext}</b><br><br>Class=%{marker.color}<br>PC 1=%{x}<br>PC 2=%{y}<br>PC 3=%{z}<br>Algorithm=%{customdata[0]}<extra></extra>",
         "hovertext": [
          "42 Coin",
          "404Coin",
          "EliteCoin",
          "Dash",
          "Bitshares",
          "BitcoinDark",
          "PayCoin",
          "KoboCoin",
          "Aurora Coin",
          "BlueCoin",
          "EnergyCoin",
          "BitBar",
          "CryptoBullion",
          "CasinoCoin",
          "Diamond",
          "Exclusive Coin",
          "FlutterCoin",
          "HoboNickels",
          "HyperStake",
          "IOCoin",
          "MaxCoin",
          "MintCoin",
          "MazaCoin",
          "Nautilus Coin",
          "NavCoin",
          "OpalCoin",
          "Orbitcoin",
          "PotCoin",
          "PhoenixCoin",
          "Reddcoin",
          "SuperCoin",
          "SyncCoin",
          "TeslaCoin",
          "TittieCoin",
          "TorCoin",
          "UnitaryStatus Dollar",
          "UltraCoin",
          "VeriCoin",
          "X11 Coin",
          "Crypti",
          "StealthCoin",
          "ZCC Coin",
          "BurstCoin",
          "StorjCoin",
          "Neutron",
          "FairCoin",
          "RubyCoin",
          "Kore",
          "Dnotes",
          "8BIT Coin",
          "Sativa Coin",
          "Ucoin",
          "Vtorrent",
          "IslaCoin",
          "Nexus",
          "Droidz",
          "Squall Coin",
          "Diggits",
          "Paycon",
          "Emercoin",
          "EverGreenCoin",
          "Decred",
          "EDRCoin",
          "Hitcoin",
          "DubaiCoin",
          "PWR Coin",
          "BillaryCoin",
          "GPU Coin",
          "EuropeCoin",
          "ZeitCoin",
          "SwingCoin",
          "SafeExchangeCoin",
          "Nebuchadnezzar",
          "Ratecoin",
          "Revenu",
          "Clockcoin",
          "VIP Tokens",
          "BitSend",
          "Let it Ride",
          "PutinCoin",
          "iBankCoin",
          "Frankywillcoin",
          "MudraCoin",
          "Lutetium Coin",
          "GoldBlocks",
          "CarterCoin",
          "BitTokens",
          "MustangCoin",
          "ZoneCoin",
          "RootCoin",
          "BitCurrency",
          "Swiscoin",
          "BuzzCoin",
          "Opair",
          "PesoBit",
          "Halloween Coin",
          "CoffeeCoin",
          "RoyalCoin",
          "GanjaCoin V2",
          "TeamUP",
          "LanaCoin",
          "ARK",
          "InsaneCoin",
          "EmberCoin",
          "XenixCoin",
          "FreeCoin",
          "PLNCoin",
          "AquariusCoin",
          "Creatio",
          "Eternity",
          "Eurocoin",
          "BitcoinFast",
          "Stakenet",
          "BitConnect Coin",
          "MoneyCoin",
          "Enigma",
          "Russiacoin",
          "PandaCoin",
          "GameUnits",
          "GAKHcoin",
          "Allsafe",
          "LiteCreed",
          "Klingon Empire Darsek",
          "Internet of People",
          "KushCoin",
          "Printerium",
          "Impeach",
          "Zilbercoin",
          "FirstCoin",
          "FindCoin",
          "OpenChat",
          "RenosCoin",
          "VirtacoinPlus",
          "TajCoin",
          "Impact",
          "Atmos",
          "HappyCoin",
          "MacronCoin",
          "Condensate",
          "Independent Money System",
          "ArgusCoin",
          "LomoCoin",
          "ProCurrency",
          "GoldReserve",
          "GrowthCoin",
          "Phreak",
          "Degas Coin",
          "HTML5 Coin",
          "Ultimate Secure Cash",
          "QTUM",
          "Espers",
          "Denarius",
          "Virta Unique Coin",
          "Bitcoin Planet",
          "BritCoin",
          "Linda",
          "DeepOnion",
          "Signatum",
          "Cream",
          "Monoeci",
          "Draftcoin",
          "Stakecoin",
          "CoinonatX",
          "Ethereum Dark",
          "Obsidian",
          "Cardano",
          "Regalcoin",
          "TrezarCoin",
          "TerraNovaCoin",
          "Rupee",
          "WomenCoin",
          "Theresa May Coin",
          "NamoCoin",
          "LUXCoin",
          "Xios",
          "Bitcloud 2.0",
          "KekCoin",
          "BlackholeCoin",
          "Infinity Economics",
          "Magnet",
          "Lamden Tau",
          "Electra",
          "Bitcoin Diamond",
          "Cash & Back Coin",
          "Bulwark",
          "Kalkulus",
          "GermanCoin",
          "LiteCoin Ultra",
          "PhantomX",
          "Digiwage",
          "Trollcoin",
          "Litecoin Plus",
          "Monkey Project",
          "TokenPay",
          "1717 Masonic Commemorative Token",
          "My Big Coin",
          "Unified Society USDEX",
          "Tokyo Coin",
          "Stipend",
          "Pushi",
          "Ellerium",
          "Velox",
          "Ontology",
          "Bitspace",
          "Briacoin",
          "Ignition",
          "MedicCoin",
          "Bitcoin Green",
          "Deviant Coin",
          "Abjcoin",
          "Semux",
          "Carebit",
          "Zealium",
          "Proton",
          "iDealCash",
          "Bitcoin Incognito",
          "HollyWoodCoin",
          "Swisscoin",
          "Xt3ch",
          "TheVig",
          "EmaratCoin",
          "Dekado",
          "Lynx",
          "Poseidon Quark",
          "BitcoinWSpectrum",
          "Muse",
          "Trivechain",
          "Dystem",
          "Giant",
          "Peony Coin",
          "Absolute Coin",
          "Vitae",
          "TPCash",
          "ARENON",
          "EUNO",
          "MMOCoin",
          "Ketan",
          "XDNA",
          "PAXEX",
          "ThunderStake",
          "Kcash",
          "Bettex coin",
          "BitMoney",
          "Junson Ming Chan Coin",
          "HerbCoin",
          "PirateCash",
          "Oduwa",
          "Galilel",
          "Crypto Sports",
          "Credit",
          "Dash Platinum",
          "Nasdacoin",
          "Beetle Coin",
          "Titan Coin",
          "Award",
          "Insane Coin",
          "ALAX",
          "LiteDoge",
          "TruckCoin",
          "OrangeCoin",
          "BitstarCoin",
          "NeosCoin",
          "HyperCoin",
          "PinkCoin",
          "AudioCoin",
          "IncaKoin",
          "Piggy Coin",
          "Genstake",
          "XiaoMiCoin",
          "CapriCoin",
          " ClubCoin",
          "Radium",
          "Creditbit ",
          "OKCash",
          "Lisk",
          "HiCoin",
          "WhiteCoin",
          "FriendshipCoin",
          "Triangles Coin",
          "EOS",
          "Oxycoin",
          "TigerCash",
          "Waves",
          "Particl",
          "Nxt",
          "ZEPHYR",
          "Gapcoin",
          "BitcoinPlus"
         ],
         "legendgroup": "0",
         "marker": {
          "color": [
           0,
           0,
           0,
           0,
           0,
           0,
           0,
           0,
           0,
           0,
           0,
           0,
           0,
           0,
           0,
           0,
           0,
           0,
           0,
           0,
           0,
           0,
           0,
           0,
           0,
           0,
           0,
           0,
           0,
           0,
           0,
           0,
           0,
           0,
           0,
           0,
           0,
           0,
           0,
           0,
           0,
           0,
           0,
           0,
           0,
           0,
           0,
           0,
           0,
           0,
           0,
           0,
           0,
           0,
           0,
           0,
           0,
           0,
           0,
           0,
           0,
           0,
           0,
           0,
           0,
           0,
           0,
           0,
           0,
           0,
           0,
           0,
           0,
           0,
           0,
           0,
           0,
           0,
           0,
           0,
           0,
           0,
           0,
           0,
           0,
           0,
           0,
           0,
           0,
           0,
           0,
           0,
           0,
           0,
           0,
           0,
           0,
           0,
           0,
           0,
           0,
           0,
           0,
           0,
           0,
           0,
           0,
           0,
           0,
           0,
           0,
           0,
           0,
           0,
           0,
           0,
           0,
           0,
           0,
           0,
           0,
           0,
           0,
           0,
           0,
           0,
           0,
           0,
           0,
           0,
           0,
           0,
           0,
           0,
           0,
           0,
           0,
           0,
           0,
           0,
           0,
           0,
           0,
           0,
           0,
           0,
           0,
           0,
           0,
           0,
           0,
           0,
           0,
           0,
           0,
           0,
           0,
           0,
           0,
           0,
           0,
           0,
           0,
           0,
           0,
           0,
           0,
           0,
           0,
           0,
           0,
           0,
           0,
           0,
           0,
           0,
           0,
           0,
           0,
           0,
           0,
           0,
           0,
           0,
           0,
           0,
           0,
           0,
           0,
           0,
           0,
           0,
           0,
           0,
           0,
           0,
           0,
           0,
           0,
           0,
           0,
           0,
           0,
           0,
           0,
           0,
           0,
           0,
           0,
           0,
           0,
           0,
           0,
           0,
           0,
           0,
           0,
           0,
           0,
           0,
           0,
           0,
           0,
           0,
           0,
           0,
           0,
           0,
           0,
           0,
           0,
           0,
           0,
           0,
           0,
           0,
           0,
           0,
           0,
           0,
           0,
           0,
           0,
           0,
           0,
           0,
           0,
           0,
           0,
           0,
           0,
           0,
           0,
           0,
           0,
           0,
           0,
           0,
           0,
           0,
           0,
           0,
           0,
           0,
           0,
           0,
           0,
           0,
           0,
           0,
           0,
           0,
           0,
           0,
           0,
           0,
           0,
           0,
           0,
           0,
           0,
           0,
           0,
           0,
           0,
           0,
           0,
           0
          ],
          "coloraxis": "coloraxis",
          "symbol": "circle"
         },
         "mode": "markers",
         "name": "0",
         "scene": "scene",
         "showlegend": true,
         "type": "scatter3d",
         "x": [
          -0.33091416248371797,
          -0.31425402932695795,
          2.3037411776819785,
          -0.3996392712060551,
          -0.27187528067324,
          -0.31365355481699836,
          -0.26866584233182206,
          -0.2568055915373655,
          -0.33057380693854127,
          -0.32315132590785184,
          -0.3294107314695935,
          -0.33091010066031623,
          -0.3308943837298298,
          0.6427213371450006,
          -0.3777650002043891,
          -0.3568560849991342,
          -0.28028223711992784,
          -0.32897342038966276,
          -0.33447513239142995,
          -0.3995339671637007,
          -0.4242162428995484,
          -0.025846626720480395,
          -0.2769694903196246,
          -0.2856776416846788,
          -0.27893871249960644,
          -0.27956092231818414,
          -0.3482681454420917,
          -0.3252181056413283,
          -0.3293162985630745,
          0.02722782794591349,
          -0.3543617674114183,
          -0.3999054509153468,
          -0.25171152888543313,
          -0.29746453645954446,
          -0.39981713076827136,
          -0.30615265619929777,
          -0.32959196055508705,
          -0.25114652647206065,
          -0.3997815886207983,
          -0.2521788651563826,
          -0.27934178542827365,
          -0.3220212988420828,
          -0.07306228193237964,
          -0.3371541033856151,
          -0.3128654538534387,
          -0.3771865446668251,
          -0.2856578358614056,
          -0.2796363575545823,
          -0.28031387911940336,
          -0.33089623099597565,
          -0.27958853487535473,
          -0.354806693184671,
          -0.33063069290712765,
          -0.39988697978256554,
          -0.43492855560451094,
          -0.40752881184270057,
          -0.3742200574400428,
          -0.28405977446281916,
          -0.2791103328468784,
          -0.30621421660363213,
          -0.25924573544066326,
          -0.09025685076128784,
          -0.3136244687298505,
          -0.07746173336933422,
          -0.3136881168483875,
          -0.24655225953624668,
          -0.3305066618016125,
          -0.2839293079337341,
          -0.3970577275971662,
          0.8670847603729812,
          -0.3134882985102606,
          -0.08789597026904739,
          -0.35653943903945773,
          -0.39773027608567013,
          -0.3122325786464809,
          -0.3099020300326157,
          -0.36791142024311596,
          -0.3986227317561715,
          -0.35080852542668717,
          -0.3068109897671268,
          -0.33054476895767104,
          -0.32898399481209184,
          -0.23334380019529324,
          -0.3423000451014527,
          -0.3993610869097732,
          -0.3297491786933518,
          -0.31366911123858987,
          -0.3998761834788902,
          -0.33073383703201004,
          -0.3308904640868894,
          -0.28391799305939314,
          -0.21228141149313182,
          0.04214038142557388,
          -0.3554967350486612,
          -0.3305046205247384,
          -0.38604460324658557,
          -0.35482523606168187,
          -0.2347736074130153,
          -0.4175726136208697,
          -0.3545752309766394,
          -0.272335428471565,
          3.728452260009855,
          -0.3994688351859676,
          0.8525760053356498,
          -0.39983109668043176,
          -0.3559603884947693,
          -0.3304323312935785,
          -0.3305866715546665,
          -0.35653943903945773,
          -0.39940622885079125,
          -0.3135317799914639,
          -0.3304330447202193,
          -0.3775597784007107,
          -0.3305804153021815,
          -0.32617096467850404,
          -0.3998600952212605,
          -0.32979158709286555,
          0.357462894716209,
          -0.33077963091331286,
          -0.3308501629801693,
          -0.35601832427686153,
          -0.36404701098255027,
          -0.32707893374784175,
          -0.31364552490838293,
          -0.3997700642568955,
          -0.3306280417914082,
          -0.3307550028780776,
          -0.28556456852614603,
          -0.2726274762673793,
          -0.23454150991306244,
          -0.3116124784714381,
          -0.2853056156279671,
          -0.3990361759510872,
          -0.4108506463637435,
          -0.39777458573582786,
          -0.3547863562965406,
          -0.3989340610599203,
          -0.3491874338558373,
          -0.3948766619320969,
          -0.3306982864351071,
          -0.3306975063413799,
          -0.3238231554192859,
          0.2636948589591308,
          -0.3994122973122114,
          -0.26821453734133627,
          -0.3565737738057361,
          -0.32990931341380475,
          0.8747661188840335,
          -0.2673570119704305,
          -0.34958714448585576,
          0.5817673329118883,
          -0.3694467469832739,
          -0.3679494190995122,
          -0.4129073037548687,
          -0.2792737096687149,
          0.1338307905805432,
          -0.2793444371032425,
          -0.3707084797352975,
          -0.41241218871415536,
          -0.3996845583377254,
          -0.2856386184581219,
          -0.35644017603440825,
          -0.3303335917723223,
          -0.3308330962181303,
          -0.32992523181559086,
          0.6538212105629166,
          -0.3996254568865654,
          -0.3432689871701801,
          -0.33078875809794905,
          -0.32987583856147845,
          0.43822729645164815,
          -0.31199211354373346,
          -0.3542183969491192,
          -0.3779770762615448,
          -0.33073911812841067,
          -0.3993851351734071,
          -0.3257880448360698,
          -0.3306094921456802,
          -0.09518578472235599,
          -0.39841858282053366,
          3.7333067563038416,
          0.1899247495606189,
          -0.2760160596916837,
          -0.32807055249374356,
          -0.3242861326352118,
          -0.3559042482111711,
          0.083333555318419,
          -0.3297485703411709,
          -0.39899934372859885,
          -0.3550693888725962,
          -0.31731735571652003,
          -0.33085522692582464,
          -0.35477862668937327,
          -0.3510904077796217,
          -0.2742192801646443,
          -0.27180654748116306,
          -0.3264014001973799,
          -0.22634043190166006,
          -0.3707386042283536,
          -0.39970186601400587,
          -0.30222696507488916,
          -0.28479903204767065,
          -0.3153217986349453,
          -0.36904586862215,
          -0.33088257762029644,
          -0.3308642966814256,
          -0.27918197487036966,
          -0.3635631898590494,
          -0.35603474001589597,
          -0.33058090833338133,
          3.93417941254028,
          -0.3980531629396064,
          -0.3562233767754761,
          -0.31007337785166666,
          -0.27747136262508604,
          -0.2766937815853487,
          -0.2853328627761018,
          -0.1340369781003098,
          -0.28558499329555076,
          -0.337620678904681,
          -0.33005515724158296,
          -0.2136655172016064,
          2.2356953231090695,
          -0.35161472245147357,
          -0.26748433577286657,
          1.0203760085565579,
          -0.35433430300964747,
          -0.3560177841859972,
          -0.40106850003712874,
          -0.1663841096392349,
          -0.37472846039225743,
          -0.3547376351488087,
          -0.32376324671684104,
          -0.3543561710920422,
          -0.3991753031645453,
          -0.2828313410378679,
          -0.35532369628004173,
          -0.3637890166713152,
          -0.35421772987418737,
          -0.1904367411391639,
          -0.31737892104073157,
          -0.25729579564565186,
          0.5816550384078958,
          -0.14473130811447343,
          -0.4003633255249985,
          -0.25708686212690657,
          -0.3305848462564493,
          -0.4008193036290564,
          -0.35613473019976805,
          0.5756274000308431,
          -0.35483293645254166,
          -0.330068019213277,
          -0.296684346894207,
          -0.2923600832193869,
          -0.39674142890151937,
          -0.39940245959142634,
          3.7455464507638756,
          0.10420487371507432,
          -0.39694199660671475,
          -0.3294539707956334,
          -0.33027838507046864,
          -0.26869850584143845,
          -0.33079650099149943,
          -0.3910321840752321,
          -0.24454131994585712,
          -0.09331326750757417,
          -0.38678254077354646,
          -0.3300748826817192,
          -0.3231407559100407,
          -0.39597178852363746,
          -0.32851465315948325,
          -0.3568150253016175,
          -0.36915264871310044,
          -0.3121689524547895,
          3.728843934282954,
          -0.0929075059548473,
          -0.32570999556730074,
          -0.3478942283284136,
          -0.2797435143282228,
          3.738712539309741,
          3.739956669366859,
          -0.24959926318377812,
          -0.3987828315805442,
          -0.35675089062309295,
          -0.3843366624396205,
          2.4759215703715567,
          -0.32896052903799816,
          -0.28598129030226394
         ],
         "y": [
          0.9748152463640514,
          0.9748949335820601,
          1.574837079241604,
          1.2060226385488448,
          1.4021386502664521,
          0.824433169619994,
          0.6591766164435205,
          1.9044180575064436,
          0.9748126405149325,
          0.9750302550917626,
          0.9748568871966393,
          0.9748150001062091,
          0.9748150766318404,
          0.14277742917177,
          0.9321524707437806,
          1.688521749112793,
          0.3756630729692865,
          0.974782890108469,
          1.0413338852510758,
          1.2060255551740737,
          2.35874402987649,
          0.8167553544284043,
          0.8237290365950407,
          0.8095471571011135,
          1.7287379349358973,
          1.7287207014773036,
          0.5108377272088626,
          0.9746716283126948,
          0.974789180067629,
          0.9847347702888647,
          1.0407830815013437,
          1.2060310521217494,
          0.18364151759841507,
          1.7015414570102874,
          1.2060263232774537,
          0.9743529453706676,
          0.9747801098510505,
          0.23764237610974687,
          1.2060305367962598,
          0.1837003315112806,
          1.7287267709516287,
          0.9743439755508578,
          0.12693590905324617,
          1.5391442800852457,
          0.8244219892029389,
          0.932171635324195,
          0.8095593160803641,
          1.728710001196556,
          0.8093485395697939,
          0.9748157430458798,
          1.7287127609062196,
          1.040756406749096,
          0.9748087461405331,
          1.2060315644376542,
          3.103722746871683,
          1.8878015614766388,
          0.8628185350537592,
          0.8095318200671628,
          1.7286973026305912,
          0.8239374269366452,
          1.9045827538647617,
          0.7890794988244533,
          0.824433975222644,
          1.1959101364522613,
          0.8244404644973417,
          1.584760639642441,
          0.9747963947343005,
          0.8094485689039417,
          1.2058343767575987,
          0.770446805063954,
          0.8244248303480883,
          0.14970352562836278,
          1.6885161677514469,
          1.2060374806945235,
          0.824328490790251,
          0.824176134497336,
          1.5813347508500963,
          1.2059668371885832,
          1.529816316048233,
          0.9740476801435266,
          0.9747936649247879,
          0.9747969487888907,
          1.5633478668700773,
          1.0406457084037386,
          1.206010251282959,
          0.9747829311327216,
          0.8244334563290602,
          1.2060297107305231,
          0.9748051717608268,
          0.9748159027730103,
          0.8096075048231217,
          0.2059914279734581,
          1.8344746834686694,
          1.6885062984959274,
          0.9748265895523794,
          1.2053385921007005,
          1.688549294854395,
          1.5634499868263274,
          1.968373913135751,
          1.6883689313318218,
          1.834730010583072,
          2.009838452574747,
          1.206021618521466,
          1.759467762633469,
          1.2060303471791736,
          1.6885106784765904,
          0.974800936300158,
          0.9747941786896077,
          1.6885161677514469,
          1.2060018251973401,
          0.8244379775957139,
          0.9748048919229593,
          0.6758404187354627,
          0.9748043980636588,
          0.9744797203563659,
          1.2060287211737108,
          0.9747430073218256,
          0.8040399555184974,
          0.974809644024211,
          0.9748146396625073,
          1.524049810122586,
          0.616090162097416,
          0.9745626823694399,
          0.8244341096039407,
          1.2060280904426426,
          0.9748088195689678,
          0.9748039157872089,
          0.8095224325268822,
          0.289841084652291,
          1.5634477865918528,
          0.9746322705431825,
          0.8095443679408572,
          1.2059833714956076,
          1.9805276159026024,
          1.2060111382083603,
          1.6884999330545194,
          1.2059861997903347,
          1.6884471178967977,
          1.2058115470699802,
          0.9748060041987942,
          0.9748007244249703,
          0.9742940692012817,
          0.6201121194422747,
          1.2060160086801839,
          0.8086072900819001,
          1.688508040994114,
          0.9747677321806298,
          1.8714285279055174,
          0.6590782610412679,
          1.529802425914392,
          1.8218538110326337,
          1.5813496328744254,
          1.5813121710456675,
          1.82799837139965,
          1.7287071291151452,
          0.9518084666367449,
          1.7287131365820199,
          1.5399108725604462,
          1.8280120846910481,
          1.206030348731735,
          0.8095473582618383,
          1.688489065832861,
          0.9747967019880825,
          0.9748144778732671,
          1.4030489420592849,
          1.54319917903684,
          1.206019433276037,
          0.5106918638323925,
          0.9748074298469993,
          0.7194581003556502,
          0.9781788447188831,
          0.8244232157690549,
          1.5809174973106421,
          1.867428264528609,
          0.9748050254893385,
          1.6892253227477394,
          1.566788986971113,
          0.9748130731609264,
          0.6575322919447145,
          1.2059689036482795,
          2.0097038166523395,
          1.5753224796202911,
          1.7286681927803669,
          0.9747433149753537,
          1.4160783388997524,
          1.5240493818176089,
          0.9504098355206443,
          0.9747398932959895,
          1.2060202705496887,
          1.5240007472580406,
          0.9745460193303981,
          0.9748140084306491,
          1.0407564665338187,
          1.5298146081153008,
          -0.04675909009716119,
          0.19931446073729722,
          0.9747737590719733,
          1.5631112935726623,
          0.91111890857112,
          1.2060187521147392,
          1.4042808810044445,
          0.8094941228407329,
          1.3971307015497212,
          1.5813320329511091,
          0.9748139684715925,
          0.9748130396458715,
          0.8093798901277989,
          1.6717162129270133,
          1.68848135118094,
          0.9748029492518712,
          1.8798696437437286,
          1.6892622146251317,
          1.6884818670991262,
          0.6777577935432262,
          0.9726200612924452,
          1.0610921329773395,
          0.8095496598882945,
          0.9729488929203887,
          0.8095297601774948,
          1.8382361765738833,
          0.9747787618578173,
          1.7392900832754645,
          0.310454203200592,
          1.5237161153863958,
          0.6591463646088688,
          1.7883111281997863,
          0.8430143510803039,
          1.5240455196129434,
          1.6893185176611374,
          0.8007501437516238,
          0.8847047611785487,
          1.524024287463436,
          0.9742957285035173,
          1.0407437697077777,
          1.2060153969691652,
          0.8094510317143265,
          1.6884135005597511,
          0.9598884440486445,
          1.0407153131246059,
          0.9657896691895986,
          1.2200798932529078,
          1.2390231205337117,
          0.925577699083619,
          1.046589254487513,
          1.6893029960350385,
          0.01462043098177194,
          0.9748092983854553,
          1.6893154561281214,
          1.524047755658865,
          0.9462490507061639,
          1.0407558951579605,
          0.9747784056174464,
          1.4041186615422738,
          1.8359736348100104,
          1.2058173045283174,
          1.2060234569383892,
          2.0096840326444463,
          0.9617515838184157,
          1.2061131321726943,
          0.9747121739679115,
          0.9747939226338102,
          0.6591696123424464,
          0.9748185052859658,
          1.2059180282729183,
          0.9696729606194348,
          0.830415421540085,
          1.2056769423638145,
          0.9748277284080408,
          0.9747435166084267,
          1.205990747956466,
          0.9747668935436948,
          1.6885164281477532,
          0.6237172310500783,
          0.8244147299390175,
          2.0098242441690344,
          0.8077158357299887,
          0.9747441137206325,
          0.5108076135851334,
          1.7287155580837954,
          2.0102123306612776,
          2.0102467895579132,
          0.6589960985766139,
          3.9934509926030777,
          1.6885184670307434,
          2.2090206311318776,
          0.8803657327661084,
          0.9746899620087732,
          0.8095496397257371
         ],
         "z": [
          -0.5376107785377986,
          -0.5379242111175708,
          -0.5229528531343256,
          -0.4071028660673118,
          0.016310551370706697,
          -0.3158001113004196,
          -0.09898302307095891,
          -0.5360310634295439,
          -0.5376162837013634,
          -0.537794554140952,
          -0.5376463704221237,
          -0.5376107985980068,
          -0.537611094572129,
          -0.03242866071763853,
          -0.35887719061111,
          -0.24897141929384584,
          -0.44970769786530534,
          -0.537638458058672,
          -0.19076533250723562,
          -0.40710535901084466,
          -0.7290821476869741,
          -0.32694931387575527,
          -0.31630368424646604,
          -0.32079567179992047,
          -0.5096291765831038,
          -0.5096144465318398,
          -0.3043832554357562,
          -0.5376816975991273,
          -0.5376336894536775,
          -0.546089349150768,
          -0.19029454091158432,
          -0.4070999130518005,
          0.03221667418719234,
          -0.2501260560515356,
          -0.4071004819776708,
          -0.5379534411839236,
          -0.5376268590760545,
          -0.4395923230305194,
          -0.4071020083379245,
          0.032212516827292086,
          -0.5096196343278625,
          -0.5376690964338545,
          0.6705378693585221,
          -0.15430249744764157,
          -0.3158117669737699,
          -0.3588915515121643,
          -0.3207986034314464,
          -0.5096108341790326,
          -0.3208490101735722,
          -0.5376112030500841,
          -0.5096122707414872,
          -0.1902809636476579,
          -0.5376144451432261,
          -0.4071003504853335,
          -0.8446624785781564,
          -0.597224456908539,
          -0.1271818005996821,
          -0.32082121459656554,
          -0.5096175031973978,
          -0.31582736737898154,
          -0.5360225666138007,
          -0.3592815000132817,
          -0.31580079987771603,
          -0.4106922034551003,
          -0.31580104349850935,
          -0.5022639389979513,
          -0.5376140328133772,
          -0.3208058778454136,
          -0.4071088810196325,
          -0.3330196039777005,
          -0.31580128376527,
          -0.02089371604752843,
          -0.24897587130289564,
          -0.40713999206161045,
          -0.3158031988681539,
          -0.3158123625477538,
          -0.49937721143658464,
          -0.4071091228513763,
          -0.168517748682943,
          -0.5378769720648343,
          -0.5376127755174519,
          -0.5376412519163695,
          -0.2927945751281715,
          -0.19048008555736157,
          -0.4071051898661929,
          -0.5376246592272935,
          -0.3157998952310007,
          -0.4071001494454091,
          -0.5376118511233752,
          -0.5376113395745553,
          -0.3208397920673377,
          -0.3676410474952373,
          -0.5893791431237615,
          -0.2489923367117458,
          -0.5376204739457607,
          -0.4071997371447472,
          -0.2490134087689193,
          -0.292790787601092,
          -0.47113240409663304,
          -0.24897960058256535,
          -0.5838360236419416,
          -0.521715006614248,
          -0.40710568325256297,
          -0.536287015927698,
          -0.40710108693522445,
          -0.248985013320306,
          -0.537616319142208,
          -0.5376121386809974,
          -0.24897587130289564,
          -0.40710259908926383,
          -0.31580329858887296,
          -0.5376171454944841,
          -0.049476506184598125,
          -0.5376144177259604,
          -0.5376240311693244,
          -0.4071002258956848,
          -0.5376154359365133,
          -0.3310746088341551,
          -0.5376119846872768,
          -0.5376117889583598,
          -0.2412381047889956,
          -0.31473899484404,
          -0.5376254680086245,
          -0.3158004536083241,
          -0.40710169454684014,
          -0.5376145079051262,
          -0.5376112079856912,
          -0.3207924398869092,
          -0.4959743175962771,
          -0.29279445194335907,
          -0.5379155124386852,
          -0.3208017017760124,
          -0.40710527124772583,
          -0.7068526979063822,
          -0.40713361574548323,
          -0.24900363035913045,
          -0.4071076886920297,
          -0.24909208128392457,
          -0.40714285873754597,
          -0.5376126604531045,
          -0.5376115544139698,
          -0.5376264396981997,
          -0.10017218176808244,
          -0.4071054996200395,
          -0.3209071326314693,
          -0.24897353637251984,
          -0.5376185850893813,
          -0.5491740300785316,
          -0.09898545588206834,
          -0.16853654142723273,
          -0.5098737602271999,
          -0.4993530412431249,
          -0.4993717455692605,
          -0.5621428009019921,
          -0.5096166796464504,
          -0.5410025577019408,
          -0.5096166950651343,
          -0.13959288649896376,
          -0.5621545221408955,
          -0.40710369546485053,
          -0.32079640903421663,
          -0.24897188931385003,
          -0.5376171784181175,
          -0.5376120584074385,
          0.01715068098695438,
          -0.2719691750903466,
          -0.4071024320557844,
          -0.3044412942999174,
          -0.5376113525726065,
          -0.06356055462329174,
          -0.5520140128029405,
          -0.31582757151956525,
          -0.4995324241273893,
          -0.46644453347408193,
          -0.5376117260999209,
          -0.458066853064119,
          -0.216473007049933,
          -0.5376157403201278,
          -0.10172196507520884,
          -0.40711319477750607,
          -0.5217728521962857,
          -0.5080307035187109,
          -0.5096664027510341,
          -0.5376461334707416,
          -0.2825359036945711,
          -0.24124004435084548,
          -0.5398070978395182,
          -0.5376155410469005,
          -0.40711375369055564,
          -0.2412445876470024,
          -0.5377956774655425,
          -0.537611564932127,
          -0.19028147587766672,
          -0.16851236924785204,
          0.07084457561814604,
          -0.408318198786403,
          -0.5376822999824201,
          -0.29286904542474296,
          -0.310705714991447,
          -0.4071009275831957,
          -0.33393306383722116,
          -0.3208000605506147,
          -0.09821160745111954,
          -0.4993564431564275,
          -0.5376110696478213,
          -0.5376111980071254,
          -0.3208758066128389,
          -0.12385005982178421,
          -0.24897746917075825,
          -0.5376141016346412,
          -0.45149018585863415,
          -0.45809838586656043,
          -0.2489742211054141,
          -0.08809150978476075,
          -0.5380963603300686,
          -0.05401728402745927,
          -0.32080233931670293,
          -0.5407190644445784,
          -0.3207936306624147,
          -0.5834177408156542,
          -0.5376183288201849,
          -0.31920836317352524,
          -0.6071907132597307,
          -0.24124570147606705,
          -0.0989976355243796,
          -0.3654967322394782,
          -0.3049215348499538,
          -0.2412372043167434,
          -0.45805665938294404,
          -0.3210529621824413,
          -0.28037794897322327,
          -0.2412554857020183,
          -0.5376278579629584,
          -0.1902863018637045,
          -0.4071095880675867,
          -0.3208259426921877,
          -0.2489757326714473,
          -0.3852844702346092,
          -0.19028272985227404,
          -0.5381966337958077,
          0.4119120521404866,
          -0.11711471312539204,
          0.1649630082036096,
          -0.19525728389602415,
          -0.4580659182292191,
          0.18950610446301663,
          -0.5376153782965187,
          -0.4580604453694236,
          -0.24123559712393466,
          -0.5476867476835804,
          -0.1902803880335191,
          -0.5376180243288432,
          -0.3339973062266575,
          -0.5837434021233333,
          -0.40711088945233176,
          -0.4071072546130287,
          -0.5219865070374599,
          -0.5425843461969938,
          -0.4071700693355628,
          -0.5376149048430524,
          -0.5376175714836122,
          -0.09898095602008643,
          -0.5376135640351323,
          -0.4072338720167084,
          -0.5380573473147698,
          -0.3209908250442797,
          -0.40725837223567507,
          -0.5376283643144187,
          -0.5377339204900896,
          -0.40716137819829007,
          -0.5376432304196653,
          -0.24897102144426647,
          -0.00041672002916542743,
          -0.31582262402757405,
          -0.5217189641009459,
          -0.3238382882057739,
          -0.5376883178756076,
          -0.3043835231178903,
          -0.5096101056256817,
          -0.5219769323054384,
          -0.5220063855525156,
          -0.09928409376862858,
          0.6482576856338221,
          -0.24897259544124806,
          -0.4388317410907204,
          -0.25577941142392113,
          -0.537618975983721,
          -0.32079079383615533
         ]
        },
        {
         "customdata": [
          [
           "SHA-256"
          ],
          [
           "Ethash"
          ],
          [
           "Scrypt"
          ],
          [
           "CryptoNight-V7"
          ],
          [
           "Ethash"
          ],
          [
           "Equihash"
          ],
          [
           "Multiple"
          ],
          [
           "Scrypt"
          ],
          [
           "X11"
          ],
          [
           "Scrypt"
          ],
          [
           "Multiple"
          ],
          [
           "Scrypt"
          ],
          [
           "SHA-256"
          ],
          [
           "Scrypt"
          ],
          [
           "Scrypt"
          ],
          [
           "Quark"
          ],
          [
           "Groestl"
          ],
          [
           "Scrypt"
          ],
          [
           "Scrypt"
          ],
          [
           "Scrypt"
          ],
          [
           "X11"
          ],
          [
           "Multiple"
          ],
          [
           "SHA-256"
          ],
          [
           "Scrypt"
          ],
          [
           "Scrypt"
          ],
          [
           "Scrypt"
          ],
          [
           "Scrypt"
          ],
          [
           "Scrypt"
          ],
          [
           "NeoScrypt"
          ],
          [
           "Scrypt"
          ],
          [
           "Scrypt"
          ],
          [
           "Scrypt"
          ],
          [
           "Scrypt"
          ],
          [
           "SHA-256"
          ],
          [
           "Scrypt"
          ],
          [
           "Scrypt"
          ],
          [
           "Scrypt"
          ],
          [
           "Scrypt"
          ],
          [
           "HybridScryptHash256"
          ],
          [
           "Scrypt"
          ],
          [
           "Scrypt"
          ],
          [
           "SHA-256"
          ],
          [
           "Scrypt"
          ],
          [
           "Scrypt"
          ],
          [
           "Scrypt"
          ],
          [
           "Scrypt"
          ],
          [
           "SHA-256"
          ],
          [
           "SHA-256"
          ],
          [
           "SHA-256"
          ],
          [
           "SHA-256"
          ],
          [
           "SHA-256"
          ],
          [
           "X11"
          ],
          [
           "Scrypt"
          ],
          [
           "Lyra2REv2"
          ],
          [
           "Scrypt"
          ],
          [
           "SHA-256"
          ],
          [
           "CryptoNight"
          ],
          [
           "CryptoNight"
          ],
          [
           "Scrypt"
          ],
          [
           "Scrypt"
          ],
          [
           "Scrypt"
          ],
          [
           "Scrypt"
          ],
          [
           "Scrypt"
          ],
          [
           "Scrypt"
          ],
          [
           "Stanford Folding"
          ],
          [
           "Multiple"
          ],
          [
           "QuBit"
          ],
          [
           "Scrypt"
          ],
          [
           "Scrypt"
          ],
          [
           "M7 POW"
          ],
          [
           "Scrypt"
          ],
          [
           "SHA-256"
          ],
          [
           "Scrypt"
          ],
          [
           "X11"
          ],
          [
           "Lyra2RE"
          ],
          [
           "SHA-256"
          ],
          [
           "X11"
          ],
          [
           "Scrypt"
          ],
          [
           "Scrypt"
          ],
          [
           "Ethash"
          ],
          [
           "Blake2b"
          ],
          [
           "X11"
          ],
          [
           "SHA-256"
          ],
          [
           "Scrypt"
          ],
          [
           "1GB AES Pattern Search"
          ],
          [
           "Scrypt"
          ],
          [
           "SHA-256"
          ],
          [
           "X11"
          ],
          [
           "Dagger"
          ],
          [
           "Scrypt"
          ],
          [
           "X11GOST"
          ],
          [
           "Scrypt"
          ],
          [
           "X11"
          ],
          [
           "Scrypt"
          ],
          [
           "X11"
          ],
          [
           "Equihash"
          ],
          [
           "CryptoNight"
          ],
          [
           "SHA-256"
          ],
          [
           "Multiple"
          ],
          [
           "Scrypt"
          ],
          [
           "SHA-256"
          ],
          [
           "Scrypt"
          ],
          [
           "Lyra2Z"
          ],
          [
           "Ethash"
          ],
          [
           "Equihash"
          ],
          [
           "Scrypt"
          ],
          [
           "X11"
          ],
          [
           "X11"
          ],
          [
           "CryptoNight"
          ],
          [
           "Scrypt"
          ],
          [
           "CryptoNight"
          ],
          [
           "Lyra2RE"
          ],
          [
           "X11"
          ],
          [
           "CryptoNight-V7"
          ],
          [
           "Scrypt"
          ],
          [
           "X11"
          ],
          [
           "Equihash"
          ],
          [
           "Scrypt"
          ],
          [
           "Lyra2RE"
          ],
          [
           "Dagger-Hashimoto"
          ],
          [
           "Scrypt"
          ],
          [
           "NIST5"
          ],
          [
           "Scrypt"
          ],
          [
           "SHA-256"
          ],
          [
           "Scrypt"
          ],
          [
           "CryptoNight-V7"
          ],
          [
           "Argon2d"
          ],
          [
           "Blake2b"
          ],
          [
           "Cloverhash"
          ],
          [
           "CryptoNight"
          ],
          [
           "X11"
          ],
          [
           "Scrypt"
          ],
          [
           "Scrypt"
          ],
          [
           "X11"
          ],
          [
           "X11"
          ],
          [
           "CryptoNight"
          ],
          [
           "Time Travel"
          ],
          [
           "Scrypt"
          ],
          [
           "Keccak"
          ],
          [
           "X11"
          ],
          [
           "SHA-256"
          ],
          [
           "Scrypt"
          ],
          [
           "Scrypt"
          ],
          [
           "Scrypt"
          ],
          [
           "Scrypt"
          ],
          [
           "Scrypt"
          ],
          [
           "Scrypt"
          ],
          [
           "CryptoNight"
          ],
          [
           "Equihash"
          ],
          [
           "X11"
          ],
          [
           "NeoScrypt"
          ],
          [
           "Equihash"
          ],
          [
           "Dagger"
          ],
          [
           "Scrypt"
          ],
          [
           "X11"
          ],
          [
           "NeoScrypt"
          ],
          [
           "Ethash"
          ],
          [
           "NeoScrypt"
          ],
          [
           "Multiple"
          ],
          [
           "CryptoNight"
          ],
          [
           "CryptoNight"
          ],
          [
           "Ethash"
          ],
          [
           "X11"
          ],
          [
           "CryptoNight-V7"
          ],
          [
           "Scrypt"
          ],
          [
           "BLAKE256"
          ],
          [
           "X11"
          ],
          [
           "NeoScrypt"
          ],
          [
           "NeoScrypt"
          ],
          [
           "Scrypt"
          ],
          [
           "X11"
          ],
          [
           "SHA-256"
          ],
          [
           "C11"
          ],
          [
           "CryptoNight"
          ],
          [
           "SkunkHash"
          ],
          [
           "CryptoNight"
          ],
          [
           "Scrypt"
          ],
          [
           "Dagger"
          ],
          [
           "Lyra2REv2"
          ],
          [
           "Scrypt"
          ],
          [
           "Scrypt"
          ],
          [
           "X11"
          ],
          [
           "Ethash"
          ],
          [
           "CryptoNight"
          ],
          [
           "Scrypt"
          ],
          [
           "IMesh"
          ],
          [
           "Equihash"
          ],
          [
           "Lyra2Z"
          ],
          [
           "X11"
          ],
          [
           "CryptoNight"
          ],
          [
           "NIST5"
          ],
          [
           "Lyra2RE"
          ],
          [
           "Tribus"
          ],
          [
           "Lyra2Z"
          ],
          [
           "CryptoNight"
          ],
          [
           "CryptoNight Heavy"
          ],
          [
           "CryptoNight"
          ],
          [
           "Jump Consistent Hash"
          ],
          [
           "CryptoNight"
          ],
          [
           "X16R"
          ],
          [
           "HMQ1725"
          ],
          [
           "X11"
          ],
          [
           "Scrypt"
          ],
          [
           "CryptoNight-V7"
          ],
          [
           "Cryptonight-GPU"
          ],
          [
           "XEVAN"
          ],
          [
           "CryptoNight Heavy"
          ],
          [
           "SHA-256"
          ],
          [
           "X11"
          ],
          [
           "X16R"
          ],
          [
           "Equihash"
          ],
          [
           "Lyra2Z"
          ],
          [
           "SHA-256"
          ],
          [
           "CryptoNight"
          ],
          [
           "Blake"
          ],
          [
           "Blake"
          ],
          [
           "Exosis"
          ],
          [
           "Scrypt"
          ],
          [
           "Equihash"
          ],
          [
           "Equihash"
          ],
          [
           "QuBit"
          ],
          [
           "SHA-256"
          ],
          [
           "X13"
          ],
          [
           "SHA-256"
          ],
          [
           "Scrypt"
          ],
          [
           "NeoScrypt"
          ],
          [
           "Blake"
          ],
          [
           "Scrypt"
          ],
          [
           "SHA-256"
          ],
          [
           "Scrypt"
          ],
          [
           "Groestl"
          ],
          [
           "Scrypt"
          ],
          [
           "Scrypt"
          ],
          [
           "Multiple"
          ],
          [
           "Equihash+Scrypt"
          ],
          [
           "Ethash"
          ],
          [
           "CryptoNight"
          ],
          [
           "Equihash"
          ]
         ],
         "hovertemplate": "<b>%{hovertext}</b><br><br>Class=%{marker.color}<br>PC 1=%{x}<br>PC 2=%{y}<br>PC 3=%{z}<br>Algorithm=%{customdata[0]}<extra></extra>",
         "hovertext": [
          "Bitcoin",
          "Ethereum",
          "Litecoin",
          "Monero",
          "Ethereum Classic",
          "ZCash",
          "DigiByte",
          "ProsperCoin",
          "Spreadcoin",
          "Argentum",
          "MyriadCoin",
          "MoonCoin",
          "ZetaCoin",
          "SexCoin",
          "Quatloo",
          "QuarkCoin",
          "Riecoin",
          "Digitalcoin ",
          "Catcoin",
          "CannaCoin",
          "CryptCoin",
          "Verge",
          "DevCoin",
          "EarthCoin",
          "E-Gulden",
          "Einsteinium",
          "Emerald",
          "Franko",
          "FeatherCoin",
          "GrandCoin",
          "GlobalCoin",
          "GoldCoin",
          "Infinite Coin",
          "IXcoin",
          "KrugerCoin",
          "LuckyCoin",
          "Litebar ",
          "MegaCoin",
          "MediterraneanCoin",
          "MinCoin",
          "NobleCoin",
          "Namecoin",
          "NyanCoin",
          "RonPaulCoin",
          "StableCoin",
          "SmartCoin",
          "SysCoin",
          "TigerCoin",
          "TerraCoin",
          "UnbreakableCoin",
          "Unobtanium",
          "UroCoin",
          "ViaCoin",
          "Vertcoin",
          "WorldCoin",
          "JouleCoin",
          "ByteCoin",
          "DigitalNote ",
          "MonaCoin",
          "Gulden",
          "PesetaCoin",
          "Wild Beast Coin",
          "Flo",
          "ArtByte",
          "Folding Coin",
          "Unitus",
          "CypherPunkCoin",
          "OmniCron",
          "GreenCoin",
          "Cryptonite",
          "MasterCoin",
          "SoonCoin",
          "1Credit",
          "MarsCoin ",
          "Crypto",
          "Anarchists Prime",
          "BowsCoin",
          "Song Coin",
          "BitZeny",
          "Expanse",
          "Siacoin",
          "MindCoin",
          "I0coin",
          "Revolution VR",
          "HOdlcoin",
          "Gamecredits",
          "CarpeDiemCoin",
          "Adzcoin",
          "SoilCoin",
          "YoCoin",
          "SibCoin",
          "Francs",
          "BolivarCoin",
          "Omni",
          "PizzaCoin",
          "Komodo",
          "Karbo",
          "ZayedCoin",
          "Circuits of Value",
          "DopeCoin",
          "DollarCoin",
          "Shilling",
          "ZCoin",
          "Elementrem",
          "ZClassic",
          "KiloCoin",
          "ArtexCoin",
          "Kurrent",
          "Cannabis Industry Coin",
          "OsmiumCoin",
          "Bikercoins",
          "HexxCoin",
          "PacCoin",
          "Citadel",
          "BeaverCoin",
          "VaultCoin",
          "Zero",
          "Canada eCoin",
          "Zoin",
          "DubaiCoin",
          "EB3coin",
          "Coinonat",
          "BenjiRolls",
          "ILCoin",
          "EquiTrader",
          "Quantum Resistant Ledger",
          "Dynamic",
          "Nano",
          "ChanCoin",
          "Dinastycoin",
          "DigitalPrice",
          "Unify",
          "SocialCoin",
          "ArcticCoin",
          "DAS",
          "LeviarCoin",
          "Bitcore",
          "gCn Coin",
          "SmartCash",
          "Onix",
          "Bitcoin Cash",
          "Sojourn Coin",
          "NewYorkCoin",
          "FrazCoin",
          "Kronecoin",
          "AdCoin",
          "Linx",
          "Sumokoin",
          "BitcoinZ",
          "Elements",
          "VIVO Coin",
          "Bitcoin Gold",
          "Pirl",
          "eBoost",
          "Pura",
          "Innova",
          "Ellaism",
          "GoByte",
          "SHIELD",
          "UltraNote",
          "BitCoal",
          "DaxxCoin",
          "AC3",
          "Lethean",
          "PopularCoin",
          "Photon",
          "Sucre",
          "SparksPay",
          "GunCoin",
          "IrishCoin",
          "Pioneer Coin",
          "UnitedBitcoin",
          "Interzone",
          "TurtleCoin",
          "MUNcoin",
          "Niobio Cash",
          "ShareChain",
          "Travelflex",
          "KREDS",
          "BitFlip",
          "LottoCoin",
          "Crypto Improvement Fund",
          "Callisto Network",
          "BitTube",
          "Poseidon",
          "Aidos Kuneen",
          "Bitrolium",
          "Alpenschillling",
          "FuturoCoin",
          "Monero Classic",
          "Jumpcoin",
          "Infinex",
          "KEYCO",
          "GINcoin",
          "PlatinCoin",
          "Loki",
          "Newton Coin",
          "MassGrid",
          "PluraCoin",
          "Motion",
          "PlusOneCoin",
          "Axe",
          "HexCoin",
          "Webchain",
          "Ryo",
          "Urals Coin",
          "Qwertycoin",
          "Project Pai",
          "Azart",
          "Xchange",
          "CrypticCoin",
          "Actinium",
          "Bitcoin SV",
          "FREDEnergy",
          "Universal Molecule",
          "Lithium",
          "Exosis",
          "Block-Logic",
          "Beam",
          "Bithereum",
          "SLICE",
          "BLAST",
          "Bitcoin Rhodium",
          "GlobalToken",
          "SolarCoin",
          "UFO Coin",
          "BlakeCoin",
          "Crypto Escudo",
          "Crown Coin",
          "SmileyCoin",
          "Groestlcoin",
          "Bata",
          "Pakcoin",
          "JoinCoin",
          "Vollar",
          "Reality Clash",
          "Beldex",
          "Horizen"
         ],
         "legendgroup": "3",
         "marker": {
          "color": [
           3,
           3,
           3,
           3,
           3,
           3,
           3,
           3,
           3,
           3,
           3,
           3,
           3,
           3,
           3,
           3,
           3,
           3,
           3,
           3,
           3,
           3,
           3,
           3,
           3,
           3,
           3,
           3,
           3,
           3,
           3,
           3,
           3,
           3,
           3,
           3,
           3,
           3,
           3,
           3,
           3,
           3,
           3,
           3,
           3,
           3,
           3,
           3,
           3,
           3,
           3,
           3,
           3,
           3,
           3,
           3,
           3,
           3,
           3,
           3,
           3,
           3,
           3,
           3,
           3,
           3,
           3,
           3,
           3,
           3,
           3,
           3,
           3,
           3,
           3,
           3,
           3,
           3,
           3,
           3,
           3,
           3,
           3,
           3,
           3,
           3,
           3,
           3,
           3,
           3,
           3,
           3,
           3,
           3,
           3,
           3,
           3,
           3,
           3,
           3,
           3,
           3,
           3,
           3,
           3,
           3,
           3,
           3,
           3,
           3,
           3,
           3,
           3,
           3,
           3,
           3,
           3,
           3,
           3,
           3,
           3,
           3,
           3,
           3,
           3,
           3,
           3,
           3,
           3,
           3,
           3,
           3,
           3,
           3,
           3,
           3,
           3,
           3,
           3,
           3,
           3,
           3,
           3,
           3,
           3,
           3,
           3,
           3,
           3,
           3,
           3,
           3,
           3,
           3,
           3,
           3,
           3,
           3,
           3,
           3,
           3,
           3,
           3,
           3,
           3,
           3,
           3,
           3,
           3,
           3,
           3,
           3,
           3,
           3,
           3,
           3,
           3,
           3,
           3,
           3,
           3,
           3,
           3,
           3,
           3,
           3,
           3,
           3,
           3,
           3,
           3,
           3,
           3,
           3,
           3,
           3,
           3,
           3,
           3,
           3,
           3,
           3,
           3,
           3,
           3,
           3,
           3,
           3,
           3,
           3,
           3,
           3,
           3,
           3,
           3,
           3,
           3,
           3,
           3,
           3,
           3,
           3,
           3,
           3,
           3,
           3,
           3,
           3,
           3,
           3,
           3,
           3,
           3,
           3,
           3,
           3,
           3,
           3
          ],
          "coloraxis": "coloraxis",
          "symbol": "diamond"
         },
         "mode": "markers",
         "name": "3",
         "scene": "scene",
         "showlegend": true,
         "type": "scatter3d",
         "x": [
          -0.14579760642197723,
          -0.1501994096476386,
          -0.16188912823828244,
          -0.14699163703694926,
          -0.1486422446316344,
          -0.13502088264509104,
          0.15746522247999611,
          -0.16303514360405288,
          -0.23196779388674602,
          -0.16265184754849454,
          -0.09587015870622331,
          2.55734700563017,
          -0.14288306659265515,
          -0.15990792790541822,
          -0.16245601815042884,
          -0.22859662055451252,
          -0.208976179700315,
          -0.1625045796200163,
          -0.1630174091485854,
          -0.16310383483269045,
          -0.23205713048473844,
          0.18123317024793278,
          0.23197367446217443,
          0.08557820323348271,
          -0.162850154978157,
          -0.15845648629109801,
          -0.16278949186161143,
          -0.16316083157915542,
          -0.17574464275215995,
          -0.14238834524221972,
          -0.16195614420574073,
          -0.16223360841550188,
          1.5854263638011978,
          -0.14575897482102113,
          -0.15952371358175255,
          -0.1628765932161815,
          -0.1632313405475378,
          -0.16249073612574216,
          -0.16854893134600554,
          -0.16311263897821884,
          -0.028075180302811854,
          -0.14583658743522124,
          -0.15677771483786723,
          -0.16309212455489738,
          -0.16118734015050792,
          -0.1625789766520849,
          -0.1329918494199145,
          -0.14530044695207986,
          -0.14558763917195044,
          -0.14557077813172634,
          -0.14616117603874426,
          -0.23223095633613794,
          -0.16280861453007806,
          -0.20638322279487978,
          -0.15991270468625218,
          -0.1453677353490852,
          3.8501345924609116,
          0.44972167423751375,
          -0.1616765123603708,
          -0.14628140358325245,
          -0.16039554494844094,
          -0.16323355511404344,
          -0.16026055475478207,
          -0.1464872397581863,
          -0.13346064560668705,
          -0.12986952221020553,
          -0.19723730646667278,
          -0.16310663236816125,
          -0.036081859917506,
          -0.1318383959770441,
          -0.16324243972912073,
          -0.14586436571739286,
          0.4885574333646625,
          -0.23161826003740563,
          -0.1612690095750123,
          -0.14560435418689255,
          -0.231903117796702,
          -0.16136702415139573,
          -0.1605594057124933,
          -0.15126696599899087,
          0.35150414847714057,
          -0.23193849516786477,
          -0.1457600972031607,
          -0.15920104288541223,
          -0.14412751158868772,
          -0.1618060924989885,
          0.2726471885845376,
          -0.23109947108177412,
          -0.1508891977311725,
          -0.16205386913352432,
          -0.1498484911054616,
          -0.16303242456192615,
          -0.2319017743012771,
          -0.16324249821322567,
          -0.23205174957998065,
          -0.18785336522682758,
          0.29466279511793664,
          -0.14602014352550258,
          -0.109946332724117,
          -0.1604099437332055,
          -0.14597877571775458,
          -0.1629060088342003,
          -0.14149544209033643,
          -0.15100915362636724,
          -0.135042500323106,
          -0.0900072716994401,
          -0.21863662492144523,
          -0.2298806679533713,
          0.29465711381830567,
          -0.1632242441310239,
          0.294787817164247,
          -0.16180924134958088,
          0.4828044371895696,
          -0.1457570634963862,
          -0.16319253299770423,
          -0.22478959268118115,
          -0.1350548590964886,
          -0.16132614126292807,
          -0.16152765838820277,
          -0.12986076882953101,
          -0.13413175106005065,
          -0.20144325672922495,
          -0.16275502948383946,
          -0.1123545147132635,
          -0.1625772388642367,
          -0.14561446706628162,
          -0.17090327224214147,
          -0.04881190315941045,
          -0.1447442472141166,
          0.3307720517732906,
          -0.2311079305203436,
          -0.16289629315703566,
          -0.162659895639186,
          -0.2315024578389904,
          -0.2320797579477949,
          0.29505197742101485,
          -0.1407707435294751,
          3.24573462462264,
          -0.13597698125002428,
          -0.22295605776892344,
          -0.1457967706149208,
          -0.08885702437742869,
          1.5838273897983375,
          -0.1629941465105335,
          -0.16244603643184824,
          -0.16214706864452177,
          -0.1621339991894184,
          0.29523544931747986,
          0.0771914538273051,
          -0.1864726792020942,
          -0.18043224747710782,
          -0.13490092230567982,
          -0.14964877628335282,
          -0.16132435036554466,
          -0.22762541642673925,
          -0.1802777288468413,
          -0.1493753510283164,
          -0.18037788265005958,
          -0.12010376486144253,
          1.1322747103311162,
          0.29463991791924043,
          -0.07430234679455523,
          -0.227367805207627,
          -0.134729894252335,
          -0.07940010358908961,
          1.0823675168662166,
          -0.23205375949346224,
          -0.18042978139256022,
          -0.17346941751618977,
          -0.16224530648093918,
          -0.23197917791433895,
          -0.14577616398370463,
          -0.2030447839420809,
          8.028593823409343,
          -0.13903708390598307,
          0.2985131315766967,
          0.02976245153125567,
          -0.14915174572714412,
          -0.19194502686528445,
          -0.16281894938687366,
          0.14419081779100415,
          -0.22612187814951332,
          -0.10243808985902218,
          0.30255922308667316,
          -0.16305588890098202,
          -0.1614658990099216,
          -0.13389218523843588,
          -0.1392800361221756,
          -0.23114870421017064,
          0.29482241788147096,
          -0.20150260769085027,
          -0.16165454227636145,
          -0.13417065917305984,
          -0.14157977621662693,
          0.29874835437611824,
          0.5769043887686187,
          2.1026041726963167,
          -0.16834541207913267,
          0.3084237304768756,
          -0.1874547762966045,
          -0.173487770187409,
          -0.23203592410988783,
          -0.1630804760632665,
          -0.13461286566559147,
          -0.15148464432688502,
          -0.1333294351667094,
          3.0987780468708372,
          -0.10563186363165197,
          -0.23200730535015737,
          -0.18688280289835243,
          -0.02967517854358623,
          -0.14097781341455887,
          -0.1457968081815356,
          0.37455177756559516,
          -0.1407082153124212,
          -0.14109992197632562,
          -0.1692888362506287,
          -0.16197314294482493,
          -0.1329619643924271,
          -0.1347337767701385,
          -0.19644866823195545,
          -0.14507310561625483,
          -0.11205714227042793,
          -0.14394143856710012,
          0.532453069138845,
          -0.10560948077830935,
          -0.09159262021171667,
          -0.14663783057352564,
          -0.14558700960330775,
          0.5524118244976063,
          -0.20853725281704383,
          -0.16315724620972608,
          -0.16111362495876375,
          -0.13060444212626204,
          -0.15343025259952678,
          -0.15104230610254024,
          0.3163919866155952,
          -0.1350219396260876
         ],
         "y": [
          -1.2990202171572982,
          -2.0049167661856995,
          -1.148666754138536,
          -2.1905209519437583,
          -2.005024328505135,
          -1.9435322468865281,
          -1.7816166599447103,
          -1.1486532881140172,
          -0.9174351399793002,
          -1.1486735277519702,
          -1.7749993520889962,
          -1.3488412922366406,
          -1.2990462650734194,
          -1.14873099843795,
          -1.1486939366413125,
          -0.4341812839581906,
          -1.1913329292518384,
          -1.148658086713617,
          -1.1486527969195768,
          -1.1486495505035648,
          -0.9174361791951026,
          -1.7777687200871992,
          -1.3036110883226066,
          -1.151439634290096,
          -1.148648164450376,
          -1.1487265275730956,
          -1.1486543776121645,
          -1.1486497627499244,
          -1.6127255000199157,
          -1.1490857591981123,
          -1.1486585641984979,
          -1.1486678606403704,
          -1.165223338787915,
          -1.2990191471708155,
          -1.1487314224123564,
          -1.148648179136961,
          -1.1486446218066837,
          -1.1486532787012336,
          -2.1267493448574815,
          -1.1486475411583323,
          -1.1556638798993848,
          -1.2990212968215173,
          -1.1487067296521265,
          -1.1486548663257845,
          -1.1487664345517692,
          -1.1486623244337293,
          -1.2992876739929202,
          -1.2990251128597092,
          -1.299029470796389,
          -1.299056271761126,
          -1.299015397265444,
          -0.917428077275435,
          -1.1486484490532378,
          -1.2387583949551029,
          -1.1487421963697786,
          -1.2990255328145008,
          -2.291497498661371,
          -2.260485338449464,
          -1.1486760205274709,
          -1.1493797188055213,
          -1.1486845044801686,
          -1.1486456002087555,
          -1.1486761831784185,
          -1.148897466775292,
          -2.240720220430122,
          -1.7745058824357753,
          -1.507336349851612,
          -1.1486426182087182,
          -1.1522977518308648,
          -1.9973604551507098,
          -1.148644405016143,
          -1.2990220662016547,
          -1.196608126544994,
          -0.9174347873920368,
          -2.2320686761773567,
          -1.2990383724737293,
          -0.9174340662119684,
          -1.148742880386743,
          -1.1487490425373492,
          -2.00495846614861,
          -2.0827049043852726,
          -0.9174314581749257,
          -1.2990191782576384,
          -1.1486827165906415,
          -2.2870225773313364,
          -1.148664454282552,
          -1.3029339514153024,
          -0.917457014883325,
          -2.149047257667871,
          -1.1487318456432083,
          -2.2169725088845698,
          -1.148652495226107,
          -0.9174368993133559,
          -1.1486444044617259,
          -0.9174410532059476,
          -1.0548744826655063,
          -2.2576114271656813,
          -1.2990182980081708,
          -1.7748151599578084,
          -1.1487090239563935,
          -1.2990177997057608,
          -1.1486561696477495,
          -2.286374922362422,
          -2.004957998333107,
          -1.9435328456352916,
          -1.1537913337760004,
          -0.9174103416570372,
          -0.9175265887185383,
          -2.25761947788084,
          -1.1486454042377086,
          -2.2576187280789033,
          -2.232043606037702,
          -0.9693814224589583,
          -2.1906195096853507,
          -1.1486449892789068,
          -0.9179395505780966,
          -1.9435303176260628,
          -1.1486626422355102,
          -2.2320437003430547,
          -2.3566049621866387,
          -1.1507079888746528,
          -0.5421278337849689,
          -1.14865594926338,
          -1.299872813884561,
          -1.1486772019265126,
          -2.1905581539175736,
          -2.1820180539563845,
          -2.0940367101058164,
          -2.2675279484812343,
          -2.258039282943203,
          -0.9174687304356343,
          -1.1486482058173213,
          -1.1486816440205716,
          -0.9174509546063382,
          -0.9174374517323605,
          -2.257632221349272,
          -2.276837737635417,
          -1.1977405235144987,
          -1.165230302595962,
          -0.917960524638531,
          -1.2990201940077983,
          -1.1541182642196761,
          -1.1002550494381726,
          -1.14865143503195,
          -1.1486821789261368,
          -1.1486853796106158,
          -1.1486850176235386,
          -2.2576521751969407,
          -1.9527086342687365,
          -0.9174523425363493,
          -1.6126336018263547,
          -1.9435289243231741,
          -2.1491035364353213,
          -1.1486625926326994,
          -0.9175516691354836,
          -1.6126422385016403,
          -2.005094863953873,
          -1.612635540448755,
          -1.7747090000271193,
          -2.295398900743373,
          -2.257613854744883,
          -2.009990412483987,
          -0.9176880496519044,
          -2.1908985422755376,
          -1.1499096545783993,
          -1.371112312164457,
          -0.9174373774687348,
          -1.6126292280541246,
          -1.6127801655018592,
          -1.148662267710027,
          -0.9174376080191031,
          -1.2990190248020428,
          -1.2123423121856438,
          -2.7609742622567124,
          -2.3798419439206704,
          -2.2577387141586085,
          -1.1504740499522883,
          -2.149049365610915,
          -1.2390875569704543,
          -1.148660934127453,
          -1.153337371337421,
          -0.9176176620780924,
          -2.0082581699088773,
          -2.2581031206881557,
          -1.1486538627002825,
          -2.1258916761701774,
          -1.9435361464762266,
          -2.286513479120488,
          -0.9174698597519426,
          -2.257613033721039,
          -0.5421099222008047,
          -2.2320510034815997,
          -2.3244164094288515,
          -2.2863694365787097,
          -2.257921640141668,
          -2.3004627509444693,
          -2.3395637415297292,
          -2.1435841635548942,
          -2.257940690359565,
          -1.2804234048360703,
          -2.0861219345073785,
          -0.9174377445725971,
          -1.1486553368079218,
          -2.191433856545903,
          -2.163822357794293,
          -0.7192520111941392,
          -2.362877953766466,
          -1.2993995841514687,
          -0.9174398222260246,
          -1.2804634795563758,
          -1.9460529922130247,
          -2.2864055058962256,
          -1.2990201950482876,
          -2.2611895827953785,
          -2.2225384374123536,
          -2.2224919584060854,
          -2.1724792267417237,
          -1.1486949139209792,
          -1.9436487310390242,
          -1.943531388840012,
          -1.5073862646055067,
          -1.2990310063851835,
          -0.39474466386293144,
          -1.2990742905199946,
          -1.1997695675794289,
          -1.6134121598545614,
          -2.226125688767273,
          -1.1489016377165133,
          -1.299029453359112,
          -1.1647012593902604,
          -1.1913358413542938,
          -1.1486451887624112,
          -1.1487155975374637,
          -1.774528246865151,
          -2.0326856760568104,
          -2.004957684054706,
          -2.258007183101534,
          -1.943532276161924
         ],
         "z": [
          0.1862916876038136,
          0.3560904826988966,
          -0.03553371848280665,
          0.36121664403034287,
          0.3560855827729668,
          0.474785728172988,
          0.313893272399954,
          -0.035516177191730766,
          0.0949931477527765,
          -0.03551870623648112,
          0.31699869117091534,
          -0.041472543851213545,
          0.18624533759508624,
          -0.035555354149778826,
          -0.03551786270690635,
          0.04396282701184169,
          0.14320479484121237,
          -0.035524602711832214,
          -0.03551659703312568,
          -0.03551574737977138,
          0.09499495826731222,
          0.31265402335967524,
          0.18054162514704145,
          -0.03935015740303281,
          -0.03552055656965345,
          -0.035582136347278276,
          -0.03552031838746688,
          -0.035514687887728914,
          0.19764876570863615,
          -0.03579193055006608,
          -0.03553426289819198,
          -0.035527352457358365,
          -0.06312184732762918,
          0.1862907730482358,
          -0.03556210275532928,
          -0.03552008288663078,
          -0.0355145233914211,
          -0.0355258689645615,
          0.29759897815927144,
          -0.03551601689094545,
          -0.036431238941298696,
          0.18629261043130452,
          -0.035616215845148305,
          -0.03551482823788599,
          -0.035525065640347415,
          -0.0355223796494615,
          0.18612049289124666,
          0.1862838772395819,
          0.18628991329156075,
          0.18629529809603787,
          0.1862971363153869,
          0.0949963336055798,
          -0.03552123556919614,
          0.22170721342711622,
          -0.035552893869934835,
          0.1862851639684635,
          0.33164314779051995,
          0.38558809842948516,
          -0.0355355372329042,
          -0.03566028545327654,
          -0.03555653727912573,
          -0.03551427644028146,
          -0.035560705016918236,
          -0.035758915135628046,
          0.49920363203135715,
          0.31749916482225704,
          0.1873657253227519,
          -0.0355171680368908,
          -0.03700273919267163,
          0.2834955303967477,
          -0.035514371824503746,
          0.1862932680479287,
          -0.03694173249748611,
          0.09498685169549266,
          0.412288534861569,
          0.18629209898510327,
          0.09499176883569327,
          -0.035526863700814634,
          -0.03553993121492754,
          0.35611832909864155,
          0.4107104472888786,
          0.09499184530286015,
          0.18629079961925082,
          -0.035578177170422075,
          0.3623936959926681,
          -0.03553568425168637,
          0.17967405568055045,
          0.09498233270083041,
          0.3617264132724941,
          -0.035516979358372,
          0.49967558162643455,
          -0.035516393771411234,
          0.09499234586891893,
          -0.035514370901160115,
          0.09499589634896233,
          0.8660415044305543,
          0.3877383514862396,
          0.18629524140557813,
          0.3172101594922677,
          -0.035551080028557384,
          0.18629439941218373,
          -0.035517864411033,
          0.4303348850249535,
          0.35611364112786364,
          0.4747862399448949,
          -0.03572612147260675,
          0.09475060940260785,
          0.09497539723531863,
          0.38774016029078273,
          -0.035514483732772155,
          0.3877376748888412,
          0.4122928325409082,
          0.09328972179618918,
          0.36121557581770203,
          -0.03551513617086601,
          0.09497237819072209,
          0.47478592368481093,
          -0.03554461115088505,
          0.4122878407179617,
          0.4727898204894142,
          -0.035594786996895666,
          0.0027412393246767667,
          -0.03552059840277344,
          0.1858772914515814,
          -0.03551925482755636,
          0.3612000232463041,
          0.4217254116049864,
          0.4202392311404556,
          0.41830750292473173,
          0.3871864066156028,
          0.0949849683229236,
          -0.03551972659284912,
          -0.035516841401074445,
          0.09498821988311623,
          0.09499563093337193,
          0.38773583530153416,
          0.4396915211700359,
          -0.08577585901932992,
          0.11609343412832566,
          0.0949441924801294,
          0.1862916678171144,
          -0.03567724730835753,
          -0.0768741929834449,
          -0.035517299957142326,
          -0.03552053436710416,
          -0.03552517670601767,
          -0.035525486109273544,
          0.38773680225771084,
          0.47295506985550695,
          0.0941870402127267,
          0.1977127061789065,
          0.47478288825967213,
          0.3617162729328719,
          -0.03554465354817539,
          0.09494057651672333,
          0.19771178791532423,
          0.35611359284360783,
          0.1977121497651618,
          0.31736843094879885,
          0.3808452237744144,
          0.3877392736000139,
          0.35581581025927256,
          0.09496491982960628,
          0.36107849315711754,
          -0.036738281647888435,
          0.13271947321810867,
          0.09499515244071607,
          0.19771173453915347,
          0.1976198649447352,
          -0.03552833059563973,
          0.09499387388473057,
          0.18629105303760035,
          0.19139063130293857,
          0.3568552422358196,
          0.5157000363277906,
          0.3876968198761652,
          -0.03856152218538893,
          0.3616959359152461,
          0.22152005197937308,
          -0.0355184033391796,
          -0.039990848916409465,
          0.09492781355542483,
          0.35594915535764177,
          0.387702100887057,
          -0.035515686072371794,
          0.4204115154893541,
          0.4747664659273778,
          0.43032484364090545,
          0.09498593358982141,
          0.3877358511754062,
          0.002738496366690573,
          0.4122916482050181,
          0.4938274337021675,
          0.43033522244574485,
          0.3877314347073671,
          0.4537729008273667,
          0.37294262954857293,
          0.34446430587444454,
          0.3875632658961613,
          0.19718432759248936,
          0.48210414475992963,
          0.09499491286162,
          -0.035514935769824785,
          0.36118995884750404,
          0.46985200766835444,
          0.16815706057295804,
          0.4221259404892005,
          0.1856572570829673,
          0.09499484418654992,
          0.19718264766143648,
          0.4734453957158339,
          0.43033215913108175,
          0.18629166870645783,
          0.38707541053260025,
          0.38229303527321046,
          0.38229014822981766,
          0.3401294999054402,
          -0.03552624998865828,
          0.47477379012571125,
          0.4747804360400988,
          0.18736227625431218,
          0.18628108095676715,
          -0.007513838625552663,
          0.18627011994237747,
          -0.03705242841245068,
          0.19654609847760857,
          0.3821797517002335,
          -0.035755350083512875,
          0.18628989838729829,
          -0.04484621424430237,
          0.14319760019158026,
          -0.03551572191820063,
          -0.03553716101677133,
          0.31751698933346534,
          0.304518594501569,
          0.3561141645372825,
          0.3874355450101529,
          0.4747857531957115
         ]
        },
        {
         "customdata": [
          [
           "VeChainThor Authority"
          ],
          [
           "Proof-of-BibleHash"
          ],
          [
           "SHA-256 + Hive"
          ],
          [
           "Proof-of-Authority"
          ],
          [
           "ECC 256K1"
          ]
         ],
         "hovertemplate": "<b>%{hovertext}</b><br><br>Class=%{marker.color}<br>PC 1=%{x}<br>PC 2=%{y}<br>PC 3=%{z}<br>Algorithm=%{customdata[0]}<extra></extra>",
         "hovertext": [
          "Vechain",
          "BiblePay",
          "LitecoinCash",
          "Poa Network",
          "Acute Angle Cloud"
         ],
         "legendgroup": "1",
         "marker": {
          "color": [
           1,
           1,
           1,
           1,
           1
          ],
          "coloraxis": "coloraxis",
          "symbol": "square"
         },
         "mode": "markers",
         "name": "1",
         "scene": "scene",
         "showlegend": true,
         "type": "scatter3d",
         "x": [
          4.391119936182267,
          -0.20489318620254376,
          -0.3662564499893919,
          -0.3904038001566948,
          -0.34097408542147306
         ],
         "y": [
          2.49653835838291,
          2.773074780301939,
          2.9170429162232514,
          4.1368219681373155,
          3.4115377940606484
         ],
         "z": [
          8.975279781590162,
          12.558202219656017,
          14.824586592176587,
          10.911575735802153,
          20.55138067586384
         ]
        },
        {
         "customdata": [
          [
           "TRC10"
          ]
         ],
         "hovertemplate": "<b>%{hovertext}</b><br><br>Class=%{marker.color}<br>PC 1=%{x}<br>PC 2=%{y}<br>PC 3=%{z}<br>Algorithm=%{customdata[0]}<extra></extra>",
         "hovertext": [
          "BitTorrent"
         ],
         "legendgroup": "2",
         "marker": {
          "color": [
           2
          ],
          "coloraxis": "coloraxis",
          "symbol": "x"
         },
         "mode": "markers",
         "name": "2",
         "scene": "scene",
         "showlegend": true,
         "type": "scatter3d",
         "x": [
          34.064376341669785
         ],
         "y": [
          1.635698168572439
         ],
         "z": [
          -1.0621479825350815
         ]
        }
       ],
       "layout": {
        "coloraxis": {
         "colorbar": {
          "title": {
           "text": "Class"
          }
         },
         "colorscale": [
          [
           0,
           "#0d0887"
          ],
          [
           0.1111111111111111,
           "#46039f"
          ],
          [
           0.2222222222222222,
           "#7201a8"
          ],
          [
           0.3333333333333333,
           "#9c179e"
          ],
          [
           0.4444444444444444,
           "#bd3786"
          ],
          [
           0.5555555555555556,
           "#d8576b"
          ],
          [
           0.6666666666666666,
           "#ed7953"
          ],
          [
           0.7777777777777778,
           "#fb9f3a"
          ],
          [
           0.8888888888888888,
           "#fdca26"
          ],
          [
           1,
           "#f0f921"
          ]
         ]
        },
        "legend": {
         "title": {
          "text": "Class"
         },
         "tracegroupgap": 0,
         "x": 0,
         "y": 1
        },
        "margin": {
         "t": 60
        },
        "scene": {
         "domain": {
          "x": [
           0,
           1
          ],
          "y": [
           0,
           1
          ]
         },
         "xaxis": {
          "title": {
           "text": "PC 1"
          }
         },
         "yaxis": {
          "title": {
           "text": "PC 2"
          }
         },
         "zaxis": {
          "title": {
           "text": "PC 3"
          }
         }
        },
        "template": {
         "data": {
          "bar": [
           {
            "error_x": {
             "color": "#2a3f5f"
            },
            "error_y": {
             "color": "#2a3f5f"
            },
            "marker": {
             "line": {
              "color": "#E5ECF6",
              "width": 0.5
             },
             "pattern": {
              "fillmode": "overlay",
              "size": 10,
              "solidity": 0.2
             }
            },
            "type": "bar"
           }
          ],
          "barpolar": [
           {
            "marker": {
             "line": {
              "color": "#E5ECF6",
              "width": 0.5
             },
             "pattern": {
              "fillmode": "overlay",
              "size": 10,
              "solidity": 0.2
             }
            },
            "type": "barpolar"
           }
          ],
          "carpet": [
           {
            "aaxis": {
             "endlinecolor": "#2a3f5f",
             "gridcolor": "white",
             "linecolor": "white",
             "minorgridcolor": "white",
             "startlinecolor": "#2a3f5f"
            },
            "baxis": {
             "endlinecolor": "#2a3f5f",
             "gridcolor": "white",
             "linecolor": "white",
             "minorgridcolor": "white",
             "startlinecolor": "#2a3f5f"
            },
            "type": "carpet"
           }
          ],
          "choropleth": [
           {
            "colorbar": {
             "outlinewidth": 0,
             "ticks": ""
            },
            "type": "choropleth"
           }
          ],
          "contour": [
           {
            "colorbar": {
             "outlinewidth": 0,
             "ticks": ""
            },
            "colorscale": [
             [
              0,
              "#0d0887"
             ],
             [
              0.1111111111111111,
              "#46039f"
             ],
             [
              0.2222222222222222,
              "#7201a8"
             ],
             [
              0.3333333333333333,
              "#9c179e"
             ],
             [
              0.4444444444444444,
              "#bd3786"
             ],
             [
              0.5555555555555556,
              "#d8576b"
             ],
             [
              0.6666666666666666,
              "#ed7953"
             ],
             [
              0.7777777777777778,
              "#fb9f3a"
             ],
             [
              0.8888888888888888,
              "#fdca26"
             ],
             [
              1,
              "#f0f921"
             ]
            ],
            "type": "contour"
           }
          ],
          "contourcarpet": [
           {
            "colorbar": {
             "outlinewidth": 0,
             "ticks": ""
            },
            "type": "contourcarpet"
           }
          ],
          "heatmap": [
           {
            "colorbar": {
             "outlinewidth": 0,
             "ticks": ""
            },
            "colorscale": [
             [
              0,
              "#0d0887"
             ],
             [
              0.1111111111111111,
              "#46039f"
             ],
             [
              0.2222222222222222,
              "#7201a8"
             ],
             [
              0.3333333333333333,
              "#9c179e"
             ],
             [
              0.4444444444444444,
              "#bd3786"
             ],
             [
              0.5555555555555556,
              "#d8576b"
             ],
             [
              0.6666666666666666,
              "#ed7953"
             ],
             [
              0.7777777777777778,
              "#fb9f3a"
             ],
             [
              0.8888888888888888,
              "#fdca26"
             ],
             [
              1,
              "#f0f921"
             ]
            ],
            "type": "heatmap"
           }
          ],
          "heatmapgl": [
           {
            "colorbar": {
             "outlinewidth": 0,
             "ticks": ""
            },
            "colorscale": [
             [
              0,
              "#0d0887"
             ],
             [
              0.1111111111111111,
              "#46039f"
             ],
             [
              0.2222222222222222,
              "#7201a8"
             ],
             [
              0.3333333333333333,
              "#9c179e"
             ],
             [
              0.4444444444444444,
              "#bd3786"
             ],
             [
              0.5555555555555556,
              "#d8576b"
             ],
             [
              0.6666666666666666,
              "#ed7953"
             ],
             [
              0.7777777777777778,
              "#fb9f3a"
             ],
             [
              0.8888888888888888,
              "#fdca26"
             ],
             [
              1,
              "#f0f921"
             ]
            ],
            "type": "heatmapgl"
           }
          ],
          "histogram": [
           {
            "marker": {
             "pattern": {
              "fillmode": "overlay",
              "size": 10,
              "solidity": 0.2
             }
            },
            "type": "histogram"
           }
          ],
          "histogram2d": [
           {
            "colorbar": {
             "outlinewidth": 0,
             "ticks": ""
            },
            "colorscale": [
             [
              0,
              "#0d0887"
             ],
             [
              0.1111111111111111,
              "#46039f"
             ],
             [
              0.2222222222222222,
              "#7201a8"
             ],
             [
              0.3333333333333333,
              "#9c179e"
             ],
             [
              0.4444444444444444,
              "#bd3786"
             ],
             [
              0.5555555555555556,
              "#d8576b"
             ],
             [
              0.6666666666666666,
              "#ed7953"
             ],
             [
              0.7777777777777778,
              "#fb9f3a"
             ],
             [
              0.8888888888888888,
              "#fdca26"
             ],
             [
              1,
              "#f0f921"
             ]
            ],
            "type": "histogram2d"
           }
          ],
          "histogram2dcontour": [
           {
            "colorbar": {
             "outlinewidth": 0,
             "ticks": ""
            },
            "colorscale": [
             [
              0,
              "#0d0887"
             ],
             [
              0.1111111111111111,
              "#46039f"
             ],
             [
              0.2222222222222222,
              "#7201a8"
             ],
             [
              0.3333333333333333,
              "#9c179e"
             ],
             [
              0.4444444444444444,
              "#bd3786"
             ],
             [
              0.5555555555555556,
              "#d8576b"
             ],
             [
              0.6666666666666666,
              "#ed7953"
             ],
             [
              0.7777777777777778,
              "#fb9f3a"
             ],
             [
              0.8888888888888888,
              "#fdca26"
             ],
             [
              1,
              "#f0f921"
             ]
            ],
            "type": "histogram2dcontour"
           }
          ],
          "mesh3d": [
           {
            "colorbar": {
             "outlinewidth": 0,
             "ticks": ""
            },
            "type": "mesh3d"
           }
          ],
          "parcoords": [
           {
            "line": {
             "colorbar": {
              "outlinewidth": 0,
              "ticks": ""
             }
            },
            "type": "parcoords"
           }
          ],
          "pie": [
           {
            "automargin": true,
            "type": "pie"
           }
          ],
          "scatter": [
           {
            "marker": {
             "colorbar": {
              "outlinewidth": 0,
              "ticks": ""
             }
            },
            "type": "scatter"
           }
          ],
          "scatter3d": [
           {
            "line": {
             "colorbar": {
              "outlinewidth": 0,
              "ticks": ""
             }
            },
            "marker": {
             "colorbar": {
              "outlinewidth": 0,
              "ticks": ""
             }
            },
            "type": "scatter3d"
           }
          ],
          "scattercarpet": [
           {
            "marker": {
             "colorbar": {
              "outlinewidth": 0,
              "ticks": ""
             }
            },
            "type": "scattercarpet"
           }
          ],
          "scattergeo": [
           {
            "marker": {
             "colorbar": {
              "outlinewidth": 0,
              "ticks": ""
             }
            },
            "type": "scattergeo"
           }
          ],
          "scattergl": [
           {
            "marker": {
             "colorbar": {
              "outlinewidth": 0,
              "ticks": ""
             }
            },
            "type": "scattergl"
           }
          ],
          "scattermapbox": [
           {
            "marker": {
             "colorbar": {
              "outlinewidth": 0,
              "ticks": ""
             }
            },
            "type": "scattermapbox"
           }
          ],
          "scatterpolar": [
           {
            "marker": {
             "colorbar": {
              "outlinewidth": 0,
              "ticks": ""
             }
            },
            "type": "scatterpolar"
           }
          ],
          "scatterpolargl": [
           {
            "marker": {
             "colorbar": {
              "outlinewidth": 0,
              "ticks": ""
             }
            },
            "type": "scatterpolargl"
           }
          ],
          "scatterternary": [
           {
            "marker": {
             "colorbar": {
              "outlinewidth": 0,
              "ticks": ""
             }
            },
            "type": "scatterternary"
           }
          ],
          "surface": [
           {
            "colorbar": {
             "outlinewidth": 0,
             "ticks": ""
            },
            "colorscale": [
             [
              0,
              "#0d0887"
             ],
             [
              0.1111111111111111,
              "#46039f"
             ],
             [
              0.2222222222222222,
              "#7201a8"
             ],
             [
              0.3333333333333333,
              "#9c179e"
             ],
             [
              0.4444444444444444,
              "#bd3786"
             ],
             [
              0.5555555555555556,
              "#d8576b"
             ],
             [
              0.6666666666666666,
              "#ed7953"
             ],
             [
              0.7777777777777778,
              "#fb9f3a"
             ],
             [
              0.8888888888888888,
              "#fdca26"
             ],
             [
              1,
              "#f0f921"
             ]
            ],
            "type": "surface"
           }
          ],
          "table": [
           {
            "cells": {
             "fill": {
              "color": "#EBF0F8"
             },
             "line": {
              "color": "white"
             }
            },
            "header": {
             "fill": {
              "color": "#C8D4E3"
             },
             "line": {
              "color": "white"
             }
            },
            "type": "table"
           }
          ]
         },
         "layout": {
          "annotationdefaults": {
           "arrowcolor": "#2a3f5f",
           "arrowhead": 0,
           "arrowwidth": 1
          },
          "autotypenumbers": "strict",
          "coloraxis": {
           "colorbar": {
            "outlinewidth": 0,
            "ticks": ""
           }
          },
          "colorscale": {
           "diverging": [
            [
             0,
             "#8e0152"
            ],
            [
             0.1,
             "#c51b7d"
            ],
            [
             0.2,
             "#de77ae"
            ],
            [
             0.3,
             "#f1b6da"
            ],
            [
             0.4,
             "#fde0ef"
            ],
            [
             0.5,
             "#f7f7f7"
            ],
            [
             0.6,
             "#e6f5d0"
            ],
            [
             0.7,
             "#b8e186"
            ],
            [
             0.8,
             "#7fbc41"
            ],
            [
             0.9,
             "#4d9221"
            ],
            [
             1,
             "#276419"
            ]
           ],
           "sequential": [
            [
             0,
             "#0d0887"
            ],
            [
             0.1111111111111111,
             "#46039f"
            ],
            [
             0.2222222222222222,
             "#7201a8"
            ],
            [
             0.3333333333333333,
             "#9c179e"
            ],
            [
             0.4444444444444444,
             "#bd3786"
            ],
            [
             0.5555555555555556,
             "#d8576b"
            ],
            [
             0.6666666666666666,
             "#ed7953"
            ],
            [
             0.7777777777777778,
             "#fb9f3a"
            ],
            [
             0.8888888888888888,
             "#fdca26"
            ],
            [
             1,
             "#f0f921"
            ]
           ],
           "sequentialminus": [
            [
             0,
             "#0d0887"
            ],
            [
             0.1111111111111111,
             "#46039f"
            ],
            [
             0.2222222222222222,
             "#7201a8"
            ],
            [
             0.3333333333333333,
             "#9c179e"
            ],
            [
             0.4444444444444444,
             "#bd3786"
            ],
            [
             0.5555555555555556,
             "#d8576b"
            ],
            [
             0.6666666666666666,
             "#ed7953"
            ],
            [
             0.7777777777777778,
             "#fb9f3a"
            ],
            [
             0.8888888888888888,
             "#fdca26"
            ],
            [
             1,
             "#f0f921"
            ]
           ]
          },
          "colorway": [
           "#636efa",
           "#EF553B",
           "#00cc96",
           "#ab63fa",
           "#FFA15A",
           "#19d3f3",
           "#FF6692",
           "#B6E880",
           "#FF97FF",
           "#FECB52"
          ],
          "font": {
           "color": "#2a3f5f"
          },
          "geo": {
           "bgcolor": "white",
           "lakecolor": "white",
           "landcolor": "#E5ECF6",
           "showlakes": true,
           "showland": true,
           "subunitcolor": "white"
          },
          "hoverlabel": {
           "align": "left"
          },
          "hovermode": "closest",
          "mapbox": {
           "style": "light"
          },
          "paper_bgcolor": "white",
          "plot_bgcolor": "#E5ECF6",
          "polar": {
           "angularaxis": {
            "gridcolor": "white",
            "linecolor": "white",
            "ticks": ""
           },
           "bgcolor": "#E5ECF6",
           "radialaxis": {
            "gridcolor": "white",
            "linecolor": "white",
            "ticks": ""
           }
          },
          "scene": {
           "xaxis": {
            "backgroundcolor": "#E5ECF6",
            "gridcolor": "white",
            "gridwidth": 2,
            "linecolor": "white",
            "showbackground": true,
            "ticks": "",
            "zerolinecolor": "white"
           },
           "yaxis": {
            "backgroundcolor": "#E5ECF6",
            "gridcolor": "white",
            "gridwidth": 2,
            "linecolor": "white",
            "showbackground": true,
            "ticks": "",
            "zerolinecolor": "white"
           },
           "zaxis": {
            "backgroundcolor": "#E5ECF6",
            "gridcolor": "white",
            "gridwidth": 2,
            "linecolor": "white",
            "showbackground": true,
            "ticks": "",
            "zerolinecolor": "white"
           }
          },
          "shapedefaults": {
           "line": {
            "color": "#2a3f5f"
           }
          },
          "ternary": {
           "aaxis": {
            "gridcolor": "white",
            "linecolor": "white",
            "ticks": ""
           },
           "baxis": {
            "gridcolor": "white",
            "linecolor": "white",
            "ticks": ""
           },
           "bgcolor": "#E5ECF6",
           "caxis": {
            "gridcolor": "white",
            "linecolor": "white",
            "ticks": ""
           }
          },
          "title": {
           "x": 0.05
          },
          "xaxis": {
           "automargin": true,
           "gridcolor": "white",
           "linecolor": "white",
           "ticks": "",
           "title": {
            "standoff": 15
           },
           "zerolinecolor": "white",
           "zerolinewidth": 2
          },
          "yaxis": {
           "automargin": true,
           "gridcolor": "white",
           "linecolor": "white",
           "ticks": "",
           "title": {
            "standoff": 15
           },
           "zerolinecolor": "white",
           "zerolinewidth": 2
          }
         }
        },
        "width": 800
       }
      },
      "text/html": [
       "<div>                            <div id=\"baa8f49a-d367-4542-934a-78826df255da\" class=\"plotly-graph-div\" style=\"height:525px; width:800px;\"></div>            <script type=\"text/javascript\">                require([\"plotly\"], function(Plotly) {                    window.PLOTLYENV=window.PLOTLYENV || {};                                    if (document.getElementById(\"baa8f49a-d367-4542-934a-78826df255da\")) {                    Plotly.newPlot(                        \"baa8f49a-d367-4542-934a-78826df255da\",                        [{\"customdata\":[[\"Scrypt\"],[\"Scrypt\"],[\"X13\"],[\"X11\"],[\"SHA-512\"],[\"SHA-256\"],[\"SHA-256\"],[\"X15\"],[\"Scrypt\"],[\"Scrypt\"],[\"Scrypt\"],[\"Scrypt\"],[\"Scrypt\"],[\"Scrypt\"],[\"Groestl\"],[\"PoS\"],[\"Scrypt\"],[\"Scrypt\"],[\"X11\"],[\"X11\"],[\"SHA3\"],[\"Scrypt\"],[\"SHA-256\"],[\"Scrypt\"],[\"X13\"],[\"X13\"],[\"NeoScrypt\"],[\"Scrypt\"],[\"Scrypt\"],[\"Scrypt\"],[\"X11\"],[\"X11\"],[\"Multiple\"],[\"PHI1612\"],[\"X11\"],[\"Scrypt\"],[\"Scrypt\"],[\"Scrypt\"],[\"X11\"],[\"Multiple\"],[\"X13\"],[\"Scrypt\"],[\"Shabal256\"],[\"Counterparty\"],[\"SHA-256\"],[\"Groestl\"],[\"Scrypt\"],[\"X13\"],[\"Scrypt\"],[\"Scrypt\"],[\"X13\"],[\"X11\"],[\"Scrypt\"],[\"X11\"],[\"SHA3\"],[\"QUAIT\"],[\"X11\"],[\"Scrypt\"],[\"X13\"],[\"SHA-256\"],[\"X15\"],[\"BLAKE256\"],[\"SHA-256\"],[\"X11\"],[\"SHA-256\"],[\"NIST5\"],[\"Scrypt\"],[\"Scrypt\"],[\"X11\"],[\"Scrypt\"],[\"SHA-256\"],[\"Scrypt\"],[\"PoS\"],[\"X11\"],[\"SHA-256\"],[\"SHA-256\"],[\"NIST5\"],[\"X11\"],[\"POS 3.0\"],[\"Scrypt\"],[\"Scrypt\"],[\"Scrypt\"],[\"X13\"],[\"X11\"],[\"X11\"],[\"Scrypt\"],[\"SHA-256\"],[\"X11\"],[\"Scrypt\"],[\"Scrypt\"],[\"Scrypt\"],[\"Scrypt\"],[\"SHA-256D\"],[\"PoS\"],[\"Scrypt\"],[\"X11\"],[\"PoS\"],[\"X13\"],[\"X14\"],[\"PoS\"],[\"SHA-256D\"],[\"DPoS\"],[\"X11\"],[\"X13\"],[\"X11\"],[\"PoS\"],[\"Scrypt\"],[\"Scrypt\"],[\"PoS\"],[\"X11\"],[\"SHA-256\"],[\"Scrypt\"],[\"X11\"],[\"Scrypt\"],[\"Scrypt\"],[\"X11\"],[\"Scrypt\"],[\"Scrypt\"],[\"Scrypt\"],[\"Scrypt\"],[\"Quark\"],[\"QuBit\"],[\"Scrypt\"],[\"SHA-256\"],[\"X11\"],[\"Scrypt\"],[\"Scrypt\"],[\"Scrypt\"],[\"Scrypt\"],[\"X13\"],[\"Scrypt\"],[\"Scrypt\"],[\"X11\"],[\"Blake2S\"],[\"X11\"],[\"PoS\"],[\"X11\"],[\"PoS\"],[\"X11\"],[\"Scrypt\"],[\"Scrypt\"],[\"Scrypt\"],[\"SHA-256\"],[\"X11\"],[\"Scrypt\"],[\"PoS\"],[\"Scrypt\"],[\"X15\"],[\"SHA-256\"],[\"POS 3.0\"],[\"536\"],[\"NIST5\"],[\"NIST5\"],[\"Skein\"],[\"X13\"],[\"Scrypt\"],[\"X13\"],[\"SkunkHash v2 Raptor\"],[\"Skein\"],[\"X11\"],[\"Scrypt\"],[\"PoS\"],[\"Scrypt\"],[\"Scrypt\"],[\"SHA-512\"],[\"Ouroboros\"],[\"X11\"],[\"NeoScrypt\"],[\"Scrypt\"],[\"Lyra2REv2\"],[\"Scrypt\"],[\"SHA-256\"],[\"NIST5\"],[\"PHI1612\"],[\"Scrypt\"],[\"Quark\"],[\"POS 2.0\"],[\"Scrypt\"],[\"SHA-256\"],[\"X11\"],[\"DPoS\"],[\"NIST5\"],[\"X13\"],[\"Scrypt\"],[\"NIST5\"],[\"Quark\"],[\"Scrypt\"],[\"Scrypt\"],[\"X11\"],[\"Quark\"],[\"Scrypt\"],[\"Scrypt\"],[\"X11\"],[\"POS 3.0\"],[\"Ethash\"],[\"Scrypt\"],[\"Scrypt\"],[\"X13\"],[\"C11\"],[\"X11\"],[\"XEVAN\"],[\"Scrypt\"],[\"VBFT\"],[\"NIST5\"],[\"Scrypt\"],[\"Scrypt\"],[\"Scrypt\"],[\"Green Protocol\"],[\"PoS\"],[\"Scrypt\"],[\"Semux BFT consensus\"],[\"Quark\"],[\"PoS\"],[\"X16R\"],[\"Scrypt\"],[\"XEVAN\"],[\"Scrypt\"],[\"Scrypt\"],[\"Scrypt\"],[\"SHA-256D\"],[\"Scrypt\"],[\"X15\"],[\"Scrypt\"],[\"Quark\"],[\"SHA-256\"],[\"DPoS\"],[\"X16R\"],[\"Quark\"],[\"Quark\"],[\"Scrypt\"],[\"Lyra2REv2\"],[\"Quark\"],[\"Scrypt\"],[\"X11\"],[\"X11\"],[\"Scrypt\"],[\"PoS\"],[\"Keccak\"],[\"X11\"],[\"Scrypt\"],[\"SHA-512\"],[\"XEVAN\"],[\"XEVAN\"],[\"X11\"],[\"Quark\"],[\"Equihash\"],[\"Scrypt\"],[\"Quark\"],[\"Quark\"],[\"Scrypt\"],[\"X11\"],[\"Scrypt\"],[\"XEVAN\"],[\"SHA-256D\"],[\"X11\"],[\"X11\"],[\"DPoS\"],[\"Scrypt\"],[\"X11\"],[\"Scrypt\"],[\"Scrypt\"],[\"SHA-256\"],[\"Scrypt\"],[\"X11\"],[\"Scrypt\"],[\"SHA-256\"],[\"X11\"],[\"Scrypt\"],[\"Scrypt\"],[\"X11\"],[\"Scrypt\"],[\"PoS\"],[\"X11\"],[\"SHA-256\"],[\"DPoS\"],[\"Scrypt\"],[\"Scrypt\"],[\"NeoScrypt\"],[\"X13\"],[\"DPoS\"],[\"DPoS\"],[\"SHA-256\"],[\"Leased POS\"],[\"PoS\"],[\"PoS\"],[\"SHA-256\"],[\"Scrypt\"],[\"Scrypt\"]],\"hovertemplate\":\"<b>%{hovertext}</b><br><br>Class=%{marker.color}<br>PC 1=%{x}<br>PC 2=%{y}<br>PC 3=%{z}<br>Algorithm=%{customdata[0]}<extra></extra>\",\"hovertext\":[\"42 Coin\",\"404Coin\",\"EliteCoin\",\"Dash\",\"Bitshares\",\"BitcoinDark\",\"PayCoin\",\"KoboCoin\",\"Aurora Coin\",\"BlueCoin\",\"EnergyCoin\",\"BitBar\",\"CryptoBullion\",\"CasinoCoin\",\"Diamond\",\"Exclusive Coin\",\"FlutterCoin\",\"HoboNickels\",\"HyperStake\",\"IOCoin\",\"MaxCoin\",\"MintCoin\",\"MazaCoin\",\"Nautilus Coin\",\"NavCoin\",\"OpalCoin\",\"Orbitcoin\",\"PotCoin\",\"PhoenixCoin\",\"Reddcoin\",\"SuperCoin\",\"SyncCoin\",\"TeslaCoin\",\"TittieCoin\",\"TorCoin\",\"UnitaryStatus Dollar\",\"UltraCoin\",\"VeriCoin\",\"X11 Coin\",\"Crypti\",\"StealthCoin\",\"ZCC Coin\",\"BurstCoin\",\"StorjCoin\",\"Neutron\",\"FairCoin\",\"RubyCoin\",\"Kore\",\"Dnotes\",\"8BIT Coin\",\"Sativa Coin\",\"Ucoin\",\"Vtorrent\",\"IslaCoin\",\"Nexus\",\"Droidz\",\"Squall Coin\",\"Diggits\",\"Paycon\",\"Emercoin\",\"EverGreenCoin\",\"Decred\",\"EDRCoin\",\"Hitcoin\",\"DubaiCoin\",\"PWR Coin\",\"BillaryCoin\",\"GPU Coin\",\"EuropeCoin\",\"ZeitCoin\",\"SwingCoin\",\"SafeExchangeCoin\",\"Nebuchadnezzar\",\"Ratecoin\",\"Revenu\",\"Clockcoin\",\"VIP Tokens\",\"BitSend\",\"Let it Ride\",\"PutinCoin\",\"iBankCoin\",\"Frankywillcoin\",\"MudraCoin\",\"Lutetium Coin\",\"GoldBlocks\",\"CarterCoin\",\"BitTokens\",\"MustangCoin\",\"ZoneCoin\",\"RootCoin\",\"BitCurrency\",\"Swiscoin\",\"BuzzCoin\",\"Opair\",\"PesoBit\",\"Halloween Coin\",\"CoffeeCoin\",\"RoyalCoin\",\"GanjaCoin V2\",\"TeamUP\",\"LanaCoin\",\"ARK\",\"InsaneCoin\",\"EmberCoin\",\"XenixCoin\",\"FreeCoin\",\"PLNCoin\",\"AquariusCoin\",\"Creatio\",\"Eternity\",\"Eurocoin\",\"BitcoinFast\",\"Stakenet\",\"BitConnect Coin\",\"MoneyCoin\",\"Enigma\",\"Russiacoin\",\"PandaCoin\",\"GameUnits\",\"GAKHcoin\",\"Allsafe\",\"LiteCreed\",\"Klingon Empire Darsek\",\"Internet of People\",\"KushCoin\",\"Printerium\",\"Impeach\",\"Zilbercoin\",\"FirstCoin\",\"FindCoin\",\"OpenChat\",\"RenosCoin\",\"VirtacoinPlus\",\"TajCoin\",\"Impact\",\"Atmos\",\"HappyCoin\",\"MacronCoin\",\"Condensate\",\"Independent Money System\",\"ArgusCoin\",\"LomoCoin\",\"ProCurrency\",\"GoldReserve\",\"GrowthCoin\",\"Phreak\",\"Degas Coin\",\"HTML5 Coin\",\"Ultimate Secure Cash\",\"QTUM\",\"Espers\",\"Denarius\",\"Virta Unique Coin\",\"Bitcoin Planet\",\"BritCoin\",\"Linda\",\"DeepOnion\",\"Signatum\",\"Cream\",\"Monoeci\",\"Draftcoin\",\"Stakecoin\",\"CoinonatX\",\"Ethereum Dark\",\"Obsidian\",\"Cardano\",\"Regalcoin\",\"TrezarCoin\",\"TerraNovaCoin\",\"Rupee\",\"WomenCoin\",\"Theresa May Coin\",\"NamoCoin\",\"LUXCoin\",\"Xios\",\"Bitcloud 2.0\",\"KekCoin\",\"BlackholeCoin\",\"Infinity Economics\",\"Magnet\",\"Lamden Tau\",\"Electra\",\"Bitcoin Diamond\",\"Cash & Back Coin\",\"Bulwark\",\"Kalkulus\",\"GermanCoin\",\"LiteCoin Ultra\",\"PhantomX\",\"Digiwage\",\"Trollcoin\",\"Litecoin Plus\",\"Monkey Project\",\"TokenPay\",\"1717 Masonic Commemorative Token\",\"My Big Coin\",\"Unified Society USDEX\",\"Tokyo Coin\",\"Stipend\",\"Pushi\",\"Ellerium\",\"Velox\",\"Ontology\",\"Bitspace\",\"Briacoin\",\"Ignition\",\"MedicCoin\",\"Bitcoin Green\",\"Deviant Coin\",\"Abjcoin\",\"Semux\",\"Carebit\",\"Zealium\",\"Proton\",\"iDealCash\",\"Bitcoin Incognito\",\"HollyWoodCoin\",\"Swisscoin\",\"Xt3ch\",\"TheVig\",\"EmaratCoin\",\"Dekado\",\"Lynx\",\"Poseidon Quark\",\"BitcoinWSpectrum\",\"Muse\",\"Trivechain\",\"Dystem\",\"Giant\",\"Peony Coin\",\"Absolute Coin\",\"Vitae\",\"TPCash\",\"ARENON\",\"EUNO\",\"MMOCoin\",\"Ketan\",\"XDNA\",\"PAXEX\",\"ThunderStake\",\"Kcash\",\"Bettex coin\",\"BitMoney\",\"Junson Ming Chan Coin\",\"HerbCoin\",\"PirateCash\",\"Oduwa\",\"Galilel\",\"Crypto Sports\",\"Credit\",\"Dash Platinum\",\"Nasdacoin\",\"Beetle Coin\",\"Titan Coin\",\"Award\",\"Insane Coin\",\"ALAX\",\"LiteDoge\",\"TruckCoin\",\"OrangeCoin\",\"BitstarCoin\",\"NeosCoin\",\"HyperCoin\",\"PinkCoin\",\"AudioCoin\",\"IncaKoin\",\"Piggy Coin\",\"Genstake\",\"XiaoMiCoin\",\"CapriCoin\",\" ClubCoin\",\"Radium\",\"Creditbit \",\"OKCash\",\"Lisk\",\"HiCoin\",\"WhiteCoin\",\"FriendshipCoin\",\"Triangles Coin\",\"EOS\",\"Oxycoin\",\"TigerCash\",\"Waves\",\"Particl\",\"Nxt\",\"ZEPHYR\",\"Gapcoin\",\"BitcoinPlus\"],\"legendgroup\":\"0\",\"marker\":{\"color\":[0,0,0,0,0,0,0,0,0,0,0,0,0,0,0,0,0,0,0,0,0,0,0,0,0,0,0,0,0,0,0,0,0,0,0,0,0,0,0,0,0,0,0,0,0,0,0,0,0,0,0,0,0,0,0,0,0,0,0,0,0,0,0,0,0,0,0,0,0,0,0,0,0,0,0,0,0,0,0,0,0,0,0,0,0,0,0,0,0,0,0,0,0,0,0,0,0,0,0,0,0,0,0,0,0,0,0,0,0,0,0,0,0,0,0,0,0,0,0,0,0,0,0,0,0,0,0,0,0,0,0,0,0,0,0,0,0,0,0,0,0,0,0,0,0,0,0,0,0,0,0,0,0,0,0,0,0,0,0,0,0,0,0,0,0,0,0,0,0,0,0,0,0,0,0,0,0,0,0,0,0,0,0,0,0,0,0,0,0,0,0,0,0,0,0,0,0,0,0,0,0,0,0,0,0,0,0,0,0,0,0,0,0,0,0,0,0,0,0,0,0,0,0,0,0,0,0,0,0,0,0,0,0,0,0,0,0,0,0,0,0,0,0,0,0,0,0,0,0,0,0,0,0,0,0,0,0,0,0,0,0,0,0,0,0,0,0,0,0,0,0,0,0,0,0,0,0,0,0,0,0,0,0,0,0,0,0,0],\"coloraxis\":\"coloraxis\",\"symbol\":\"circle\"},\"mode\":\"markers\",\"name\":\"0\",\"scene\":\"scene\",\"showlegend\":true,\"x\":[-0.33091416248371797,-0.31425402932695795,2.3037411776819785,-0.3996392712060551,-0.27187528067324,-0.31365355481699836,-0.26866584233182206,-0.2568055915373655,-0.33057380693854127,-0.32315132590785184,-0.3294107314695935,-0.33091010066031623,-0.3308943837298298,0.6427213371450006,-0.3777650002043891,-0.3568560849991342,-0.28028223711992784,-0.32897342038966276,-0.33447513239142995,-0.3995339671637007,-0.4242162428995484,-0.025846626720480395,-0.2769694903196246,-0.2856776416846788,-0.27893871249960644,-0.27956092231818414,-0.3482681454420917,-0.3252181056413283,-0.3293162985630745,0.02722782794591349,-0.3543617674114183,-0.3999054509153468,-0.25171152888543313,-0.29746453645954446,-0.39981713076827136,-0.30615265619929777,-0.32959196055508705,-0.25114652647206065,-0.3997815886207983,-0.2521788651563826,-0.27934178542827365,-0.3220212988420828,-0.07306228193237964,-0.3371541033856151,-0.3128654538534387,-0.3771865446668251,-0.2856578358614056,-0.2796363575545823,-0.28031387911940336,-0.33089623099597565,-0.27958853487535473,-0.354806693184671,-0.33063069290712765,-0.39988697978256554,-0.43492855560451094,-0.40752881184270057,-0.3742200574400428,-0.28405977446281916,-0.2791103328468784,-0.30621421660363213,-0.25924573544066326,-0.09025685076128784,-0.3136244687298505,-0.07746173336933422,-0.3136881168483875,-0.24655225953624668,-0.3305066618016125,-0.2839293079337341,-0.3970577275971662,0.8670847603729812,-0.3134882985102606,-0.08789597026904739,-0.35653943903945773,-0.39773027608567013,-0.3122325786464809,-0.3099020300326157,-0.36791142024311596,-0.3986227317561715,-0.35080852542668717,-0.3068109897671268,-0.33054476895767104,-0.32898399481209184,-0.23334380019529324,-0.3423000451014527,-0.3993610869097732,-0.3297491786933518,-0.31366911123858987,-0.3998761834788902,-0.33073383703201004,-0.3308904640868894,-0.28391799305939314,-0.21228141149313182,0.04214038142557388,-0.3554967350486612,-0.3305046205247384,-0.38604460324658557,-0.35482523606168187,-0.2347736074130153,-0.4175726136208697,-0.3545752309766394,-0.272335428471565,3.728452260009855,-0.3994688351859676,0.8525760053356498,-0.39983109668043176,-0.3559603884947693,-0.3304323312935785,-0.3305866715546665,-0.35653943903945773,-0.39940622885079125,-0.3135317799914639,-0.3304330447202193,-0.3775597784007107,-0.3305804153021815,-0.32617096467850404,-0.3998600952212605,-0.32979158709286555,0.357462894716209,-0.33077963091331286,-0.3308501629801693,-0.35601832427686153,-0.36404701098255027,-0.32707893374784175,-0.31364552490838293,-0.3997700642568955,-0.3306280417914082,-0.3307550028780776,-0.28556456852614603,-0.2726274762673793,-0.23454150991306244,-0.3116124784714381,-0.2853056156279671,-0.3990361759510872,-0.4108506463637435,-0.39777458573582786,-0.3547863562965406,-0.3989340610599203,-0.3491874338558373,-0.3948766619320969,-0.3306982864351071,-0.3306975063413799,-0.3238231554192859,0.2636948589591308,-0.3994122973122114,-0.26821453734133627,-0.3565737738057361,-0.32990931341380475,0.8747661188840335,-0.2673570119704305,-0.34958714448585576,0.5817673329118883,-0.3694467469832739,-0.3679494190995122,-0.4129073037548687,-0.2792737096687149,0.1338307905805432,-0.2793444371032425,-0.3707084797352975,-0.41241218871415536,-0.3996845583377254,-0.2856386184581219,-0.35644017603440825,-0.3303335917723223,-0.3308330962181303,-0.32992523181559086,0.6538212105629166,-0.3996254568865654,-0.3432689871701801,-0.33078875809794905,-0.32987583856147845,0.43822729645164815,-0.31199211354373346,-0.3542183969491192,-0.3779770762615448,-0.33073911812841067,-0.3993851351734071,-0.3257880448360698,-0.3306094921456802,-0.09518578472235599,-0.39841858282053366,3.7333067563038416,0.1899247495606189,-0.2760160596916837,-0.32807055249374356,-0.3242861326352118,-0.3559042482111711,0.083333555318419,-0.3297485703411709,-0.39899934372859885,-0.3550693888725962,-0.31731735571652003,-0.33085522692582464,-0.35477862668937327,-0.3510904077796217,-0.2742192801646443,-0.27180654748116306,-0.3264014001973799,-0.22634043190166006,-0.3707386042283536,-0.39970186601400587,-0.30222696507488916,-0.28479903204767065,-0.3153217986349453,-0.36904586862215,-0.33088257762029644,-0.3308642966814256,-0.27918197487036966,-0.3635631898590494,-0.35603474001589597,-0.33058090833338133,3.93417941254028,-0.3980531629396064,-0.3562233767754761,-0.31007337785166666,-0.27747136262508604,-0.2766937815853487,-0.2853328627761018,-0.1340369781003098,-0.28558499329555076,-0.337620678904681,-0.33005515724158296,-0.2136655172016064,2.2356953231090695,-0.35161472245147357,-0.26748433577286657,1.0203760085565579,-0.35433430300964747,-0.3560177841859972,-0.40106850003712874,-0.1663841096392349,-0.37472846039225743,-0.3547376351488087,-0.32376324671684104,-0.3543561710920422,-0.3991753031645453,-0.2828313410378679,-0.35532369628004173,-0.3637890166713152,-0.35421772987418737,-0.1904367411391639,-0.31737892104073157,-0.25729579564565186,0.5816550384078958,-0.14473130811447343,-0.4003633255249985,-0.25708686212690657,-0.3305848462564493,-0.4008193036290564,-0.35613473019976805,0.5756274000308431,-0.35483293645254166,-0.330068019213277,-0.296684346894207,-0.2923600832193869,-0.39674142890151937,-0.39940245959142634,3.7455464507638756,0.10420487371507432,-0.39694199660671475,-0.3294539707956334,-0.33027838507046864,-0.26869850584143845,-0.33079650099149943,-0.3910321840752321,-0.24454131994585712,-0.09331326750757417,-0.38678254077354646,-0.3300748826817192,-0.3231407559100407,-0.39597178852363746,-0.32851465315948325,-0.3568150253016175,-0.36915264871310044,-0.3121689524547895,3.728843934282954,-0.0929075059548473,-0.32570999556730074,-0.3478942283284136,-0.2797435143282228,3.738712539309741,3.739956669366859,-0.24959926318377812,-0.3987828315805442,-0.35675089062309295,-0.3843366624396205,2.4759215703715567,-0.32896052903799816,-0.28598129030226394],\"y\":[0.9748152463640514,0.9748949335820601,1.574837079241604,1.2060226385488448,1.4021386502664521,0.824433169619994,0.6591766164435205,1.9044180575064436,0.9748126405149325,0.9750302550917626,0.9748568871966393,0.9748150001062091,0.9748150766318404,0.14277742917177,0.9321524707437806,1.688521749112793,0.3756630729692865,0.974782890108469,1.0413338852510758,1.2060255551740737,2.35874402987649,0.8167553544284043,0.8237290365950407,0.8095471571011135,1.7287379349358973,1.7287207014773036,0.5108377272088626,0.9746716283126948,0.974789180067629,0.9847347702888647,1.0407830815013437,1.2060310521217494,0.18364151759841507,1.7015414570102874,1.2060263232774537,0.9743529453706676,0.9747801098510505,0.23764237610974687,1.2060305367962598,0.1837003315112806,1.7287267709516287,0.9743439755508578,0.12693590905324617,1.5391442800852457,0.8244219892029389,0.932171635324195,0.8095593160803641,1.728710001196556,0.8093485395697939,0.9748157430458798,1.7287127609062196,1.040756406749096,0.9748087461405331,1.2060315644376542,3.103722746871683,1.8878015614766388,0.8628185350537592,0.8095318200671628,1.7286973026305912,0.8239374269366452,1.9045827538647617,0.7890794988244533,0.824433975222644,1.1959101364522613,0.8244404644973417,1.584760639642441,0.9747963947343005,0.8094485689039417,1.2058343767575987,0.770446805063954,0.8244248303480883,0.14970352562836278,1.6885161677514469,1.2060374806945235,0.824328490790251,0.824176134497336,1.5813347508500963,1.2059668371885832,1.529816316048233,0.9740476801435266,0.9747936649247879,0.9747969487888907,1.5633478668700773,1.0406457084037386,1.206010251282959,0.9747829311327216,0.8244334563290602,1.2060297107305231,0.9748051717608268,0.9748159027730103,0.8096075048231217,0.2059914279734581,1.8344746834686694,1.6885062984959274,0.9748265895523794,1.2053385921007005,1.688549294854395,1.5634499868263274,1.968373913135751,1.6883689313318218,1.834730010583072,2.009838452574747,1.206021618521466,1.759467762633469,1.2060303471791736,1.6885106784765904,0.974800936300158,0.9747941786896077,1.6885161677514469,1.2060018251973401,0.8244379775957139,0.9748048919229593,0.6758404187354627,0.9748043980636588,0.9744797203563659,1.2060287211737108,0.9747430073218256,0.8040399555184974,0.974809644024211,0.9748146396625073,1.524049810122586,0.616090162097416,0.9745626823694399,0.8244341096039407,1.2060280904426426,0.9748088195689678,0.9748039157872089,0.8095224325268822,0.289841084652291,1.5634477865918528,0.9746322705431825,0.8095443679408572,1.2059833714956076,1.9805276159026024,1.2060111382083603,1.6884999330545194,1.2059861997903347,1.6884471178967977,1.2058115470699802,0.9748060041987942,0.9748007244249703,0.9742940692012817,0.6201121194422747,1.2060160086801839,0.8086072900819001,1.688508040994114,0.9747677321806298,1.8714285279055174,0.6590782610412679,1.529802425914392,1.8218538110326337,1.5813496328744254,1.5813121710456675,1.82799837139965,1.7287071291151452,0.9518084666367449,1.7287131365820199,1.5399108725604462,1.8280120846910481,1.206030348731735,0.8095473582618383,1.688489065832861,0.9747967019880825,0.9748144778732671,1.4030489420592849,1.54319917903684,1.206019433276037,0.5106918638323925,0.9748074298469993,0.7194581003556502,0.9781788447188831,0.8244232157690549,1.5809174973106421,1.867428264528609,0.9748050254893385,1.6892253227477394,1.566788986971113,0.9748130731609264,0.6575322919447145,1.2059689036482795,2.0097038166523395,1.5753224796202911,1.7286681927803669,0.9747433149753537,1.4160783388997524,1.5240493818176089,0.9504098355206443,0.9747398932959895,1.2060202705496887,1.5240007472580406,0.9745460193303981,0.9748140084306491,1.0407564665338187,1.5298146081153008,-0.04675909009716119,0.19931446073729722,0.9747737590719733,1.5631112935726623,0.91111890857112,1.2060187521147392,1.4042808810044445,0.8094941228407329,1.3971307015497212,1.5813320329511091,0.9748139684715925,0.9748130396458715,0.8093798901277989,1.6717162129270133,1.68848135118094,0.9748029492518712,1.8798696437437286,1.6892622146251317,1.6884818670991262,0.6777577935432262,0.9726200612924452,1.0610921329773395,0.8095496598882945,0.9729488929203887,0.8095297601774948,1.8382361765738833,0.9747787618578173,1.7392900832754645,0.310454203200592,1.5237161153863958,0.6591463646088688,1.7883111281997863,0.8430143510803039,1.5240455196129434,1.6893185176611374,0.8007501437516238,0.8847047611785487,1.524024287463436,0.9742957285035173,1.0407437697077777,1.2060153969691652,0.8094510317143265,1.6884135005597511,0.9598884440486445,1.0407153131246059,0.9657896691895986,1.2200798932529078,1.2390231205337117,0.925577699083619,1.046589254487513,1.6893029960350385,0.01462043098177194,0.9748092983854553,1.6893154561281214,1.524047755658865,0.9462490507061639,1.0407558951579605,0.9747784056174464,1.4041186615422738,1.8359736348100104,1.2058173045283174,1.2060234569383892,2.0096840326444463,0.9617515838184157,1.2061131321726943,0.9747121739679115,0.9747939226338102,0.6591696123424464,0.9748185052859658,1.2059180282729183,0.9696729606194348,0.830415421540085,1.2056769423638145,0.9748277284080408,0.9747435166084267,1.205990747956466,0.9747668935436948,1.6885164281477532,0.6237172310500783,0.8244147299390175,2.0098242441690344,0.8077158357299887,0.9747441137206325,0.5108076135851334,1.7287155580837954,2.0102123306612776,2.0102467895579132,0.6589960985766139,3.9934509926030777,1.6885184670307434,2.2090206311318776,0.8803657327661084,0.9746899620087732,0.8095496397257371],\"z\":[-0.5376107785377986,-0.5379242111175708,-0.5229528531343256,-0.4071028660673118,0.016310551370706697,-0.3158001113004196,-0.09898302307095891,-0.5360310634295439,-0.5376162837013634,-0.537794554140952,-0.5376463704221237,-0.5376107985980068,-0.537611094572129,-0.03242866071763853,-0.35887719061111,-0.24897141929384584,-0.44970769786530534,-0.537638458058672,-0.19076533250723562,-0.40710535901084466,-0.7290821476869741,-0.32694931387575527,-0.31630368424646604,-0.32079567179992047,-0.5096291765831038,-0.5096144465318398,-0.3043832554357562,-0.5376816975991273,-0.5376336894536775,-0.546089349150768,-0.19029454091158432,-0.4070999130518005,0.03221667418719234,-0.2501260560515356,-0.4071004819776708,-0.5379534411839236,-0.5376268590760545,-0.4395923230305194,-0.4071020083379245,0.032212516827292086,-0.5096196343278625,-0.5376690964338545,0.6705378693585221,-0.15430249744764157,-0.3158117669737699,-0.3588915515121643,-0.3207986034314464,-0.5096108341790326,-0.3208490101735722,-0.5376112030500841,-0.5096122707414872,-0.1902809636476579,-0.5376144451432261,-0.4071003504853335,-0.8446624785781564,-0.597224456908539,-0.1271818005996821,-0.32082121459656554,-0.5096175031973978,-0.31582736737898154,-0.5360225666138007,-0.3592815000132817,-0.31580079987771603,-0.4106922034551003,-0.31580104349850935,-0.5022639389979513,-0.5376140328133772,-0.3208058778454136,-0.4071088810196325,-0.3330196039777005,-0.31580128376527,-0.02089371604752843,-0.24897587130289564,-0.40713999206161045,-0.3158031988681539,-0.3158123625477538,-0.49937721143658464,-0.4071091228513763,-0.168517748682943,-0.5378769720648343,-0.5376127755174519,-0.5376412519163695,-0.2927945751281715,-0.19048008555736157,-0.4071051898661929,-0.5376246592272935,-0.3157998952310007,-0.4071001494454091,-0.5376118511233752,-0.5376113395745553,-0.3208397920673377,-0.3676410474952373,-0.5893791431237615,-0.2489923367117458,-0.5376204739457607,-0.4071997371447472,-0.2490134087689193,-0.292790787601092,-0.47113240409663304,-0.24897960058256535,-0.5838360236419416,-0.521715006614248,-0.40710568325256297,-0.536287015927698,-0.40710108693522445,-0.248985013320306,-0.537616319142208,-0.5376121386809974,-0.24897587130289564,-0.40710259908926383,-0.31580329858887296,-0.5376171454944841,-0.049476506184598125,-0.5376144177259604,-0.5376240311693244,-0.4071002258956848,-0.5376154359365133,-0.3310746088341551,-0.5376119846872768,-0.5376117889583598,-0.2412381047889956,-0.31473899484404,-0.5376254680086245,-0.3158004536083241,-0.40710169454684014,-0.5376145079051262,-0.5376112079856912,-0.3207924398869092,-0.4959743175962771,-0.29279445194335907,-0.5379155124386852,-0.3208017017760124,-0.40710527124772583,-0.7068526979063822,-0.40713361574548323,-0.24900363035913045,-0.4071076886920297,-0.24909208128392457,-0.40714285873754597,-0.5376126604531045,-0.5376115544139698,-0.5376264396981997,-0.10017218176808244,-0.4071054996200395,-0.3209071326314693,-0.24897353637251984,-0.5376185850893813,-0.5491740300785316,-0.09898545588206834,-0.16853654142723273,-0.5098737602271999,-0.4993530412431249,-0.4993717455692605,-0.5621428009019921,-0.5096166796464504,-0.5410025577019408,-0.5096166950651343,-0.13959288649896376,-0.5621545221408955,-0.40710369546485053,-0.32079640903421663,-0.24897188931385003,-0.5376171784181175,-0.5376120584074385,0.01715068098695438,-0.2719691750903466,-0.4071024320557844,-0.3044412942999174,-0.5376113525726065,-0.06356055462329174,-0.5520140128029405,-0.31582757151956525,-0.4995324241273893,-0.46644453347408193,-0.5376117260999209,-0.458066853064119,-0.216473007049933,-0.5376157403201278,-0.10172196507520884,-0.40711319477750607,-0.5217728521962857,-0.5080307035187109,-0.5096664027510341,-0.5376461334707416,-0.2825359036945711,-0.24124004435084548,-0.5398070978395182,-0.5376155410469005,-0.40711375369055564,-0.2412445876470024,-0.5377956774655425,-0.537611564932127,-0.19028147587766672,-0.16851236924785204,0.07084457561814604,-0.408318198786403,-0.5376822999824201,-0.29286904542474296,-0.310705714991447,-0.4071009275831957,-0.33393306383722116,-0.3208000605506147,-0.09821160745111954,-0.4993564431564275,-0.5376110696478213,-0.5376111980071254,-0.3208758066128389,-0.12385005982178421,-0.24897746917075825,-0.5376141016346412,-0.45149018585863415,-0.45809838586656043,-0.2489742211054141,-0.08809150978476075,-0.5380963603300686,-0.05401728402745927,-0.32080233931670293,-0.5407190644445784,-0.3207936306624147,-0.5834177408156542,-0.5376183288201849,-0.31920836317352524,-0.6071907132597307,-0.24124570147606705,-0.0989976355243796,-0.3654967322394782,-0.3049215348499538,-0.2412372043167434,-0.45805665938294404,-0.3210529621824413,-0.28037794897322327,-0.2412554857020183,-0.5376278579629584,-0.1902863018637045,-0.4071095880675867,-0.3208259426921877,-0.2489757326714473,-0.3852844702346092,-0.19028272985227404,-0.5381966337958077,0.4119120521404866,-0.11711471312539204,0.1649630082036096,-0.19525728389602415,-0.4580659182292191,0.18950610446301663,-0.5376153782965187,-0.4580604453694236,-0.24123559712393466,-0.5476867476835804,-0.1902803880335191,-0.5376180243288432,-0.3339973062266575,-0.5837434021233333,-0.40711088945233176,-0.4071072546130287,-0.5219865070374599,-0.5425843461969938,-0.4071700693355628,-0.5376149048430524,-0.5376175714836122,-0.09898095602008643,-0.5376135640351323,-0.4072338720167084,-0.5380573473147698,-0.3209908250442797,-0.40725837223567507,-0.5376283643144187,-0.5377339204900896,-0.40716137819829007,-0.5376432304196653,-0.24897102144426647,-0.00041672002916542743,-0.31582262402757405,-0.5217189641009459,-0.3238382882057739,-0.5376883178756076,-0.3043835231178903,-0.5096101056256817,-0.5219769323054384,-0.5220063855525156,-0.09928409376862858,0.6482576856338221,-0.24897259544124806,-0.4388317410907204,-0.25577941142392113,-0.537618975983721,-0.32079079383615533],\"type\":\"scatter3d\"},{\"customdata\":[[\"SHA-256\"],[\"Ethash\"],[\"Scrypt\"],[\"CryptoNight-V7\"],[\"Ethash\"],[\"Equihash\"],[\"Multiple\"],[\"Scrypt\"],[\"X11\"],[\"Scrypt\"],[\"Multiple\"],[\"Scrypt\"],[\"SHA-256\"],[\"Scrypt\"],[\"Scrypt\"],[\"Quark\"],[\"Groestl\"],[\"Scrypt\"],[\"Scrypt\"],[\"Scrypt\"],[\"X11\"],[\"Multiple\"],[\"SHA-256\"],[\"Scrypt\"],[\"Scrypt\"],[\"Scrypt\"],[\"Scrypt\"],[\"Scrypt\"],[\"NeoScrypt\"],[\"Scrypt\"],[\"Scrypt\"],[\"Scrypt\"],[\"Scrypt\"],[\"SHA-256\"],[\"Scrypt\"],[\"Scrypt\"],[\"Scrypt\"],[\"Scrypt\"],[\"HybridScryptHash256\"],[\"Scrypt\"],[\"Scrypt\"],[\"SHA-256\"],[\"Scrypt\"],[\"Scrypt\"],[\"Scrypt\"],[\"Scrypt\"],[\"SHA-256\"],[\"SHA-256\"],[\"SHA-256\"],[\"SHA-256\"],[\"SHA-256\"],[\"X11\"],[\"Scrypt\"],[\"Lyra2REv2\"],[\"Scrypt\"],[\"SHA-256\"],[\"CryptoNight\"],[\"CryptoNight\"],[\"Scrypt\"],[\"Scrypt\"],[\"Scrypt\"],[\"Scrypt\"],[\"Scrypt\"],[\"Scrypt\"],[\"Stanford Folding\"],[\"Multiple\"],[\"QuBit\"],[\"Scrypt\"],[\"Scrypt\"],[\"M7 POW\"],[\"Scrypt\"],[\"SHA-256\"],[\"Scrypt\"],[\"X11\"],[\"Lyra2RE\"],[\"SHA-256\"],[\"X11\"],[\"Scrypt\"],[\"Scrypt\"],[\"Ethash\"],[\"Blake2b\"],[\"X11\"],[\"SHA-256\"],[\"Scrypt\"],[\"1GB AES Pattern Search\"],[\"Scrypt\"],[\"SHA-256\"],[\"X11\"],[\"Dagger\"],[\"Scrypt\"],[\"X11GOST\"],[\"Scrypt\"],[\"X11\"],[\"Scrypt\"],[\"X11\"],[\"Equihash\"],[\"CryptoNight\"],[\"SHA-256\"],[\"Multiple\"],[\"Scrypt\"],[\"SHA-256\"],[\"Scrypt\"],[\"Lyra2Z\"],[\"Ethash\"],[\"Equihash\"],[\"Scrypt\"],[\"X11\"],[\"X11\"],[\"CryptoNight\"],[\"Scrypt\"],[\"CryptoNight\"],[\"Lyra2RE\"],[\"X11\"],[\"CryptoNight-V7\"],[\"Scrypt\"],[\"X11\"],[\"Equihash\"],[\"Scrypt\"],[\"Lyra2RE\"],[\"Dagger-Hashimoto\"],[\"Scrypt\"],[\"NIST5\"],[\"Scrypt\"],[\"SHA-256\"],[\"Scrypt\"],[\"CryptoNight-V7\"],[\"Argon2d\"],[\"Blake2b\"],[\"Cloverhash\"],[\"CryptoNight\"],[\"X11\"],[\"Scrypt\"],[\"Scrypt\"],[\"X11\"],[\"X11\"],[\"CryptoNight\"],[\"Time Travel\"],[\"Scrypt\"],[\"Keccak\"],[\"X11\"],[\"SHA-256\"],[\"Scrypt\"],[\"Scrypt\"],[\"Scrypt\"],[\"Scrypt\"],[\"Scrypt\"],[\"Scrypt\"],[\"CryptoNight\"],[\"Equihash\"],[\"X11\"],[\"NeoScrypt\"],[\"Equihash\"],[\"Dagger\"],[\"Scrypt\"],[\"X11\"],[\"NeoScrypt\"],[\"Ethash\"],[\"NeoScrypt\"],[\"Multiple\"],[\"CryptoNight\"],[\"CryptoNight\"],[\"Ethash\"],[\"X11\"],[\"CryptoNight-V7\"],[\"Scrypt\"],[\"BLAKE256\"],[\"X11\"],[\"NeoScrypt\"],[\"NeoScrypt\"],[\"Scrypt\"],[\"X11\"],[\"SHA-256\"],[\"C11\"],[\"CryptoNight\"],[\"SkunkHash\"],[\"CryptoNight\"],[\"Scrypt\"],[\"Dagger\"],[\"Lyra2REv2\"],[\"Scrypt\"],[\"Scrypt\"],[\"X11\"],[\"Ethash\"],[\"CryptoNight\"],[\"Scrypt\"],[\"IMesh\"],[\"Equihash\"],[\"Lyra2Z\"],[\"X11\"],[\"CryptoNight\"],[\"NIST5\"],[\"Lyra2RE\"],[\"Tribus\"],[\"Lyra2Z\"],[\"CryptoNight\"],[\"CryptoNight Heavy\"],[\"CryptoNight\"],[\"Jump Consistent Hash\"],[\"CryptoNight\"],[\"X16R\"],[\"HMQ1725\"],[\"X11\"],[\"Scrypt\"],[\"CryptoNight-V7\"],[\"Cryptonight-GPU\"],[\"XEVAN\"],[\"CryptoNight Heavy\"],[\"SHA-256\"],[\"X11\"],[\"X16R\"],[\"Equihash\"],[\"Lyra2Z\"],[\"SHA-256\"],[\"CryptoNight\"],[\"Blake\"],[\"Blake\"],[\"Exosis\"],[\"Scrypt\"],[\"Equihash\"],[\"Equihash\"],[\"QuBit\"],[\"SHA-256\"],[\"X13\"],[\"SHA-256\"],[\"Scrypt\"],[\"NeoScrypt\"],[\"Blake\"],[\"Scrypt\"],[\"SHA-256\"],[\"Scrypt\"],[\"Groestl\"],[\"Scrypt\"],[\"Scrypt\"],[\"Multiple\"],[\"Equihash+Scrypt\"],[\"Ethash\"],[\"CryptoNight\"],[\"Equihash\"]],\"hovertemplate\":\"<b>%{hovertext}</b><br><br>Class=%{marker.color}<br>PC 1=%{x}<br>PC 2=%{y}<br>PC 3=%{z}<br>Algorithm=%{customdata[0]}<extra></extra>\",\"hovertext\":[\"Bitcoin\",\"Ethereum\",\"Litecoin\",\"Monero\",\"Ethereum Classic\",\"ZCash\",\"DigiByte\",\"ProsperCoin\",\"Spreadcoin\",\"Argentum\",\"MyriadCoin\",\"MoonCoin\",\"ZetaCoin\",\"SexCoin\",\"Quatloo\",\"QuarkCoin\",\"Riecoin\",\"Digitalcoin \",\"Catcoin\",\"CannaCoin\",\"CryptCoin\",\"Verge\",\"DevCoin\",\"EarthCoin\",\"E-Gulden\",\"Einsteinium\",\"Emerald\",\"Franko\",\"FeatherCoin\",\"GrandCoin\",\"GlobalCoin\",\"GoldCoin\",\"Infinite Coin\",\"IXcoin\",\"KrugerCoin\",\"LuckyCoin\",\"Litebar \",\"MegaCoin\",\"MediterraneanCoin\",\"MinCoin\",\"NobleCoin\",\"Namecoin\",\"NyanCoin\",\"RonPaulCoin\",\"StableCoin\",\"SmartCoin\",\"SysCoin\",\"TigerCoin\",\"TerraCoin\",\"UnbreakableCoin\",\"Unobtanium\",\"UroCoin\",\"ViaCoin\",\"Vertcoin\",\"WorldCoin\",\"JouleCoin\",\"ByteCoin\",\"DigitalNote \",\"MonaCoin\",\"Gulden\",\"PesetaCoin\",\"Wild Beast Coin\",\"Flo\",\"ArtByte\",\"Folding Coin\",\"Unitus\",\"CypherPunkCoin\",\"OmniCron\",\"GreenCoin\",\"Cryptonite\",\"MasterCoin\",\"SoonCoin\",\"1Credit\",\"MarsCoin \",\"Crypto\",\"Anarchists Prime\",\"BowsCoin\",\"Song Coin\",\"BitZeny\",\"Expanse\",\"Siacoin\",\"MindCoin\",\"I0coin\",\"Revolution VR\",\"HOdlcoin\",\"Gamecredits\",\"CarpeDiemCoin\",\"Adzcoin\",\"SoilCoin\",\"YoCoin\",\"SibCoin\",\"Francs\",\"BolivarCoin\",\"Omni\",\"PizzaCoin\",\"Komodo\",\"Karbo\",\"ZayedCoin\",\"Circuits of Value\",\"DopeCoin\",\"DollarCoin\",\"Shilling\",\"ZCoin\",\"Elementrem\",\"ZClassic\",\"KiloCoin\",\"ArtexCoin\",\"Kurrent\",\"Cannabis Industry Coin\",\"OsmiumCoin\",\"Bikercoins\",\"HexxCoin\",\"PacCoin\",\"Citadel\",\"BeaverCoin\",\"VaultCoin\",\"Zero\",\"Canada eCoin\",\"Zoin\",\"DubaiCoin\",\"EB3coin\",\"Coinonat\",\"BenjiRolls\",\"ILCoin\",\"EquiTrader\",\"Quantum Resistant Ledger\",\"Dynamic\",\"Nano\",\"ChanCoin\",\"Dinastycoin\",\"DigitalPrice\",\"Unify\",\"SocialCoin\",\"ArcticCoin\",\"DAS\",\"LeviarCoin\",\"Bitcore\",\"gCn Coin\",\"SmartCash\",\"Onix\",\"Bitcoin Cash\",\"Sojourn Coin\",\"NewYorkCoin\",\"FrazCoin\",\"Kronecoin\",\"AdCoin\",\"Linx\",\"Sumokoin\",\"BitcoinZ\",\"Elements\",\"VIVO Coin\",\"Bitcoin Gold\",\"Pirl\",\"eBoost\",\"Pura\",\"Innova\",\"Ellaism\",\"GoByte\",\"SHIELD\",\"UltraNote\",\"BitCoal\",\"DaxxCoin\",\"AC3\",\"Lethean\",\"PopularCoin\",\"Photon\",\"Sucre\",\"SparksPay\",\"GunCoin\",\"IrishCoin\",\"Pioneer Coin\",\"UnitedBitcoin\",\"Interzone\",\"TurtleCoin\",\"MUNcoin\",\"Niobio Cash\",\"ShareChain\",\"Travelflex\",\"KREDS\",\"BitFlip\",\"LottoCoin\",\"Crypto Improvement Fund\",\"Callisto Network\",\"BitTube\",\"Poseidon\",\"Aidos Kuneen\",\"Bitrolium\",\"Alpenschillling\",\"FuturoCoin\",\"Monero Classic\",\"Jumpcoin\",\"Infinex\",\"KEYCO\",\"GINcoin\",\"PlatinCoin\",\"Loki\",\"Newton Coin\",\"MassGrid\",\"PluraCoin\",\"Motion\",\"PlusOneCoin\",\"Axe\",\"HexCoin\",\"Webchain\",\"Ryo\",\"Urals Coin\",\"Qwertycoin\",\"Project Pai\",\"Azart\",\"Xchange\",\"CrypticCoin\",\"Actinium\",\"Bitcoin SV\",\"FREDEnergy\",\"Universal Molecule\",\"Lithium\",\"Exosis\",\"Block-Logic\",\"Beam\",\"Bithereum\",\"SLICE\",\"BLAST\",\"Bitcoin Rhodium\",\"GlobalToken\",\"SolarCoin\",\"UFO Coin\",\"BlakeCoin\",\"Crypto Escudo\",\"Crown Coin\",\"SmileyCoin\",\"Groestlcoin\",\"Bata\",\"Pakcoin\",\"JoinCoin\",\"Vollar\",\"Reality Clash\",\"Beldex\",\"Horizen\"],\"legendgroup\":\"3\",\"marker\":{\"color\":[3,3,3,3,3,3,3,3,3,3,3,3,3,3,3,3,3,3,3,3,3,3,3,3,3,3,3,3,3,3,3,3,3,3,3,3,3,3,3,3,3,3,3,3,3,3,3,3,3,3,3,3,3,3,3,3,3,3,3,3,3,3,3,3,3,3,3,3,3,3,3,3,3,3,3,3,3,3,3,3,3,3,3,3,3,3,3,3,3,3,3,3,3,3,3,3,3,3,3,3,3,3,3,3,3,3,3,3,3,3,3,3,3,3,3,3,3,3,3,3,3,3,3,3,3,3,3,3,3,3,3,3,3,3,3,3,3,3,3,3,3,3,3,3,3,3,3,3,3,3,3,3,3,3,3,3,3,3,3,3,3,3,3,3,3,3,3,3,3,3,3,3,3,3,3,3,3,3,3,3,3,3,3,3,3,3,3,3,3,3,3,3,3,3,3,3,3,3,3,3,3,3,3,3,3,3,3,3,3,3,3,3,3,3,3,3,3,3,3,3,3,3,3,3,3,3,3,3,3,3,3,3,3,3,3,3,3,3],\"coloraxis\":\"coloraxis\",\"symbol\":\"diamond\"},\"mode\":\"markers\",\"name\":\"3\",\"scene\":\"scene\",\"showlegend\":true,\"x\":[-0.14579760642197723,-0.1501994096476386,-0.16188912823828244,-0.14699163703694926,-0.1486422446316344,-0.13502088264509104,0.15746522247999611,-0.16303514360405288,-0.23196779388674602,-0.16265184754849454,-0.09587015870622331,2.55734700563017,-0.14288306659265515,-0.15990792790541822,-0.16245601815042884,-0.22859662055451252,-0.208976179700315,-0.1625045796200163,-0.1630174091485854,-0.16310383483269045,-0.23205713048473844,0.18123317024793278,0.23197367446217443,0.08557820323348271,-0.162850154978157,-0.15845648629109801,-0.16278949186161143,-0.16316083157915542,-0.17574464275215995,-0.14238834524221972,-0.16195614420574073,-0.16223360841550188,1.5854263638011978,-0.14575897482102113,-0.15952371358175255,-0.1628765932161815,-0.1632313405475378,-0.16249073612574216,-0.16854893134600554,-0.16311263897821884,-0.028075180302811854,-0.14583658743522124,-0.15677771483786723,-0.16309212455489738,-0.16118734015050792,-0.1625789766520849,-0.1329918494199145,-0.14530044695207986,-0.14558763917195044,-0.14557077813172634,-0.14616117603874426,-0.23223095633613794,-0.16280861453007806,-0.20638322279487978,-0.15991270468625218,-0.1453677353490852,3.8501345924609116,0.44972167423751375,-0.1616765123603708,-0.14628140358325245,-0.16039554494844094,-0.16323355511404344,-0.16026055475478207,-0.1464872397581863,-0.13346064560668705,-0.12986952221020553,-0.19723730646667278,-0.16310663236816125,-0.036081859917506,-0.1318383959770441,-0.16324243972912073,-0.14586436571739286,0.4885574333646625,-0.23161826003740563,-0.1612690095750123,-0.14560435418689255,-0.231903117796702,-0.16136702415139573,-0.1605594057124933,-0.15126696599899087,0.35150414847714057,-0.23193849516786477,-0.1457600972031607,-0.15920104288541223,-0.14412751158868772,-0.1618060924989885,0.2726471885845376,-0.23109947108177412,-0.1508891977311725,-0.16205386913352432,-0.1498484911054616,-0.16303242456192615,-0.2319017743012771,-0.16324249821322567,-0.23205174957998065,-0.18785336522682758,0.29466279511793664,-0.14602014352550258,-0.109946332724117,-0.1604099437332055,-0.14597877571775458,-0.1629060088342003,-0.14149544209033643,-0.15100915362636724,-0.135042500323106,-0.0900072716994401,-0.21863662492144523,-0.2298806679533713,0.29465711381830567,-0.1632242441310239,0.294787817164247,-0.16180924134958088,0.4828044371895696,-0.1457570634963862,-0.16319253299770423,-0.22478959268118115,-0.1350548590964886,-0.16132614126292807,-0.16152765838820277,-0.12986076882953101,-0.13413175106005065,-0.20144325672922495,-0.16275502948383946,-0.1123545147132635,-0.1625772388642367,-0.14561446706628162,-0.17090327224214147,-0.04881190315941045,-0.1447442472141166,0.3307720517732906,-0.2311079305203436,-0.16289629315703566,-0.162659895639186,-0.2315024578389904,-0.2320797579477949,0.29505197742101485,-0.1407707435294751,3.24573462462264,-0.13597698125002428,-0.22295605776892344,-0.1457967706149208,-0.08885702437742869,1.5838273897983375,-0.1629941465105335,-0.16244603643184824,-0.16214706864452177,-0.1621339991894184,0.29523544931747986,0.0771914538273051,-0.1864726792020942,-0.18043224747710782,-0.13490092230567982,-0.14964877628335282,-0.16132435036554466,-0.22762541642673925,-0.1802777288468413,-0.1493753510283164,-0.18037788265005958,-0.12010376486144253,1.1322747103311162,0.29463991791924043,-0.07430234679455523,-0.227367805207627,-0.134729894252335,-0.07940010358908961,1.0823675168662166,-0.23205375949346224,-0.18042978139256022,-0.17346941751618977,-0.16224530648093918,-0.23197917791433895,-0.14577616398370463,-0.2030447839420809,8.028593823409343,-0.13903708390598307,0.2985131315766967,0.02976245153125567,-0.14915174572714412,-0.19194502686528445,-0.16281894938687366,0.14419081779100415,-0.22612187814951332,-0.10243808985902218,0.30255922308667316,-0.16305588890098202,-0.1614658990099216,-0.13389218523843588,-0.1392800361221756,-0.23114870421017064,0.29482241788147096,-0.20150260769085027,-0.16165454227636145,-0.13417065917305984,-0.14157977621662693,0.29874835437611824,0.5769043887686187,2.1026041726963167,-0.16834541207913267,0.3084237304768756,-0.1874547762966045,-0.173487770187409,-0.23203592410988783,-0.1630804760632665,-0.13461286566559147,-0.15148464432688502,-0.1333294351667094,3.0987780468708372,-0.10563186363165197,-0.23200730535015737,-0.18688280289835243,-0.02967517854358623,-0.14097781341455887,-0.1457968081815356,0.37455177756559516,-0.1407082153124212,-0.14109992197632562,-0.1692888362506287,-0.16197314294482493,-0.1329619643924271,-0.1347337767701385,-0.19644866823195545,-0.14507310561625483,-0.11205714227042793,-0.14394143856710012,0.532453069138845,-0.10560948077830935,-0.09159262021171667,-0.14663783057352564,-0.14558700960330775,0.5524118244976063,-0.20853725281704383,-0.16315724620972608,-0.16111362495876375,-0.13060444212626204,-0.15343025259952678,-0.15104230610254024,0.3163919866155952,-0.1350219396260876],\"y\":[-1.2990202171572982,-2.0049167661856995,-1.148666754138536,-2.1905209519437583,-2.005024328505135,-1.9435322468865281,-1.7816166599447103,-1.1486532881140172,-0.9174351399793002,-1.1486735277519702,-1.7749993520889962,-1.3488412922366406,-1.2990462650734194,-1.14873099843795,-1.1486939366413125,-0.4341812839581906,-1.1913329292518384,-1.148658086713617,-1.1486527969195768,-1.1486495505035648,-0.9174361791951026,-1.7777687200871992,-1.3036110883226066,-1.151439634290096,-1.148648164450376,-1.1487265275730956,-1.1486543776121645,-1.1486497627499244,-1.6127255000199157,-1.1490857591981123,-1.1486585641984979,-1.1486678606403704,-1.165223338787915,-1.2990191471708155,-1.1487314224123564,-1.148648179136961,-1.1486446218066837,-1.1486532787012336,-2.1267493448574815,-1.1486475411583323,-1.1556638798993848,-1.2990212968215173,-1.1487067296521265,-1.1486548663257845,-1.1487664345517692,-1.1486623244337293,-1.2992876739929202,-1.2990251128597092,-1.299029470796389,-1.299056271761126,-1.299015397265444,-0.917428077275435,-1.1486484490532378,-1.2387583949551029,-1.1487421963697786,-1.2990255328145008,-2.291497498661371,-2.260485338449464,-1.1486760205274709,-1.1493797188055213,-1.1486845044801686,-1.1486456002087555,-1.1486761831784185,-1.148897466775292,-2.240720220430122,-1.7745058824357753,-1.507336349851612,-1.1486426182087182,-1.1522977518308648,-1.9973604551507098,-1.148644405016143,-1.2990220662016547,-1.196608126544994,-0.9174347873920368,-2.2320686761773567,-1.2990383724737293,-0.9174340662119684,-1.148742880386743,-1.1487490425373492,-2.00495846614861,-2.0827049043852726,-0.9174314581749257,-1.2990191782576384,-1.1486827165906415,-2.2870225773313364,-1.148664454282552,-1.3029339514153024,-0.917457014883325,-2.149047257667871,-1.1487318456432083,-2.2169725088845698,-1.148652495226107,-0.9174368993133559,-1.1486444044617259,-0.9174410532059476,-1.0548744826655063,-2.2576114271656813,-1.2990182980081708,-1.7748151599578084,-1.1487090239563935,-1.2990177997057608,-1.1486561696477495,-2.286374922362422,-2.004957998333107,-1.9435328456352916,-1.1537913337760004,-0.9174103416570372,-0.9175265887185383,-2.25761947788084,-1.1486454042377086,-2.2576187280789033,-2.232043606037702,-0.9693814224589583,-2.1906195096853507,-1.1486449892789068,-0.9179395505780966,-1.9435303176260628,-1.1486626422355102,-2.2320437003430547,-2.3566049621866387,-1.1507079888746528,-0.5421278337849689,-1.14865594926338,-1.299872813884561,-1.1486772019265126,-2.1905581539175736,-2.1820180539563845,-2.0940367101058164,-2.2675279484812343,-2.258039282943203,-0.9174687304356343,-1.1486482058173213,-1.1486816440205716,-0.9174509546063382,-0.9174374517323605,-2.257632221349272,-2.276837737635417,-1.1977405235144987,-1.165230302595962,-0.917960524638531,-1.2990201940077983,-1.1541182642196761,-1.1002550494381726,-1.14865143503195,-1.1486821789261368,-1.1486853796106158,-1.1486850176235386,-2.2576521751969407,-1.9527086342687365,-0.9174523425363493,-1.6126336018263547,-1.9435289243231741,-2.1491035364353213,-1.1486625926326994,-0.9175516691354836,-1.6126422385016403,-2.005094863953873,-1.612635540448755,-1.7747090000271193,-2.295398900743373,-2.257613854744883,-2.009990412483987,-0.9176880496519044,-2.1908985422755376,-1.1499096545783993,-1.371112312164457,-0.9174373774687348,-1.6126292280541246,-1.6127801655018592,-1.148662267710027,-0.9174376080191031,-1.2990190248020428,-1.2123423121856438,-2.7609742622567124,-2.3798419439206704,-2.2577387141586085,-1.1504740499522883,-2.149049365610915,-1.2390875569704543,-1.148660934127453,-1.153337371337421,-0.9176176620780924,-2.0082581699088773,-2.2581031206881557,-1.1486538627002825,-2.1258916761701774,-1.9435361464762266,-2.286513479120488,-0.9174698597519426,-2.257613033721039,-0.5421099222008047,-2.2320510034815997,-2.3244164094288515,-2.2863694365787097,-2.257921640141668,-2.3004627509444693,-2.3395637415297292,-2.1435841635548942,-2.257940690359565,-1.2804234048360703,-2.0861219345073785,-0.9174377445725971,-1.1486553368079218,-2.191433856545903,-2.163822357794293,-0.7192520111941392,-2.362877953766466,-1.2993995841514687,-0.9174398222260246,-1.2804634795563758,-1.9460529922130247,-2.2864055058962256,-1.2990201950482876,-2.2611895827953785,-2.2225384374123536,-2.2224919584060854,-2.1724792267417237,-1.1486949139209792,-1.9436487310390242,-1.943531388840012,-1.5073862646055067,-1.2990310063851835,-0.39474466386293144,-1.2990742905199946,-1.1997695675794289,-1.6134121598545614,-2.226125688767273,-1.1489016377165133,-1.299029453359112,-1.1647012593902604,-1.1913358413542938,-1.1486451887624112,-1.1487155975374637,-1.774528246865151,-2.0326856760568104,-2.004957684054706,-2.258007183101534,-1.943532276161924],\"z\":[0.1862916876038136,0.3560904826988966,-0.03553371848280665,0.36121664403034287,0.3560855827729668,0.474785728172988,0.313893272399954,-0.035516177191730766,0.0949931477527765,-0.03551870623648112,0.31699869117091534,-0.041472543851213545,0.18624533759508624,-0.035555354149778826,-0.03551786270690635,0.04396282701184169,0.14320479484121237,-0.035524602711832214,-0.03551659703312568,-0.03551574737977138,0.09499495826731222,0.31265402335967524,0.18054162514704145,-0.03935015740303281,-0.03552055656965345,-0.035582136347278276,-0.03552031838746688,-0.035514687887728914,0.19764876570863615,-0.03579193055006608,-0.03553426289819198,-0.035527352457358365,-0.06312184732762918,0.1862907730482358,-0.03556210275532928,-0.03552008288663078,-0.0355145233914211,-0.0355258689645615,0.29759897815927144,-0.03551601689094545,-0.036431238941298696,0.18629261043130452,-0.035616215845148305,-0.03551482823788599,-0.035525065640347415,-0.0355223796494615,0.18612049289124666,0.1862838772395819,0.18628991329156075,0.18629529809603787,0.1862971363153869,0.0949963336055798,-0.03552123556919614,0.22170721342711622,-0.035552893869934835,0.1862851639684635,0.33164314779051995,0.38558809842948516,-0.0355355372329042,-0.03566028545327654,-0.03555653727912573,-0.03551427644028146,-0.035560705016918236,-0.035758915135628046,0.49920363203135715,0.31749916482225704,0.1873657253227519,-0.0355171680368908,-0.03700273919267163,0.2834955303967477,-0.035514371824503746,0.1862932680479287,-0.03694173249748611,0.09498685169549266,0.412288534861569,0.18629209898510327,0.09499176883569327,-0.035526863700814634,-0.03553993121492754,0.35611832909864155,0.4107104472888786,0.09499184530286015,0.18629079961925082,-0.035578177170422075,0.3623936959926681,-0.03553568425168637,0.17967405568055045,0.09498233270083041,0.3617264132724941,-0.035516979358372,0.49967558162643455,-0.035516393771411234,0.09499234586891893,-0.035514370901160115,0.09499589634896233,0.8660415044305543,0.3877383514862396,0.18629524140557813,0.3172101594922677,-0.035551080028557384,0.18629439941218373,-0.035517864411033,0.4303348850249535,0.35611364112786364,0.4747862399448949,-0.03572612147260675,0.09475060940260785,0.09497539723531863,0.38774016029078273,-0.035514483732772155,0.3877376748888412,0.4122928325409082,0.09328972179618918,0.36121557581770203,-0.03551513617086601,0.09497237819072209,0.47478592368481093,-0.03554461115088505,0.4122878407179617,0.4727898204894142,-0.035594786996895666,0.0027412393246767667,-0.03552059840277344,0.1858772914515814,-0.03551925482755636,0.3612000232463041,0.4217254116049864,0.4202392311404556,0.41830750292473173,0.3871864066156028,0.0949849683229236,-0.03551972659284912,-0.035516841401074445,0.09498821988311623,0.09499563093337193,0.38773583530153416,0.4396915211700359,-0.08577585901932992,0.11609343412832566,0.0949441924801294,0.1862916678171144,-0.03567724730835753,-0.0768741929834449,-0.035517299957142326,-0.03552053436710416,-0.03552517670601767,-0.035525486109273544,0.38773680225771084,0.47295506985550695,0.0941870402127267,0.1977127061789065,0.47478288825967213,0.3617162729328719,-0.03554465354817539,0.09494057651672333,0.19771178791532423,0.35611359284360783,0.1977121497651618,0.31736843094879885,0.3808452237744144,0.3877392736000139,0.35581581025927256,0.09496491982960628,0.36107849315711754,-0.036738281647888435,0.13271947321810867,0.09499515244071607,0.19771173453915347,0.1976198649447352,-0.03552833059563973,0.09499387388473057,0.18629105303760035,0.19139063130293857,0.3568552422358196,0.5157000363277906,0.3876968198761652,-0.03856152218538893,0.3616959359152461,0.22152005197937308,-0.0355184033391796,-0.039990848916409465,0.09492781355542483,0.35594915535764177,0.387702100887057,-0.035515686072371794,0.4204115154893541,0.4747664659273778,0.43032484364090545,0.09498593358982141,0.3877358511754062,0.002738496366690573,0.4122916482050181,0.4938274337021675,0.43033522244574485,0.3877314347073671,0.4537729008273667,0.37294262954857293,0.34446430587444454,0.3875632658961613,0.19718432759248936,0.48210414475992963,0.09499491286162,-0.035514935769824785,0.36118995884750404,0.46985200766835444,0.16815706057295804,0.4221259404892005,0.1856572570829673,0.09499484418654992,0.19718264766143648,0.4734453957158339,0.43033215913108175,0.18629166870645783,0.38707541053260025,0.38229303527321046,0.38229014822981766,0.3401294999054402,-0.03552624998865828,0.47477379012571125,0.4747804360400988,0.18736227625431218,0.18628108095676715,-0.007513838625552663,0.18627011994237747,-0.03705242841245068,0.19654609847760857,0.3821797517002335,-0.035755350083512875,0.18628989838729829,-0.04484621424430237,0.14319760019158026,-0.03551572191820063,-0.03553716101677133,0.31751698933346534,0.304518594501569,0.3561141645372825,0.3874355450101529,0.4747857531957115],\"type\":\"scatter3d\"},{\"customdata\":[[\"VeChainThor Authority\"],[\"Proof-of-BibleHash\"],[\"SHA-256 + Hive\"],[\"Proof-of-Authority\"],[\"ECC 256K1\"]],\"hovertemplate\":\"<b>%{hovertext}</b><br><br>Class=%{marker.color}<br>PC 1=%{x}<br>PC 2=%{y}<br>PC 3=%{z}<br>Algorithm=%{customdata[0]}<extra></extra>\",\"hovertext\":[\"Vechain\",\"BiblePay\",\"LitecoinCash\",\"Poa Network\",\"Acute Angle Cloud\"],\"legendgroup\":\"1\",\"marker\":{\"color\":[1,1,1,1,1],\"coloraxis\":\"coloraxis\",\"symbol\":\"square\"},\"mode\":\"markers\",\"name\":\"1\",\"scene\":\"scene\",\"showlegend\":true,\"x\":[4.391119936182267,-0.20489318620254376,-0.3662564499893919,-0.3904038001566948,-0.34097408542147306],\"y\":[2.49653835838291,2.773074780301939,2.9170429162232514,4.1368219681373155,3.4115377940606484],\"z\":[8.975279781590162,12.558202219656017,14.824586592176587,10.911575735802153,20.55138067586384],\"type\":\"scatter3d\"},{\"customdata\":[[\"TRC10\"]],\"hovertemplate\":\"<b>%{hovertext}</b><br><br>Class=%{marker.color}<br>PC 1=%{x}<br>PC 2=%{y}<br>PC 3=%{z}<br>Algorithm=%{customdata[0]}<extra></extra>\",\"hovertext\":[\"BitTorrent\"],\"legendgroup\":\"2\",\"marker\":{\"color\":[2],\"coloraxis\":\"coloraxis\",\"symbol\":\"x\"},\"mode\":\"markers\",\"name\":\"2\",\"scene\":\"scene\",\"showlegend\":true,\"x\":[34.064376341669785],\"y\":[1.635698168572439],\"z\":[-1.0621479825350815],\"type\":\"scatter3d\"}],                        {\"template\":{\"data\":{\"bar\":[{\"error_x\":{\"color\":\"#2a3f5f\"},\"error_y\":{\"color\":\"#2a3f5f\"},\"marker\":{\"line\":{\"color\":\"#E5ECF6\",\"width\":0.5},\"pattern\":{\"fillmode\":\"overlay\",\"size\":10,\"solidity\":0.2}},\"type\":\"bar\"}],\"barpolar\":[{\"marker\":{\"line\":{\"color\":\"#E5ECF6\",\"width\":0.5},\"pattern\":{\"fillmode\":\"overlay\",\"size\":10,\"solidity\":0.2}},\"type\":\"barpolar\"}],\"carpet\":[{\"aaxis\":{\"endlinecolor\":\"#2a3f5f\",\"gridcolor\":\"white\",\"linecolor\":\"white\",\"minorgridcolor\":\"white\",\"startlinecolor\":\"#2a3f5f\"},\"baxis\":{\"endlinecolor\":\"#2a3f5f\",\"gridcolor\":\"white\",\"linecolor\":\"white\",\"minorgridcolor\":\"white\",\"startlinecolor\":\"#2a3f5f\"},\"type\":\"carpet\"}],\"choropleth\":[{\"colorbar\":{\"outlinewidth\":0,\"ticks\":\"\"},\"type\":\"choropleth\"}],\"contour\":[{\"colorbar\":{\"outlinewidth\":0,\"ticks\":\"\"},\"colorscale\":[[0.0,\"#0d0887\"],[0.1111111111111111,\"#46039f\"],[0.2222222222222222,\"#7201a8\"],[0.3333333333333333,\"#9c179e\"],[0.4444444444444444,\"#bd3786\"],[0.5555555555555556,\"#d8576b\"],[0.6666666666666666,\"#ed7953\"],[0.7777777777777778,\"#fb9f3a\"],[0.8888888888888888,\"#fdca26\"],[1.0,\"#f0f921\"]],\"type\":\"contour\"}],\"contourcarpet\":[{\"colorbar\":{\"outlinewidth\":0,\"ticks\":\"\"},\"type\":\"contourcarpet\"}],\"heatmap\":[{\"colorbar\":{\"outlinewidth\":0,\"ticks\":\"\"},\"colorscale\":[[0.0,\"#0d0887\"],[0.1111111111111111,\"#46039f\"],[0.2222222222222222,\"#7201a8\"],[0.3333333333333333,\"#9c179e\"],[0.4444444444444444,\"#bd3786\"],[0.5555555555555556,\"#d8576b\"],[0.6666666666666666,\"#ed7953\"],[0.7777777777777778,\"#fb9f3a\"],[0.8888888888888888,\"#fdca26\"],[1.0,\"#f0f921\"]],\"type\":\"heatmap\"}],\"heatmapgl\":[{\"colorbar\":{\"outlinewidth\":0,\"ticks\":\"\"},\"colorscale\":[[0.0,\"#0d0887\"],[0.1111111111111111,\"#46039f\"],[0.2222222222222222,\"#7201a8\"],[0.3333333333333333,\"#9c179e\"],[0.4444444444444444,\"#bd3786\"],[0.5555555555555556,\"#d8576b\"],[0.6666666666666666,\"#ed7953\"],[0.7777777777777778,\"#fb9f3a\"],[0.8888888888888888,\"#fdca26\"],[1.0,\"#f0f921\"]],\"type\":\"heatmapgl\"}],\"histogram\":[{\"marker\":{\"pattern\":{\"fillmode\":\"overlay\",\"size\":10,\"solidity\":0.2}},\"type\":\"histogram\"}],\"histogram2d\":[{\"colorbar\":{\"outlinewidth\":0,\"ticks\":\"\"},\"colorscale\":[[0.0,\"#0d0887\"],[0.1111111111111111,\"#46039f\"],[0.2222222222222222,\"#7201a8\"],[0.3333333333333333,\"#9c179e\"],[0.4444444444444444,\"#bd3786\"],[0.5555555555555556,\"#d8576b\"],[0.6666666666666666,\"#ed7953\"],[0.7777777777777778,\"#fb9f3a\"],[0.8888888888888888,\"#fdca26\"],[1.0,\"#f0f921\"]],\"type\":\"histogram2d\"}],\"histogram2dcontour\":[{\"colorbar\":{\"outlinewidth\":0,\"ticks\":\"\"},\"colorscale\":[[0.0,\"#0d0887\"],[0.1111111111111111,\"#46039f\"],[0.2222222222222222,\"#7201a8\"],[0.3333333333333333,\"#9c179e\"],[0.4444444444444444,\"#bd3786\"],[0.5555555555555556,\"#d8576b\"],[0.6666666666666666,\"#ed7953\"],[0.7777777777777778,\"#fb9f3a\"],[0.8888888888888888,\"#fdca26\"],[1.0,\"#f0f921\"]],\"type\":\"histogram2dcontour\"}],\"mesh3d\":[{\"colorbar\":{\"outlinewidth\":0,\"ticks\":\"\"},\"type\":\"mesh3d\"}],\"parcoords\":[{\"line\":{\"colorbar\":{\"outlinewidth\":0,\"ticks\":\"\"}},\"type\":\"parcoords\"}],\"pie\":[{\"automargin\":true,\"type\":\"pie\"}],\"scatter\":[{\"marker\":{\"colorbar\":{\"outlinewidth\":0,\"ticks\":\"\"}},\"type\":\"scatter\"}],\"scatter3d\":[{\"line\":{\"colorbar\":{\"outlinewidth\":0,\"ticks\":\"\"}},\"marker\":{\"colorbar\":{\"outlinewidth\":0,\"ticks\":\"\"}},\"type\":\"scatter3d\"}],\"scattercarpet\":[{\"marker\":{\"colorbar\":{\"outlinewidth\":0,\"ticks\":\"\"}},\"type\":\"scattercarpet\"}],\"scattergeo\":[{\"marker\":{\"colorbar\":{\"outlinewidth\":0,\"ticks\":\"\"}},\"type\":\"scattergeo\"}],\"scattergl\":[{\"marker\":{\"colorbar\":{\"outlinewidth\":0,\"ticks\":\"\"}},\"type\":\"scattergl\"}],\"scattermapbox\":[{\"marker\":{\"colorbar\":{\"outlinewidth\":0,\"ticks\":\"\"}},\"type\":\"scattermapbox\"}],\"scatterpolar\":[{\"marker\":{\"colorbar\":{\"outlinewidth\":0,\"ticks\":\"\"}},\"type\":\"scatterpolar\"}],\"scatterpolargl\":[{\"marker\":{\"colorbar\":{\"outlinewidth\":0,\"ticks\":\"\"}},\"type\":\"scatterpolargl\"}],\"scatterternary\":[{\"marker\":{\"colorbar\":{\"outlinewidth\":0,\"ticks\":\"\"}},\"type\":\"scatterternary\"}],\"surface\":[{\"colorbar\":{\"outlinewidth\":0,\"ticks\":\"\"},\"colorscale\":[[0.0,\"#0d0887\"],[0.1111111111111111,\"#46039f\"],[0.2222222222222222,\"#7201a8\"],[0.3333333333333333,\"#9c179e\"],[0.4444444444444444,\"#bd3786\"],[0.5555555555555556,\"#d8576b\"],[0.6666666666666666,\"#ed7953\"],[0.7777777777777778,\"#fb9f3a\"],[0.8888888888888888,\"#fdca26\"],[1.0,\"#f0f921\"]],\"type\":\"surface\"}],\"table\":[{\"cells\":{\"fill\":{\"color\":\"#EBF0F8\"},\"line\":{\"color\":\"white\"}},\"header\":{\"fill\":{\"color\":\"#C8D4E3\"},\"line\":{\"color\":\"white\"}},\"type\":\"table\"}]},\"layout\":{\"annotationdefaults\":{\"arrowcolor\":\"#2a3f5f\",\"arrowhead\":0,\"arrowwidth\":1},\"autotypenumbers\":\"strict\",\"coloraxis\":{\"colorbar\":{\"outlinewidth\":0,\"ticks\":\"\"}},\"colorscale\":{\"diverging\":[[0,\"#8e0152\"],[0.1,\"#c51b7d\"],[0.2,\"#de77ae\"],[0.3,\"#f1b6da\"],[0.4,\"#fde0ef\"],[0.5,\"#f7f7f7\"],[0.6,\"#e6f5d0\"],[0.7,\"#b8e186\"],[0.8,\"#7fbc41\"],[0.9,\"#4d9221\"],[1,\"#276419\"]],\"sequential\":[[0.0,\"#0d0887\"],[0.1111111111111111,\"#46039f\"],[0.2222222222222222,\"#7201a8\"],[0.3333333333333333,\"#9c179e\"],[0.4444444444444444,\"#bd3786\"],[0.5555555555555556,\"#d8576b\"],[0.6666666666666666,\"#ed7953\"],[0.7777777777777778,\"#fb9f3a\"],[0.8888888888888888,\"#fdca26\"],[1.0,\"#f0f921\"]],\"sequentialminus\":[[0.0,\"#0d0887\"],[0.1111111111111111,\"#46039f\"],[0.2222222222222222,\"#7201a8\"],[0.3333333333333333,\"#9c179e\"],[0.4444444444444444,\"#bd3786\"],[0.5555555555555556,\"#d8576b\"],[0.6666666666666666,\"#ed7953\"],[0.7777777777777778,\"#fb9f3a\"],[0.8888888888888888,\"#fdca26\"],[1.0,\"#f0f921\"]]},\"colorway\":[\"#636efa\",\"#EF553B\",\"#00cc96\",\"#ab63fa\",\"#FFA15A\",\"#19d3f3\",\"#FF6692\",\"#B6E880\",\"#FF97FF\",\"#FECB52\"],\"font\":{\"color\":\"#2a3f5f\"},\"geo\":{\"bgcolor\":\"white\",\"lakecolor\":\"white\",\"landcolor\":\"#E5ECF6\",\"showlakes\":true,\"showland\":true,\"subunitcolor\":\"white\"},\"hoverlabel\":{\"align\":\"left\"},\"hovermode\":\"closest\",\"mapbox\":{\"style\":\"light\"},\"paper_bgcolor\":\"white\",\"plot_bgcolor\":\"#E5ECF6\",\"polar\":{\"angularaxis\":{\"gridcolor\":\"white\",\"linecolor\":\"white\",\"ticks\":\"\"},\"bgcolor\":\"#E5ECF6\",\"radialaxis\":{\"gridcolor\":\"white\",\"linecolor\":\"white\",\"ticks\":\"\"}},\"scene\":{\"xaxis\":{\"backgroundcolor\":\"#E5ECF6\",\"gridcolor\":\"white\",\"gridwidth\":2,\"linecolor\":\"white\",\"showbackground\":true,\"ticks\":\"\",\"zerolinecolor\":\"white\"},\"yaxis\":{\"backgroundcolor\":\"#E5ECF6\",\"gridcolor\":\"white\",\"gridwidth\":2,\"linecolor\":\"white\",\"showbackground\":true,\"ticks\":\"\",\"zerolinecolor\":\"white\"},\"zaxis\":{\"backgroundcolor\":\"#E5ECF6\",\"gridcolor\":\"white\",\"gridwidth\":2,\"linecolor\":\"white\",\"showbackground\":true,\"ticks\":\"\",\"zerolinecolor\":\"white\"}},\"shapedefaults\":{\"line\":{\"color\":\"#2a3f5f\"}},\"ternary\":{\"aaxis\":{\"gridcolor\":\"white\",\"linecolor\":\"white\",\"ticks\":\"\"},\"baxis\":{\"gridcolor\":\"white\",\"linecolor\":\"white\",\"ticks\":\"\"},\"bgcolor\":\"#E5ECF6\",\"caxis\":{\"gridcolor\":\"white\",\"linecolor\":\"white\",\"ticks\":\"\"}},\"title\":{\"x\":0.05},\"xaxis\":{\"automargin\":true,\"gridcolor\":\"white\",\"linecolor\":\"white\",\"ticks\":\"\",\"title\":{\"standoff\":15},\"zerolinecolor\":\"white\",\"zerolinewidth\":2},\"yaxis\":{\"automargin\":true,\"gridcolor\":\"white\",\"linecolor\":\"white\",\"ticks\":\"\",\"title\":{\"standoff\":15},\"zerolinecolor\":\"white\",\"zerolinewidth\":2}}},\"scene\":{\"domain\":{\"x\":[0.0,1.0],\"y\":[0.0,1.0]},\"xaxis\":{\"title\":{\"text\":\"PC 1\"}},\"yaxis\":{\"title\":{\"text\":\"PC 2\"}},\"zaxis\":{\"title\":{\"text\":\"PC 3\"}}},\"coloraxis\":{\"colorbar\":{\"title\":{\"text\":\"Class\"}},\"colorscale\":[[0.0,\"#0d0887\"],[0.1111111111111111,\"#46039f\"],[0.2222222222222222,\"#7201a8\"],[0.3333333333333333,\"#9c179e\"],[0.4444444444444444,\"#bd3786\"],[0.5555555555555556,\"#d8576b\"],[0.6666666666666666,\"#ed7953\"],[0.7777777777777778,\"#fb9f3a\"],[0.8888888888888888,\"#fdca26\"],[1.0,\"#f0f921\"]]},\"legend\":{\"title\":{\"text\":\"Class\"},\"tracegroupgap\":0,\"x\":0,\"y\":1},\"margin\":{\"t\":60},\"width\":800},                        {\"responsive\": true}                    ).then(function(){\n",
       "                            \n",
       "var gd = document.getElementById('baa8f49a-d367-4542-934a-78826df255da');\n",
       "var x = new MutationObserver(function (mutations, observer) {{\n",
       "        var display = window.getComputedStyle(gd).display;\n",
       "        if (!display || display === 'none') {{\n",
       "            console.log([gd, 'removed!']);\n",
       "            Plotly.purge(gd);\n",
       "            observer.disconnect();\n",
       "        }}\n",
       "}});\n",
       "\n",
       "// Listen for the removal of the full notebook cells\n",
       "var notebookContainer = gd.closest('#notebook-container');\n",
       "if (notebookContainer) {{\n",
       "    x.observe(notebookContainer, {childList: true});\n",
       "}}\n",
       "\n",
       "// Listen for the clearing of the current output cell\n",
       "var outputEl = gd.closest('.output');\n",
       "if (outputEl) {{\n",
       "    x.observe(outputEl, {childList: true});\n",
       "}}\n",
       "\n",
       "                        })                };                });            </script>        </div>"
      ]
     },
     "metadata": {},
     "output_type": "display_data"
    }
   ],
   "source": [
    "# Creating a 3D-Scatter with the PCA data and the clusters\n",
    "fig = px.scatter_3d(\n",
    "    crypto_clustered_df,\n",
    "    x='PC 1',\n",
    "    y='PC 2',\n",
    "    z='PC 3',\n",
    "    color='Class',\n",
    "    symbol='Class',\n",
    "    width=800,\n",
    "    hover_name='CoinName',\n",
    "    hover_data=['Algorithm'])\n",
    "\n",
    "fig.update_layout(legend=dict(x=0, y=1))\n",
    "fig.show()\n",
    "                 \n",
    "\n"
   ]
  },
  {
   "cell_type": "code",
   "execution_count": 88,
   "metadata": {},
   "outputs": [
    {
     "data": {},
     "metadata": {},
     "output_type": "display_data"
    },
    {
     "data": {
      "application/vnd.holoviews_exec.v0+json": "",
      "text/html": [
       "<div id='2504'>\n",
       "\n",
       "\n",
       "\n",
       "\n",
       "\n",
       "  <div class=\"bk-root\" id=\"04fad96f-147e-4789-9cc6-5716f80c226e\" data-root-id=\"2504\"></div>\n",
       "</div>\n",
       "<script type=\"application/javascript\">(function(root) {\n",
       "  function embed_document(root) {\n",
       "    var docs_json = {\"f677ea06-6710-4582-9ea3-4715a99bd99d\":{\"defs\":[{\"extends\":null,\"module\":null,\"name\":\"ReactiveHTML1\",\"overrides\":[],\"properties\":[]},{\"extends\":null,\"module\":null,\"name\":\"FlexBox1\",\"overrides\":[],\"properties\":[{\"default\":\"flex-start\",\"kind\":null,\"name\":\"align_content\"},{\"default\":\"flex-start\",\"kind\":null,\"name\":\"align_items\"},{\"default\":\"row\",\"kind\":null,\"name\":\"flex_direction\"},{\"default\":\"wrap\",\"kind\":null,\"name\":\"flex_wrap\"},{\"default\":\"flex-start\",\"kind\":null,\"name\":\"justify_content\"}]},{\"extends\":null,\"module\":null,\"name\":\"GridStack1\",\"overrides\":[],\"properties\":[{\"default\":\"warn\",\"kind\":null,\"name\":\"mode\"},{\"default\":null,\"kind\":null,\"name\":\"ncols\"},{\"default\":null,\"kind\":null,\"name\":\"nrows\"},{\"default\":true,\"kind\":null,\"name\":\"allow_resize\"},{\"default\":true,\"kind\":null,\"name\":\"allow_drag\"},{\"default\":[],\"kind\":null,\"name\":\"state\"}]},{\"extends\":null,\"module\":null,\"name\":\"click1\",\"overrides\":[],\"properties\":[{\"default\":\"\",\"kind\":null,\"name\":\"terminal_output\"},{\"default\":\"\",\"kind\":null,\"name\":\"debug_name\"},{\"default\":0,\"kind\":null,\"name\":\"clears\"}]},{\"extends\":null,\"module\":null,\"name\":\"TemplateActions1\",\"overrides\":[],\"properties\":[{\"default\":0,\"kind\":null,\"name\":\"open_modal\"},{\"default\":0,\"kind\":null,\"name\":\"close_modal\"}]},{\"extends\":null,\"module\":null,\"name\":\"MaterialTemplateActions1\",\"overrides\":[],\"properties\":[{\"default\":0,\"kind\":null,\"name\":\"open_modal\"},{\"default\":0,\"kind\":null,\"name\":\"close_modal\"}]}],\"roots\":{\"references\":[{\"attributes\":{\"editor\":{\"id\":\"2544\"},\"field\":\"CoinName\",\"formatter\":{\"id\":\"2543\"},\"title\":\"CoinName\"},\"id\":\"2545\",\"type\":\"TableColumn\"},{\"attributes\":{},\"id\":\"2523\",\"type\":\"StringFormatter\"},{\"attributes\":{\"source\":{\"id\":\"2506\"}},\"id\":\"2555\",\"type\":\"CDSView\"},{\"attributes\":{},\"id\":\"2513\",\"type\":\"StringFormatter\"},{\"attributes\":{\"margin\":[5,5,5,5],\"name\":\"HSpacer04610\",\"sizing_mode\":\"stretch_width\"},\"id\":\"2560\",\"type\":\"Spacer\"},{\"attributes\":{},\"id\":\"2549\",\"type\":\"IntEditor\"},{\"attributes\":{\"children\":[{\"id\":\"2505\"},{\"id\":\"2553\"},{\"id\":\"2560\"}],\"margin\":[0,0,0,0],\"name\":\"Row04605\",\"tags\":[\"embedded\"]},\"id\":\"2504\",\"type\":\"Row\"},{\"attributes\":{\"editor\":{\"id\":\"2529\"},\"field\":\"PC_1\",\"formatter\":{\"id\":\"2528\"},\"title\":\"PC 1\"},\"id\":\"2530\",\"type\":\"TableColumn\"},{\"attributes\":{\"editor\":{\"id\":\"2524\"},\"field\":\"TotalCoinSupply\",\"formatter\":{\"id\":\"2523\"},\"title\":\"TotalCoinSupply\"},\"id\":\"2525\",\"type\":\"TableColumn\"},{\"attributes\":{\"data\":{\"Algorithm\":[\"Scrypt\",\"Scrypt\",\"X13\",\"SHA-256\",\"Ethash\",\"Scrypt\",\"X11\",\"CryptoNight-V7\",\"Ethash\",\"Equihash\",\"SHA-512\",\"Multiple\",\"SHA-256\",\"SHA-256\",\"Scrypt\",\"X15\",\"X11\",\"Scrypt\",\"Scrypt\",\"Scrypt\",\"Multiple\",\"Scrypt\",\"SHA-256\",\"Scrypt\",\"Scrypt\",\"Scrypt\",\"Quark\",\"Groestl\",\"Scrypt\",\"Scrypt\",\"Scrypt\",\"Scrypt\",\"Scrypt\",\"X11\",\"Scrypt\",\"Groestl\",\"Multiple\",\"SHA-256\",\"Scrypt\",\"Scrypt\",\"Scrypt\",\"Scrypt\",\"PoS\",\"Scrypt\",\"Scrypt\",\"NeoScrypt\",\"Scrypt\",\"Scrypt\",\"Scrypt\",\"Scrypt\",\"X11\",\"Scrypt\",\"X11\",\"SHA-256\",\"Scrypt\",\"Scrypt\",\"Scrypt\",\"SHA3\",\"Scrypt\",\"HybridScryptHash256\",\"Scrypt\",\"Scrypt\",\"SHA-256\",\"Scrypt\",\"X13\",\"Scrypt\",\"SHA-256\",\"Scrypt\",\"X13\",\"NeoScrypt\",\"Scrypt\",\"Scrypt\",\"Scrypt\",\"Scrypt\",\"Scrypt\",\"Scrypt\",\"X11\",\"X11\",\"SHA-256\",\"Multiple\",\"SHA-256\",\"PHI1612\",\"X11\",\"SHA-256\",\"SHA-256\",\"SHA-256\",\"X11\",\"Scrypt\",\"Scrypt\",\"Scrypt\",\"Scrypt\",\"Lyra2REv2\",\"Scrypt\",\"X11\",\"Multiple\",\"SHA-256\",\"X13\",\"Scrypt\",\"CryptoNight\",\"CryptoNight\",\"Shabal256\",\"Counterparty\",\"Scrypt\",\"SHA-256\",\"Groestl\",\"Scrypt\",\"Scrypt\",\"Scrypt\",\"X13\",\"Scrypt\",\"Scrypt\",\"Scrypt\",\"Scrypt\",\"X13\",\"Scrypt\",\"Stanford Folding\",\"X11\",\"Multiple\",\"QuBit\",\"Scrypt\",\"Scrypt\",\"Scrypt\",\"M7 POW\",\"Scrypt\",\"SHA-256\",\"Scrypt\",\"X11\",\"SHA3\",\"X11\",\"Lyra2RE\",\"SHA-256\",\"QUAIT\",\"X11\",\"X11\",\"Scrypt\",\"Scrypt\",\"Scrypt\",\"Ethash\",\"X13\",\"Blake2b\",\"SHA-256\",\"X15\",\"X11\",\"SHA-256\",\"BLAKE256\",\"Scrypt\",\"1GB AES Pattern Search\",\"SHA-256\",\"X11\",\"Scrypt\",\"SHA-256\",\"SHA-256\",\"NIST5\",\"Scrypt\",\"Scrypt\",\"X11\",\"Dagger\",\"Scrypt\",\"X11GOST\",\"X11\",\"Scrypt\",\"SHA-256\",\"Scrypt\",\"PoS\",\"Scrypt\",\"X11\",\"X11\",\"SHA-256\",\"SHA-256\",\"NIST5\",\"X11\",\"Scrypt\",\"POS 3.0\",\"Scrypt\",\"Scrypt\",\"Scrypt\",\"X13\",\"X11\",\"X11\",\"Equihash\",\"X11\",\"Scrypt\",\"CryptoNight\",\"SHA-256\",\"SHA-256\",\"X11\",\"Scrypt\",\"Multiple\",\"Scrypt\",\"Scrypt\",\"Scrypt\",\"SHA-256\",\"Scrypt\",\"Scrypt\",\"SHA-256D\",\"PoS\",\"Scrypt\",\"X11\",\"Lyra2Z\",\"PoS\",\"X13\",\"X14\",\"PoS\",\"SHA-256D\",\"Ethash\",\"Equihash\",\"DPoS\",\"X11\",\"Scrypt\",\"X11\",\"X13\",\"X11\",\"PoS\",\"Scrypt\",\"Scrypt\",\"X11\",\"PoS\",\"X11\",\"SHA-256\",\"Scrypt\",\"X11\",\"Scrypt\",\"Scrypt\",\"X11\",\"CryptoNight\",\"Scrypt\",\"Scrypt\",\"Scrypt\",\"Scrypt\",\"Quark\",\"QuBit\",\"Scrypt\",\"CryptoNight\",\"Lyra2RE\",\"Scrypt\",\"SHA-256\",\"X11\",\"Scrypt\",\"X11\",\"Scrypt\",\"CryptoNight-V7\",\"Scrypt\",\"Scrypt\",\"Scrypt\",\"X13\",\"X11\",\"Equihash\",\"Scrypt\",\"Scrypt\",\"Lyra2RE\",\"Scrypt\",\"Dagger-Hashimoto\",\"X11\",\"Blake2S\",\"X11\",\"Scrypt\",\"PoS\",\"X11\",\"NIST5\",\"PoS\",\"X11\",\"Scrypt\",\"Scrypt\",\"Scrypt\",\"SHA-256\",\"X11\",\"Scrypt\",\"Scrypt\",\"SHA-256\",\"PoS\",\"Scrypt\",\"X15\",\"SHA-256\",\"Scrypt\",\"POS 3.0\",\"CryptoNight-V7\",\"536\",\"Argon2d\",\"Blake2b\",\"Cloverhash\",\"CryptoNight\",\"NIST5\",\"X11\",\"NIST5\",\"Skein\",\"Scrypt\",\"X13\",\"Scrypt\",\"X11\",\"X11\",\"Scrypt\",\"CryptoNight\",\"X13\",\"Time Travel\",\"Scrypt\",\"Keccak\",\"SkunkHash v2 Raptor\",\"X11\",\"Skein\",\"SHA-256\",\"X11\",\"Scrypt\",\"VeChainThor Authority\",\"Scrypt\",\"PoS\",\"Scrypt\",\"Scrypt\",\"Scrypt\",\"Scrypt\",\"Scrypt\",\"Scrypt\",\"Scrypt\",\"CryptoNight\",\"SHA-512\",\"Ouroboros\",\"X11\",\"Equihash\",\"NeoScrypt\",\"X11\",\"Scrypt\",\"NeoScrypt\",\"Lyra2REv2\",\"Equihash\",\"Scrypt\",\"SHA-256\",\"NIST5\",\"PHI1612\",\"Dagger\",\"Scrypt\",\"Quark\",\"Scrypt\",\"POS 2.0\",\"Scrypt\",\"SHA-256\",\"X11\",\"NeoScrypt\",\"Ethash\",\"NeoScrypt\",\"X11\",\"DPoS\",\"NIST5\",\"X13\",\"Multiple\",\"Scrypt\",\"CryptoNight\",\"CryptoNight\",\"Ethash\",\"NIST5\",\"Quark\",\"X11\",\"CryptoNight-V7\",\"Scrypt\",\"Scrypt\",\"Scrypt\",\"X11\",\"BLAKE256\",\"X11\",\"NeoScrypt\",\"Quark\",\"NeoScrypt\",\"Scrypt\",\"Scrypt\",\"Scrypt\",\"X11\",\"X11\",\"SHA-256\",\"C11\",\"POS 3.0\",\"Ethash\",\"Scrypt\",\"CryptoNight\",\"SkunkHash\",\"Scrypt\",\"CryptoNight\",\"Scrypt\",\"Dagger\",\"Lyra2REv2\",\"X13\",\"Proof-of-BibleHash\",\"SHA-256 + Hive\",\"Scrypt\",\"Scrypt\",\"X11\",\"C11\",\"Proof-of-Authority\",\"X11\",\"XEVAN\",\"Scrypt\",\"VBFT\",\"Ethash\",\"CryptoNight\",\"Scrypt\",\"IMesh\",\"NIST5\",\"Scrypt\",\"Scrypt\",\"Equihash\",\"Scrypt\",\"Lyra2Z\",\"Green Protocol\",\"PoS\",\"Scrypt\",\"Semux BFT consensus\",\"X11\",\"Quark\",\"PoS\",\"CryptoNight\",\"X16R\",\"Scrypt\",\"NIST5\",\"Lyra2RE\",\"XEVAN\",\"Tribus\",\"Scrypt\",\"Lyra2Z\",\"CryptoNight\",\"CryptoNight Heavy\",\"CryptoNight\",\"Scrypt\",\"Scrypt\",\"Jump Consistent Hash\",\"SHA-256D\",\"CryptoNight\",\"Scrypt\",\"X15\",\"Scrypt\",\"Quark\",\"SHA-256\",\"DPoS\",\"X16R\",\"HMQ1725\",\"X11\",\"X16R\",\"Quark\",\"Quark\",\"Scrypt\",\"Lyra2REv2\",\"Quark\",\"Scrypt\",\"Scrypt\",\"CryptoNight-V7\",\"Cryptonight-GPU\",\"XEVAN\",\"CryptoNight Heavy\",\"X11\",\"X11\",\"Scrypt\",\"PoS\",\"SHA-256\",\"Keccak\",\"X11\",\"X11\",\"Scrypt\",\"SHA-512\",\"X16R\",\"ECC 256K1\",\"Equihash\",\"XEVAN\",\"Lyra2Z\",\"SHA-256\",\"XEVAN\",\"X11\",\"CryptoNight\",\"Quark\",\"Blake\",\"Blake\",\"Equihash\",\"Exosis\",\"Scrypt\",\"Scrypt\",\"Equihash\",\"Quark\",\"Equihash\",\"Quark\",\"Scrypt\",\"QuBit\",\"X11\",\"Scrypt\",\"XEVAN\",\"SHA-256D\",\"X11\",\"SHA-256\",\"X13\",\"SHA-256\",\"X11\",\"DPoS\",\"Scrypt\",\"Scrypt\",\"X11\",\"NeoScrypt\",\"Scrypt\",\"Blake\",\"Scrypt\",\"SHA-256\",\"Scrypt\",\"X11\",\"Scrypt\",\"Scrypt\",\"SHA-256\",\"X11\",\"SHA-256\",\"Scrypt\",\"Scrypt\",\"Scrypt\",\"Groestl\",\"X11\",\"Scrypt\",\"PoS\",\"Scrypt\",\"Scrypt\",\"X11\",\"SHA-256\",\"DPoS\",\"Scrypt\",\"Scrypt\",\"NeoScrypt\",\"Multiple\",\"X13\",\"Equihash+Scrypt\",\"DPoS\",\"Ethash\",\"DPoS\",\"SHA-256\",\"Leased POS\",\"PoS\",\"TRC10\",\"PoS\",\"SHA-256\",\"Scrypt\",\"CryptoNight\",\"Equihash\",\"Scrypt\"],\"Class\":{\"__ndarray__\":\"AAAAAAAAAAAAAAAAAwAAAAMAAAADAAAAAAAAAAMAAAADAAAAAwAAAAAAAAADAAAAAAAAAAAAAAADAAAAAAAAAAMAAAADAAAAAAAAAAAAAAADAAAAAwAAAAMAAAADAAAAAwAAAAAAAAADAAAAAwAAAAMAAAAAAAAAAwAAAAAAAAADAAAAAwAAAAAAAAAAAAAAAwAAAAMAAAADAAAAAwAAAAMAAAADAAAAAAAAAAAAAAADAAAAAwAAAAMAAAADAAAAAwAAAAAAAAAAAAAAAwAAAAAAAAADAAAAAwAAAAMAAAADAAAAAAAAAAMAAAADAAAAAAAAAAMAAAAAAAAAAAAAAAAAAAADAAAAAwAAAAMAAAAAAAAAAAAAAAAAAAAAAAAAAAAAAAMAAAADAAAAAwAAAAAAAAAAAAAAAwAAAAAAAAADAAAAAAAAAAAAAAADAAAAAwAAAAMAAAADAAAAAAAAAAAAAAADAAAAAAAAAAMAAAADAAAAAAAAAAAAAAADAAAAAAAAAAAAAAADAAAAAwAAAAAAAAAAAAAAAwAAAAAAAAAAAAAAAwAAAAAAAAADAAAAAAAAAAMAAAAAAAAAAwAAAAAAAAAAAAAAAwAAAAMAAAAAAAAAAwAAAAMAAAADAAAAAAAAAAMAAAADAAAAAwAAAAMAAAADAAAAAAAAAAAAAAADAAAAAwAAAAMAAAAAAAAAAwAAAAAAAAADAAAAAwAAAAAAAAADAAAAAAAAAAMAAAAAAAAAAAAAAAMAAAADAAAAAAAAAAMAAAADAAAAAAAAAAAAAAADAAAAAAAAAAMAAAAAAAAAAAAAAAAAAAADAAAAAwAAAAMAAAADAAAAAAAAAAAAAAAAAAAAAAAAAAAAAAADAAAAAwAAAAAAAAAAAAAAAAAAAAAAAAAAAAAAAwAAAAAAAAAAAAAAAAAAAAAAAAAAAAAAAwAAAAAAAAADAAAAAAAAAAAAAAADAAAAAAAAAAMAAAAAAAAAAAAAAAMAAAAAAAAAAwAAAAAAAAADAAAAAAAAAAMAAAAAAAAAAAAAAAAAAAAAAAAAAwAAAAAAAAAAAAAAAAAAAAAAAAAAAAAAAwAAAAMAAAAAAAAAAAAAAAMAAAADAAAAAAAAAAAAAAAAAAAAAAAAAAAAAAADAAAAAAAAAAAAAAAAAAAAAAAAAAAAAAAAAAAAAAAAAAAAAAADAAAAAAAAAAAAAAAAAAAAAAAAAAAAAAAAAAAAAwAAAAMAAAADAAAAAAAAAAAAAAAAAAAAAAAAAAMAAAAAAAAAAwAAAAAAAAAAAAAAAwAAAAAAAAADAAAAAwAAAAAAAAADAAAAAwAAAAAAAAADAAAAAAAAAAAAAAAAAAAAAwAAAAAAAAAAAAAAAwAAAAAAAAAAAAAAAAAAAAAAAAAAAAAAAAAAAAAAAAADAAAAAAAAAAMAAAAAAAAAAAAAAAAAAAAAAAAAAwAAAAAAAAADAAAAAAAAAAMAAAADAAAAAwAAAAMAAAAAAAAAAwAAAAAAAAAAAAAAAwAAAAAAAAADAAAAAwAAAAMAAAAAAAAAAwAAAAAAAAADAAAAAwAAAAMAAAAAAAAAAwAAAAAAAAADAAAAAAAAAAAAAAABAAAAAwAAAAAAAAADAAAAAwAAAAMAAAADAAAAAwAAAAAAAAAAAAAAAwAAAAAAAAAAAAAAAAAAAAMAAAAAAAAAAwAAAAAAAAADAAAAAAAAAAMAAAAAAAAAAAAAAAAAAAAAAAAAAwAAAAAAAAAAAAAAAwAAAAAAAAAAAAAAAAAAAAMAAAADAAAAAwAAAAMAAAAAAAAAAAAAAAAAAAAAAAAAAwAAAAAAAAADAAAAAwAAAAMAAAAAAAAAAAAAAAMAAAADAAAAAAAAAAAAAAADAAAAAAAAAAMAAAADAAAAAwAAAAAAAAADAAAAAwAAAAAAAAAAAAAAAAAAAAMAAAADAAAAAwAAAAAAAAAAAAAAAAAAAAMAAAADAAAAAAAAAAMAAAADAAAAAwAAAAMAAAAAAAAAAQAAAAEAAAADAAAAAwAAAAMAAAAAAAAAAQAAAAAAAAAAAAAAAAAAAAAAAAADAAAAAwAAAAMAAAADAAAAAAAAAAAAAAAAAAAAAwAAAAAAAAADAAAAAAAAAAAAAAAAAAAAAAAAAAMAAAAAAAAAAAAAAAMAAAAAAAAAAAAAAAMAAAADAAAAAAAAAAMAAAAAAAAAAwAAAAMAAAADAAAAAwAAAAAAAAAAAAAAAwAAAAAAAAADAAAAAAAAAAAAAAAAAAAAAAAAAAAAAAAAAAAAAwAAAAMAAAADAAAAAAAAAAAAAAAAAAAAAAAAAAAAAAAAAAAAAwAAAAAAAAADAAAAAwAAAAMAAAADAAAAAAAAAAAAAAAAAAAAAAAAAAMAAAAAAAAAAAAAAAMAAAAAAAAAAAAAAAMAAAABAAAAAwAAAAAAAAADAAAAAwAAAAAAAAAAAAAAAwAAAAAAAAADAAAAAwAAAAAAAAADAAAAAwAAAAAAAAADAAAAAAAAAAMAAAAAAAAAAAAAAAMAAAAAAAAAAAAAAAAAAAAAAAAAAAAAAAMAAAADAAAAAwAAAAAAAAAAAAAAAAAAAAMAAAAAAAAAAwAAAAAAAAADAAAAAAAAAAAAAAAAAAAAAAAAAAMAAAAAAAAAAAAAAAAAAAADAAAAAAAAAAMAAAAAAAAAAwAAAAAAAAAAAAAAAAAAAAMAAAADAAAAAAAAAAAAAAAAAAAAAAAAAAAAAAAAAAAAAwAAAAAAAAADAAAAAAAAAAMAAAAAAAAAAAAAAAAAAAAAAAAAAgAAAAAAAAAAAAAAAAAAAAMAAAADAAAAAAAAAA==\",\"dtype\":\"int32\",\"order\":\"little\",\"shape\":[532]},\"CoinName\":[\"42 Coin\",\"404Coin\",\"EliteCoin\",\"Bitcoin\",\"Ethereum\",\"Litecoin\",\"Dash\",\"Monero\",\"Ethereum Classic\",\"ZCash\",\"Bitshares\",\"DigiByte\",\"BitcoinDark\",\"PayCoin\",\"ProsperCoin\",\"KoboCoin\",\"Spreadcoin\",\"Argentum\",\"Aurora Coin\",\"BlueCoin\",\"MyriadCoin\",\"MoonCoin\",\"ZetaCoin\",\"SexCoin\",\"Quatloo\",\"EnergyCoin\",\"QuarkCoin\",\"Riecoin\",\"Digitalcoin \",\"BitBar\",\"Catcoin\",\"CryptoBullion\",\"CannaCoin\",\"CryptCoin\",\"CasinoCoin\",\"Diamond\",\"Verge\",\"DevCoin\",\"EarthCoin\",\"E-Gulden\",\"Einsteinium\",\"Emerald\",\"Exclusive Coin\",\"FlutterCoin\",\"Franko\",\"FeatherCoin\",\"GrandCoin\",\"GlobalCoin\",\"GoldCoin\",\"HoboNickels\",\"HyperStake\",\"Infinite Coin\",\"IOCoin\",\"IXcoin\",\"KrugerCoin\",\"LuckyCoin\",\"Litebar \",\"MaxCoin\",\"MegaCoin\",\"MediterraneanCoin\",\"MintCoin\",\"MinCoin\",\"MazaCoin\",\"Nautilus Coin\",\"NavCoin\",\"NobleCoin\",\"Namecoin\",\"NyanCoin\",\"OpalCoin\",\"Orbitcoin\",\"PotCoin\",\"PhoenixCoin\",\"Reddcoin\",\"RonPaulCoin\",\"StableCoin\",\"SmartCoin\",\"SuperCoin\",\"SyncCoin\",\"SysCoin\",\"TeslaCoin\",\"TigerCoin\",\"TittieCoin\",\"TorCoin\",\"TerraCoin\",\"UnbreakableCoin\",\"Unobtanium\",\"UroCoin\",\"UnitaryStatus Dollar\",\"UltraCoin\",\"ViaCoin\",\"VeriCoin\",\"Vertcoin\",\"WorldCoin\",\"X11 Coin\",\"Crypti\",\"JouleCoin\",\"StealthCoin\",\"ZCC Coin\",\"ByteCoin\",\"DigitalNote \",\"BurstCoin\",\"StorjCoin\",\"MonaCoin\",\"Neutron\",\"FairCoin\",\"Gulden\",\"RubyCoin\",\"PesetaCoin\",\"Kore\",\"Wild Beast Coin\",\"Dnotes\",\"Flo\",\"8BIT Coin\",\"Sativa Coin\",\"ArtByte\",\"Folding Coin\",\"Ucoin\",\"Unitus\",\"CypherPunkCoin\",\"OmniCron\",\"Vtorrent\",\"GreenCoin\",\"Cryptonite\",\"MasterCoin\",\"SoonCoin\",\"1Credit\",\"IslaCoin\",\"Nexus\",\"MarsCoin \",\"Crypto\",\"Anarchists Prime\",\"Droidz\",\"BowsCoin\",\"Squall Coin\",\"Song Coin\",\"BitZeny\",\"Diggits\",\"Expanse\",\"Paycon\",\"Siacoin\",\"Emercoin\",\"EverGreenCoin\",\"MindCoin\",\"I0coin\",\"Decred\",\"Revolution VR\",\"HOdlcoin\",\"EDRCoin\",\"Hitcoin\",\"Gamecredits\",\"DubaiCoin\",\"CarpeDiemCoin\",\"PWR Coin\",\"BillaryCoin\",\"GPU Coin\",\"Adzcoin\",\"SoilCoin\",\"YoCoin\",\"SibCoin\",\"EuropeCoin\",\"ZeitCoin\",\"SwingCoin\",\"SafeExchangeCoin\",\"Nebuchadnezzar\",\"Francs\",\"BolivarCoin\",\"Ratecoin\",\"Revenu\",\"Clockcoin\",\"VIP Tokens\",\"BitSend\",\"Omni\",\"Let it Ride\",\"PutinCoin\",\"iBankCoin\",\"Frankywillcoin\",\"MudraCoin\",\"PizzaCoin\",\"Lutetium Coin\",\"Komodo\",\"GoldBlocks\",\"CarterCoin\",\"Karbo\",\"BitTokens\",\"ZayedCoin\",\"MustangCoin\",\"ZoneCoin\",\"Circuits of Value\",\"RootCoin\",\"DopeCoin\",\"BitCurrency\",\"DollarCoin\",\"Swiscoin\",\"Shilling\",\"BuzzCoin\",\"Opair\",\"PesoBit\",\"Halloween Coin\",\"ZCoin\",\"CoffeeCoin\",\"RoyalCoin\",\"GanjaCoin V2\",\"TeamUP\",\"LanaCoin\",\"Elementrem\",\"ZClassic\",\"ARK\",\"InsaneCoin\",\"KiloCoin\",\"ArtexCoin\",\"EmberCoin\",\"XenixCoin\",\"FreeCoin\",\"PLNCoin\",\"AquariusCoin\",\"Kurrent\",\"Creatio\",\"Eternity\",\"Eurocoin\",\"BitcoinFast\",\"Stakenet\",\"BitConnect Coin\",\"MoneyCoin\",\"Enigma\",\"Cannabis Industry Coin\",\"Russiacoin\",\"PandaCoin\",\"GameUnits\",\"GAKHcoin\",\"Allsafe\",\"LiteCreed\",\"OsmiumCoin\",\"Bikercoins\",\"HexxCoin\",\"Klingon Empire Darsek\",\"Internet of People\",\"KushCoin\",\"Printerium\",\"PacCoin\",\"Impeach\",\"Citadel\",\"Zilbercoin\",\"FirstCoin\",\"BeaverCoin\",\"FindCoin\",\"VaultCoin\",\"Zero\",\"OpenChat\",\"Canada eCoin\",\"Zoin\",\"RenosCoin\",\"DubaiCoin\",\"VirtacoinPlus\",\"TajCoin\",\"Impact\",\"EB3coin\",\"Atmos\",\"HappyCoin\",\"Coinonat\",\"MacronCoin\",\"Condensate\",\"Independent Money System\",\"ArgusCoin\",\"LomoCoin\",\"ProCurrency\",\"GoldReserve\",\"BenjiRolls\",\"GrowthCoin\",\"ILCoin\",\"Phreak\",\"Degas Coin\",\"HTML5 Coin\",\"Ultimate Secure Cash\",\"EquiTrader\",\"QTUM\",\"Quantum Resistant Ledger\",\"Espers\",\"Dynamic\",\"Nano\",\"ChanCoin\",\"Dinastycoin\",\"Denarius\",\"DigitalPrice\",\"Virta Unique Coin\",\"Bitcoin Planet\",\"Unify\",\"BritCoin\",\"SocialCoin\",\"ArcticCoin\",\"DAS\",\"Linda\",\"LeviarCoin\",\"DeepOnion\",\"Bitcore\",\"gCn Coin\",\"SmartCash\",\"Signatum\",\"Onix\",\"Cream\",\"Bitcoin Cash\",\"Monoeci\",\"Draftcoin\",\"Vechain\",\"Sojourn Coin\",\"Stakecoin\",\"NewYorkCoin\",\"FrazCoin\",\"Kronecoin\",\"AdCoin\",\"Linx\",\"CoinonatX\",\"Ethereum Dark\",\"Sumokoin\",\"Obsidian\",\"Cardano\",\"Regalcoin\",\"BitcoinZ\",\"TrezarCoin\",\"Elements\",\"TerraNovaCoin\",\"VIVO Coin\",\"Rupee\",\"Bitcoin Gold\",\"WomenCoin\",\"Theresa May Coin\",\"NamoCoin\",\"LUXCoin\",\"Pirl\",\"Xios\",\"Bitcloud 2.0\",\"eBoost\",\"KekCoin\",\"BlackholeCoin\",\"Infinity Economics\",\"Pura\",\"Innova\",\"Ellaism\",\"GoByte\",\"Magnet\",\"Lamden Tau\",\"Electra\",\"Bitcoin Diamond\",\"SHIELD\",\"Cash & Back Coin\",\"UltraNote\",\"BitCoal\",\"DaxxCoin\",\"Bulwark\",\"Kalkulus\",\"AC3\",\"Lethean\",\"GermanCoin\",\"LiteCoin Ultra\",\"PopularCoin\",\"PhantomX\",\"Photon\",\"Sucre\",\"SparksPay\",\"Digiwage\",\"GunCoin\",\"IrishCoin\",\"Trollcoin\",\"Litecoin Plus\",\"Monkey Project\",\"Pioneer Coin\",\"UnitedBitcoin\",\"Interzone\",\"TokenPay\",\"1717 Masonic Commemorative Token\",\"My Big Coin\",\"TurtleCoin\",\"MUNcoin\",\"Unified Society USDEX\",\"Niobio Cash\",\"ShareChain\",\"Travelflex\",\"KREDS\",\"Tokyo Coin\",\"BiblePay\",\"LitecoinCash\",\"BitFlip\",\"LottoCoin\",\"Crypto Improvement Fund\",\"Stipend\",\"Poa Network\",\"Pushi\",\"Ellerium\",\"Velox\",\"Ontology\",\"Callisto Network\",\"BitTube\",\"Poseidon\",\"Aidos Kuneen\",\"Bitspace\",\"Briacoin\",\"Ignition\",\"Bitrolium\",\"MedicCoin\",\"Alpenschillling\",\"Bitcoin Green\",\"Deviant Coin\",\"Abjcoin\",\"Semux\",\"FuturoCoin\",\"Carebit\",\"Zealium\",\"Monero Classic\",\"Proton\",\"iDealCash\",\"Jumpcoin\",\"Infinex\",\"Bitcoin Incognito\",\"KEYCO\",\"HollyWoodCoin\",\"GINcoin\",\"PlatinCoin\",\"Loki\",\"Newton Coin\",\"Swisscoin\",\"Xt3ch\",\"MassGrid\",\"TheVig\",\"PluraCoin\",\"EmaratCoin\",\"Dekado\",\"Lynx\",\"Poseidon Quark\",\"BitcoinWSpectrum\",\"Muse\",\"Motion\",\"PlusOneCoin\",\"Axe\",\"Trivechain\",\"Dystem\",\"Giant\",\"Peony Coin\",\"Absolute Coin\",\"Vitae\",\"HexCoin\",\"TPCash\",\"Webchain\",\"Ryo\",\"Urals Coin\",\"Qwertycoin\",\"ARENON\",\"EUNO\",\"MMOCoin\",\"Ketan\",\"Project Pai\",\"XDNA\",\"PAXEX\",\"Azart\",\"ThunderStake\",\"Kcash\",\"Xchange\",\"Acute Angle Cloud\",\"CrypticCoin\",\"Bettex coin\",\"Actinium\",\"Bitcoin SV\",\"BitMoney\",\"Junson Ming Chan Coin\",\"FREDEnergy\",\"HerbCoin\",\"Universal Molecule\",\"Lithium\",\"PirateCash\",\"Exosis\",\"Block-Logic\",\"Oduwa\",\"Beam\",\"Galilel\",\"Bithereum\",\"Crypto Sports\",\"Credit\",\"SLICE\",\"Dash Platinum\",\"Nasdacoin\",\"Beetle Coin\",\"Titan Coin\",\"Award\",\"BLAST\",\"Bitcoin Rhodium\",\"GlobalToken\",\"Insane Coin\",\"ALAX\",\"LiteDoge\",\"SolarCoin\",\"TruckCoin\",\"UFO Coin\",\"OrangeCoin\",\"BlakeCoin\",\"BitstarCoin\",\"NeosCoin\",\"HyperCoin\",\"PinkCoin\",\"Crypto Escudo\",\"AudioCoin\",\"IncaKoin\",\"Piggy Coin\",\"Crown Coin\",\"Genstake\",\"SmileyCoin\",\"XiaoMiCoin\",\"Groestlcoin\",\"CapriCoin\",\" ClubCoin\",\"Radium\",\"Bata\",\"Pakcoin\",\"Creditbit \",\"OKCash\",\"Lisk\",\"HiCoin\",\"WhiteCoin\",\"FriendshipCoin\",\"JoinCoin\",\"Triangles Coin\",\"Vollar\",\"EOS\",\"Reality Clash\",\"Oxycoin\",\"TigerCash\",\"Waves\",\"Particl\",\"BitTorrent\",\"Nxt\",\"ZEPHYR\",\"Gapcoin\",\"Beldex\",\"Horizen\",\"BitcoinPlus\"],\"PC_1\":{\"__ndarray__\":\"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\",\"dtype\":\"float64\",\"order\":\"little\",\"shape\":[532]},\"PC_2\":{\"__ndarray__\":\"ONNYvq8x7z9drBjcVjLvPwDvfV2IMvk/3YhYbMnI9L/cwS/NEQoAwJRw8GPwYPK/wNjsZN5L8z/raE7ZL4YBwEzp9DFKCgDAp5XxRLUY/7/EofXvKG/2P2GKh3iAgfy/BC2oq8Fh6j8fNj2P+RflP/dHLkXiYPK/r26uEX94/j9eMU3woFvtv06cN373YPK/N6ZXR6ox7z9bWUemcjPvP3tLerhlZvy/eWlam9qU9b9Ws4e85Mj0vykUY8EzYfK/k86v5Axh8r8VRxkSBzLvP5uvyEugydu/bY0cHrMP87/giEtN52Dyv6tnIzqvMe8//KdTweFg8r/0ATljrzHvP4al31neYPK/1+w5HqNb7b+mKXPih0bCP0NdF2sx1O0/UgUKnb1x/L/qxvBMl9v0v7GBSfdLbPK/9svO5dxg8r/dlT8RL2HyvxEGpGnjYPK/+WKwYS8E+z/Z8i0h3QrYP/ga2ZLeYPK/LSwAQbnN+b8y4sC/p2Lyv7wLeM3nYPK/tar2jPFg8r9o6zbjazHvP3jrVbhNqfA/kxRKOsGk8r9mztlz4UvzP5ifH03IyPS/zGAyMzRh8r8YDcDp3GDyvwkt1i7ZYPK/X6OfMLXeAkCGcKdC4mDyv1SeFymVAwHA1koDINwi6j9efn4+3GDyvwYfHv/8W+o/tjWKcM/n6T/Ud94b6aj7P5thlWiZffK/rH4qjsrI9L/i0MhOGmHyvw82zAnXqPs/4Zl9XMhY4D+eJf6NgjDvP+tSHBR5Me8/7P0zfvKC7z/+KtTs42DyvylHsulYYfK/f3HZvutg8r84dBQpDKfwP5YsbTfnS/M/+lM+3+HJ9L+08SK0kIHHP3+kho7OyPS/pVvqiIM5+z/2dwlC4kvzP1bFWSDTyPS/KQuuOu/I9L+mFoRexMj0v5+QiiCSW+2/+BpkOuYt7z/kP5MOZjHvP3SONDLdYPK/+n3EvBBrzj9TpJ9S9NHzvzQYT38/YfK/s0YYreZL8z+/eg0SfoPHP1K3Qf/OyPS/lE8PZ92o+z82dcFq0y3vP1/u/KP8VALA0tJNVnkVAsA1LgmVbz/AP1+qrMBVoPg/rtZdG/pg8r89Wzc5qmHqP309/5tZ1O0/R0nv/Ntj8r/jl1fw6OfpP+6gwgADYfK/a4R20cuo+z9PdHk12mDyv2aQkOgu5uk/aSAHR/pg8r97QQDJsDHvP0BSRLbOqPs/MB1kT+Jh8r/F3RG5/uwBwP1voTDwpvA/v/C5R2Bk/L979Gq4DB74v974/xTXYPK/S+iQHKIx7z/f4nXEz2/yv7Uikzww9f+/g3Gk9Nhg8r8w5bFcy8j0v543GpBOJfO/TEHzwOdL8z9CUm2XbNQIQOb3ATOgW+2/stx00kbbAcA3YeB13Mj0vw8U/mhvNP4/CLzTr55b7b9mCM6dNZzrP+Zh7DZAYfK/zCUQrUZh8r90UIhGr+fpP6WSD6onCgDAeLW3gL6o+z+tbVwwYakAwMGV1AWyXeo/Dv8FxCt5/j9M2qU3mVvtv8Tkd1XIyPS/o6QspiNA6T++y9MgAWHyv1PQNn7SSwLAaVwpXMNh6j8bR9CqciLzPzuKk/rtYPK/9XsQ+NBh6j8U1GJF0dj0v4YJ9PgtW/k/lY90NYgx7z/akGevAOfpP/wbTdDOW+2/me9JsD8xAcCvlM6kNGHyv4dSLhVcvAHAGBDJ/BhL8z/51eEOgKfoP1Zfiy6wYeo/QblVMXwpwz/KJ3SHKQT7P1ZwV3DhYPK/ajnWoKRb7b/UVBX17UvzP4NdoyTmYOo/hOn5oKZf6j8e3+6qJU35P3+R3OGjS/M/Glh+9Nhg8r+fB2WsIHr4P3XBXgpmK+8/9mXme4Ix7z9xPuleiTHvP0ynhw15A/k/+t/wVq1b7b+nEUUdfKbwP6vuxhDE4PC/tGq+Z9FL8z/6Pz35azHvPxgFdpSWDwLAeyuVRcJh6j9enC1px8j0v5N4Wc/lS/M/uOaVnZox7z+1a8eUpGX8v0b8wB6xMe8/ZDSothxh8r+Q93n/TejpP6qHauPGyPS/8n8zV+1dyj96xa9K5WDyv/xnLSACWv0/khQyLh8E+z8HwiyIxzHvP/ndmh4RSfM/dYdv735KAsD3VfFDTAT7P3+cJSLkA/k/RXvzpHV+/z87cfojjwP7P70aB9sNW/0/9o1FaycKAMBLSavltRj/vw5qwC4mFABAVRkdU91L8z9Hns/m7XXyv7C7ze5sW+2/Wwguq8cm/D+k4zF65kvzP0QP8MUjBPs/lJ6wu5Ex7z+MsrmPgzHvP8c1eLhgXO2/yid0hykE+z/fOOKRyEvzP71T68DLYeo/EEdZB5ox7z+MFPkVfKDlP63FNf6YMe8/VXcxGPAu7z8IpbfF5EvzP4Z8As2aDwLANXZOPxgx7z++IjQAsrrpP7UZnf6jMe8/WGageK4x7z9pOb8NgmL4P04QM7cCt+M/MW3eANpg8r/xfF9omg8CwDZsma052wHAkbgVFJ4v7z/0lU6kw2HqP7wiaBzkS/M/qdX8Q6Ix7z889VkwLAXvv50zSvuXMe8/BqCAhWOGAcA4mqKWm+fpP7mZ557BjNI/wKx6kdlg8r9HpobT4QP5P/kCrsPCX+2/ntAPP7MY/7+CfvMDMDDvP42dKBTsYPK/3rpBujnbAcBw8R6XyefpP6R20bNT2gLAyX5BOLVL8z9BBrK5PbD/P19301XSS/M/q2a3x0xp8r8RR3yBGAT7P9BteC+4S/M/0HKLeBxZ4b92RgYg4QP7PyzgfAwBS/M/501/XJwx7z8kt/BJkTHvPyEAfcFqLe8/OnMbX/XX4z/RvTtx10vzP6YShw/lYPK/sK9GZRzg6T+7f4lvR8z0v9qk8QEhBPs/OC5dGUwx7z9sfUIKX/H9P1GoFUsrF+U/avZ+WPtg8r/pTMobEnr4PzV/eFpDhgHAZ6aHLlAm/T+iMajhxXQBwCs5lFGWwADAaPFrseUjAsBEmErmdhACwNXLy0U1Tfk/qVsKYudb7b/Chrb9DU35PxnYZDh7P/0/9YLp8Nxg8r/olX7OyKj7P4dX6QAAYfK/hfu2GsJb7b84HWrJpVvtv99XiAc3de4/R7poe6EPAsDSkBwbz6j7P76KK7T2NgLAR2uZ9/Ep879RU5+HyKTyv1luRpV5o/g/gu0KwO5f7b+oDYeZiT/9P462IWbJyPS/l5SceuZL8z+Bh4ncz+fpP4i2Uxrp+ANAAaOItkR38r/efVYcDQT7P3WI6QmlmvG/fHO/U+Bg8r+/xX+QAGHyv5IiresDYfK/kJKBigNh8r/6MmnaiDHvP4VBxCGuMe8/hraR8asPAsD8T41y43L2PyDWUp/xsPg/MS2ECNtL8z8Y0axoSz7/vwbKr3aWV+A/d6HaA8Vb7b/S5uJZnzHvP+hlRORYzfm/btV7/swF5z/8xAzJsRj/vwCddrg9Te8/21G5y6xh6j9Z+UklcEv5PzBsvHX84P0/RKnlMV0xAcA/gA5PmjHvP+VszCERB/s/re/XBuxg8r/lYSxUkRH5P9gPni+rMe8/We0+KYEK5T+5d2pRlVztv1Y0qPJhzfm/w3kQLW8KAMDXg6nsWs35v+2YkgymS/M/blg5mN8TAEDl9ilYhTT5P5kImvqfqPs/kIiwQzVl/L9qCnrkGDHvP7K8Txn6XALAkgFJ2pcPAsBhI3fadRQAwARgosJBqPY/klTGmoFi+D8k6yVUs13tv4lrn9D1hgHA+HMr48Fp7j9/Anq3ETHvP1dNfKoHZvK/Cy9F6dtL8z+EOr52E/D1vy5mi6GlW+2/Hg8xTlTN+b912IibTmL4P7x8J5Pyzfm/k2ufr+tg8r/KEi8iey/vP8aNvCWtMe8/9M+tQPCm8D8gAFIdplvtv2GBRizIyPS/T09mDcFl87+6xezhHnr4P9MbhLXO8Ke/2Uc+4SKDyT8m7IuseRYGwIhOtpLqCQPAydEGvVgx7z9my6FQ2Q8CwGcRN3pXaPK/s042y0AxAcAkGWF5TdPzvwhy3vyAAvk/3hKW1EEvBkCeqLGYGlYHQNNSpEnqYPK/nWEy4xF08r+1bxu3H13tv8qQYtfiJ+0/tBjaDhuMEEDqIKtR2kvzP5j+pDrvd/Y/Bvf8N2Dn6T8kTPa4pVr2P693zajpEADAMs9yXpgQAsBxjGvf4mDyv5Hqv37TAQHAfEZa0SJN+T91n0gQrTHvP6/Jnx2rMe8/IFm7W7kY/79wcsSncObpP0N8NZTHSgLAkm7rf1m/+j8BpnMFBQT7P6eYYvSVMe8/s/UJMfIT/j/caFbA6Vvtv4Lv4tA3B/s/uEbxjwUE+z931xZslw8CwKYSvBwxsOU/+udVG7Qf7z/hEFbo9ljhv92od4492wHAj+OSvjv68D/lQmahZ5gCwCapNrDU5+k/oG8lD3xKAsCStoo4ORACwBHIxwNZZwLAfjjmMW23AsAeuHi3ZSLvP+k7o/Sq5+k/x4g1dA8mAcCyV0tWamn9P0k3azVDEALAZ3jgOmMx7z/FzZ7WIdT7P/q+aU573tM/UJA/JiRh+D9dt+gduhflPx0OKyHsnPw/vNyMQJ189L9oa2GyYLAAwBHFoWamW+2/qlp+O/n56j+OpQWOfWL4P8kbntpyB/s/2Mb1w76f6T9PE/xbgE/sP0xxj0pnYvg/SHQfa+Rg8r9lw1E8bi3vP8mxSXkOiAHAC6SoGIJPAcBaJzXLHATnv1Tufo4s5wLAEZJm8OKm8D/FRwfN1kvzP9GlndkF5+k/0nbw370D+z9s3eU3V8r0v4HpX/hnt+4/uBClGcWm8D9VSBDCqlvtv858f7y/5+4/XnSAfnKF8z8HrAZGx3z0v753tFPUSgtA+Wdddggj/7/t4VroCdPzP76/SfiOSgLACTdpZsnI9L8HE28fVZ7tP/nmxV/UvvA/2UthkOoWAsC+FRCUYgf7P+BPdjvCxwHAKdEn3anHAcAVcFwHUfGNP7XC8Mk8YQHASvQF6w1h8r8e3wxFozHvP5eXa2kvGf+/YynLpG8H+z+1E51etBj/v2mNQeZ/Yvg/u+3UFqxH7j9cuU4PQR74v44pTafvpvA/pCqfe2Ix7z8QcDAhRXf2P2I83eMlYP0/Ymb+FQdL8z8ZoY681Mj0v5f0Yx9/Q9m/d7mNHwLJ9L/fJZxA30vzP6YC3DjVEwBAowrsQavG7j/Z1feSQTLzv1hTn0g9TPM/frTYRInQ+b9ZkcaV1zDvP8pTMPwazwHAF6hBBoMx7z/I4/De6hflP3ek95O2Me8/fmzRs3BL8z8iAwWv5mHyv4ihtZaPB+8/oHqzXMOS6j/a5s/nc0rzP4R9qxvTyPS/X+OX68kx7z8UD6vJnaLyv3tHulAZMe8/mrXSK7YP87+OBlz0vEvzP0DMH1dKMe8/DnRazSkE+z+sEwfH2WDyv45BPZsjYfK/9Pmp1n314z9XuO3/mmHqP7ZPu7seFABA1H1d4c7Y6T+CwUyRGjHvP6arXDWJWOA/GtMhu3dk/L+Q5iCl0aj7P3axLbXwQgDAJabRM+oUAEDpBxdBJwoAwGVS0ET8FABAMoBy/H4W5T+LRRtvlvIPQPFsqfArBPs/31TC19Er+j+fNDcCE6wBQP/718H0K+w/NCbSAKkw7z/ybuwRZhACwN1fzUy1GP+/OopjpdTn6T8=\",\"dtype\":\"float64\",\"order\":\"little\",\"shape\":[532]},\"PC_3\":{\"__ndarray__\":\"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\",\"dtype\":\"float64\",\"order\":\"little\",\"shape\":[532]},\"ProofType\":[\"PoW/PoS\",\"PoW/PoS\",\"PoW/PoS\",\"PoW\",\"PoW\",\"PoW\",\"PoW/PoS\",\"PoW\",\"PoW\",\"PoW\",\"PoS\",\"PoW\",\"PoW/PoS\",\"PoS\",\"PoW\",\"PoW/PoS\",\"PoW\",\"PoW\",\"PoW/PoS\",\"PoW/PoS\",\"PoW\",\"PoW\",\"PoW\",\"PoW\",\"PoW\",\"PoW/PoS\",\"PoW\",\"PoW\",\"PoW\",\"PoW/PoS\",\"PoW\",\"PoW/PoS\",\"PoW\",\"PoW\",\"PoC\",\"PoW/PoS\",\"PoW\",\"PoW\",\"PoW\",\"PoW\",\"PoW\",\"PoW\",\"PoS\",\"PoS/PoW/PoT\",\"PoW\",\"PoW\",\"PoW\",\"PoW\",\"PoW\",\"PoW/PoS\",\"PoS\",\"PoW\",\"PoW/PoS\",\"PoW\",\"PoW\",\"PoW\",\"PoW\",\"PoW/PoS\",\"PoW\",\"PoW\",\"PoS\",\"PoW\",\"PoW/PoS\",\"PoS\",\"PoW/PoS\",\"PoW\",\"PoW\",\"PoW\",\"PoW/PoS\",\"PoW/PoS\",\"PoW/PoS\",\"PoW/PoS\",\"PoW/PoS\",\"PoW\",\"PoW\",\"PoW\",\"PoS\",\"PoW/PoS\",\"PoW\",\"PoS\",\"PoW\",\"PoS\",\"PoW/PoS\",\"PoW\",\"PoW\",\"PoW\",\"PoW\",\"PoW/PoS\",\"PoW/PoS\",\"PoW\",\"PoST\",\"PoW\",\"PoW\",\"PoW/PoS\",\"PoS\",\"PoW\",\"PoW/PoS\",\"PoW/PoS\",\"PoW\",\"PoW\",\"PoC\",\"PoS\",\"PoW\",\"PoW/PoS\",\"PoW/PoS\",\"PoW\",\"PoS\",\"PoW\",\"PoW/PoS\",\"PoW\",\"PoS\",\"PoW\",\"PoW/PoS\",\"PoW/PoS\",\"PoW\",\"PoW\",\"PoS\",\"PoW\",\"PoW\",\"PoW\",\"PoW/PoS\",\"PoW\",\"PoW\",\"PoW\",\"PoW\",\"PoW\",\"PoW/PoS\",\"PoW/nPoS\",\"PoW\",\"PoW\",\"PoW\",\"PoW/PoS\",\"PoW\",\"PoS/PoW\",\"PoW\",\"PoW\",\"PoS\",\"PoW\",\"PoW/PoS\",\"PoW\",\"PoW/PoS\",\"PoW/PoS\",\"PoW\",\"PoW\",\"PoW/PoS\",\"PoW\",\"PoW\",\"PoW/PoS\",\"PoW/PoS\",\"PoW\",\"PoW/PoS\",\"PoW\",\"PoW/PoS\",\"PoW/PoS\",\"PoS\",\"PoW\",\"PoW\",\"PoW\",\"PoW\",\"PoW/PoS\",\"PoS\",\"PoW/PoS\",\"PoC\",\"PoS\",\"PoW\",\"PoW\",\"PoW/PoS\",\"PoW/PoS\",\"PoW/PoS\",\"PoW/PoS\",\"PoW/PoS\",\"PoW\",\"PoS\",\"PoW/PoS\",\"PoW/PoS\",\"PoW/PoS\",\"PoS\",\"PoW\",\"PoS\",\"dPoW/PoW\",\"PoW/PoS\",\"PoW/PoS\",\"PoW\",\"PoW/PoS\",\"PoW\",\"PoW/PoS\",\"PoW/PoS\",\"PoW\",\"PoW/PoS\",\"PoW\",\"PoS\",\"PoW\",\"PoW/PoW\",\"PoW\",\"PoW/PoS\",\"PoS\",\"PoW/PoS\",\"PoW/PoS\",\"PoW\",\"PoS\",\"PoS\",\"PoW/PoS\",\"PoS\",\"PoW/PoS\",\"PoW\",\"PoW\",\"DPoS\",\"PoW/PoS\",\"PoW\",\"PoW\",\"PoW/PoS\",\"PoW/PoS\",\"PoS\",\"PoW/PoS\",\"PoW/PoS\",\"PoW\",\"PoS\",\"PoW/PoS\",\"PoW/PoS\",\"PoW/PoS\",\"TPoS\",\"PoW/PoS\",\"PoW/PoS\",\"PoW/PoS\",\"PoW\",\"PoW/PoS\",\"PoS\",\"PoW/PoS\",\"PoW/PoS\",\"PoS\",\"PoW/PoS\",\"PoW\",\"PoW\",\"PoW\",\"PoW/PoS\",\"PoW/PoS\",\"PoW/PoS\",\"PoW/PoS\",\"PoW\",\"PoW/PoS\",\"PoW\",\"PoS\",\"PoW/PoS \",\"PoW\",\"PoS\",\"PoW\",\"PoW\",\"PoW/PoS\",\"PoW\",\"PoW\",\"PoS\",\"PoW\",\"PoW/PoS\",\"PoW/PoS\",\"PoW/PoS\",\"PoW\",\"PoS\",\"PoW/PoS\",\"PoW\",\"PoS\",\"PoW/PoS\",\"PoW/PoS\",\"PoW/PoS\",\"PoW/PoS\",\"PoS\",\"PoW/PoS\",\"PoW\",\"PoS\",\"PoW\",\"PoS\",\"PoW/PoS\",\"PoW/PoS\",\"PoS\",\"PoW\",\"PoS\",\"PoW\",\"PoW/PoS\",\"PoW\",\"PoW\",\"PoW\",\"PoW\",\"PoW/PoS\",\"PoW\",\"PoW/PoS\",\"PoW/PoS\",\"PoW\",\"PoW/PoS\",\"PoW\",\"PoW\",\"PoW\",\"PoW/PoS\",\"PoW\",\"PoW/PoS\",\"PoW\",\"PoW\",\"PoW\",\"PoS\",\"PoW\",\"PoW/PoS\",\"PoW\",\"PoW/PoS\",\"PoS\",\"Proof of Authority\",\"PoW\",\"PoS\",\"PoW\",\"PoW\",\"PoW\",\"PoW\",\"PoW\",\"PoW/PoS\",\"PoW/PoS\",\"PoW\",\"PoS\",\"PoS\",\"PoW/PoS\",\"PoW\",\"PoW/PoS\",\"PoW\",\"PoW/PoS\",\"PoW\",\"PoS\",\"PoW\",\"PoW/PoS\",\"PoW/PoS\",\"PoW/PoS\",\"PoW/PoS\",\"PoW\",\"PoW/PoS\",\"PoW/PoS\",\"PoW\",\"PoS\",\"PoW/PoS\",\"PoS\",\"PoW\",\"PoW\",\"PoW\",\"PoW\",\"PoW/PoS\",\"DPoS\",\"PoW/PoS\",\"PoW/PoS\",\"PoW\",\"PoW/PoS\",\"PoW\",\"PoW\",\"PoW\",\"PoS\",\"PoS\",\"PoW\",\"PoW\",\"PoW/PoS\",\"PoW/PoS\",\"PoW\",\"PoW/PoS\",\"PoW\",\"PoW\",\"PoW\",\"PoS\",\"PoW\",\"PoW\",\"PoW/PoS\",\"PoW/PoS\",\"PoS\",\"PoW\",\"PoW\",\"PoW\",\"PoS\",\"PoS\",\"PoW and PoS\",\"PoW\",\"PoW\",\"PoW/PoS\",\"PoW\",\"PoW\",\"PoW\",\"PoW\",\"PoS\",\"POBh\",\"PoW + Hive\",\"PoW\",\"PoW\",\"PoW\",\"PoW/PoS\",\"PoA\",\"PoW/PoS\",\"PoW/PoS\",\"PoS\",\"PoS\",\"PoW\",\"PoW\",\"PoW\",\"PoW\",\"PoW/PoS\",\"PoW/PoS\",\"PoW/PoS\",\"PoW\",\"PoS\",\"PoW\",\"PoS\",\"PoS\",\"PoW/PoS\",\"DPoS\",\"PoW\",\"PoW/PoS\",\"PoS\",\"PoW\",\"PoS\",\"PoW/PoS\",\"PoW\",\"PoW\",\"PoS/PoW\",\"PoW\",\"PoS\",\"PoW\",\"PoW\",\"PoW\",\"PoW\",\"PoW/PoS\",\"PoS\",\"PoW\",\"PoW/PoS\",\"PoW\",\"PoW/PoS\",\"PoS\",\"HPoW\",\"PoS\",\"PoS\",\"PoS\",\"PoW\",\"PoW\",\"PoW\",\"PoW/PoS\",\"PoS\",\"PoW/PoS\",\"PoS\",\"PoW/PoS\",\"PoS\",\"PoW\",\"PoW/PoS\",\"PoW\",\"PoW\",\"PoW\",\"PoW\",\"PoS\",\"PoW/PoS\",\"PoS\",\"PoS\",\"PoW\",\"PoW/PoS\",\"PoS\",\"PoW\",\"PoW/PoS\",\"Zero-Knowledge Proof\",\"PoW\",\"DPOS\",\"PoW\",\"PoS\",\"PoW\",\"PoW\",\"Pos\",\"PoS\",\"PoW\",\"PoW/PoS\",\"PoW\",\"PoW\",\"PoS\",\"PoW\",\"PoW\",\"PoW/PoS\",\"PoW\",\"PoW/PoS\",\"PoW\",\"PoS\",\"PoW/PoS\",\"PoW\",\"PoS\",\"PoW/PoS\",\"PoW/PoS\",\"PoW/PoS\",\"PoW/PoS\",\"PoW\",\"PoW\",\"PoW\",\"PoW/PoS\",\"DPoS\",\"PoW/PoS\",\"PoW\",\"PoW/PoS\",\"PoW\",\"PoW/PoS\",\"PoW\",\"PoW/PoS\",\"PoS\",\"PoW/PoS\",\"PoW/PoS\",\"PoW\",\"PoW/PoS\",\"PoW/PoS\",\"PoW/PoS\",\"PoW\",\"PoW/PoS\",\"PoW\",\"PoW/PoS\",\"PoW\",\"PoW/PoS\",\"PoW/PoS\",\"PoS\",\"PoW\",\"PoW\",\"Proof of Trust\",\"PoW/PoS\",\"DPoS\",\"PoS\",\"PoW/PoS\",\"PoW/PoS\",\"PoW\",\"PoW/PoS\",\"PoW\",\"DPoS\",\"PoW\",\"DPoS\",\"PoS\",\"LPoS\",\"PoS\",\"DPoS\",\"PoS/LPoS\",\"DPoS\",\"PoW/PoS\",\"PoW\",\"PoW\",\"PoS\"],\"TotalCoinSupply\":[\"42\",\"532000000\",\"314159265359\",\"21000000\",\"0\",\"84000000\",\"22000000\",\"0\",\"210000000\",\"21000000\",\"3600570502\",\"21000000000\",\"22000000\",\"12500000\",\"21000000\",\"350000000\",\"20000000\",\"64000000\",\"16768584\",\"0\",\"2000000000\",\"384000000000\",\"169795588\",\"250000000\",\"100000000\",\"0\",\"247000000\",\"84000000\",\"48166000\",\"500000\",\"21000000 \",\"1000000\",\"13140000\",\"18000000\",\"40000000000\",\"4380000\",\"16555000000\",\"21000000000\",\"13500000000\",\"21000000 \",\"299792458\",\"32000000\",\"0\",\"0\",\"11235813\",\"336000000\",\"1420609614\",\"70000000\",\"72245700\",\"120000000\",\"0\",\"90600000000\",\"22000000\",\"21000000\",\"265420800\",\"20000000\",\"1350000\",\"100000000\",\"42000000\",\"200000000\",\"0\",\"10000000\",\"2419200000\",\"16180000\",\"0\",\"15000000000\",\"21000000\",\"337000000\",\"0\",\"3770000\",\"420000000\",\"98000000\",\"0\",\"21000000\",\"250000000\",\"51200000\",\"0\",\"1000\",\"888000000\",\"100000000\",\"47011968\",\"2300000000\",\"10000000\",\"42000000\",\"80000000\",\"250000\",\"0\",\"1600000000\",\"100000000\",\"23000000\",\"0\",\"84000000\",\"265420800\",\"5500000\",\"0\",\"45000000\",\"0\",\"1000000000\",\"184467440735\",\"10000000000\",\"2158812800\",\"500000000\",\"105120000\",\"68000000\",\"0\",\"1680000000\",\"0\",\"166386000\",\"12000000\",\"2628000\",\"500000000\",\"160000000\",\"0\",\"10000000\",\"1000000000\",\"1000000000\",\"20000000\",\"0\",\"0\",\"3371337\",\"20000000\",\"10000000000\",\"1840000000\",\"619478\",\"21000000\",\"92000000000\",\"0\",\"78000000\",\"33000000\",\"65789100\",\"53760000\",\"5060000\",\"21000000\",\"0\",\"210240000\",\"250000000\",\"100000000\",\"16906397\",\"50000000\",\"0\",\"1000000000\",\"26298000\",\"16000000\",\"21000000\",\"21000000\",\"210000000\",\"81962100\",\"22000000\",\"26550000000\",\"84000000\",\"10500000\",\"21626280000 \",\"0\",\"42000000\",\"221052632\",\"84000000\",\"30000000\",\"168351300\",\"24000000\",\"384000000\",\" 99000000000\",\"40000000\",\"2147483647\",\"20000000\",\"20000000\",\"25000000\",\"75000000\",\"222725000\",\"525000000\",\"90000000\",\"139000000\",\"616448\",\"33500000\",\"2000000000\",\"44333333\",\"100000000\",\"200000000\",\"25000000\",\"657000000\",\"200000000\",\"50000000\",\"90000000\",\"10000000\",\"21000000\",\"9736000\",\"3000000\",\"21000000\",\"1200000000\",\"0\",\"200000000\",\"0\",\"10638298\",\"3100000000\",\"30000000\",\"20000000000\",\"74000000\",\"0\",\"1500000000\",\"21400000\",\"39999898\",\"2500124\",\"100000000\",\"301000000\",\"7506000000\",\"26205539\",\"21000000\",\"125000000\",\"30000000\",\"10000000000\",\"500000000\",\"850000000\",\"3853326.77707314\",\"50000000\",\"38540000 \",\"42000000\",\"228000000\",\"20000000\",\"60000000\",\"20000000\",\"33000000\",\"76500000\",\"28000000\",\"650659833\",\"5000000\",\"21000000\",\"144000000\",\"32514916898\",\"13000000\",\"3315789\",\"15000000\",\"78835200\",\"2714286\",\"25000000\",\"9999999\",\"500000000\",\"21000000\",\"9354000\",\"20000000\",\"100000000000\",\"21933333\",\"185000000\",\"55000000\",\"110000000\",\"3360000\",\"14524851.4827\",\"1000000000\",\"17000000\",\"1000000000\",\"100000000 \",\"21000000\",\"34426423\",\"2232901\",\"100000000\",\"36900000\",\"110000000\",\"4000000000\",\"110290030\",\"100000000\",\"48252000\",\"400000000\",\"500000000\",\"21212121\",\"28600000\",\"1000000000\",\"75000000000\",\"40000000\",\"35520400\",\"2000000000\",\"2500000000\",\"30000000\",\"105000000\",\"90000000000\",\"200084200\",\"72000000\",\"100000000\",\"105000000\",\"50000000000\",\"0\",\"340282367\",\"30000000\",\"2000000000\",\"10000000\",\"100000000\",\"120000000\",\"100000000\",\"19276800\",\"30000000\",\" 75000000\",\"60000000\",\"18900000\",\"50000000000\",\"54000000\",\"18898187.6216583\",\"21000000\",\"200000000000\",\"5000000000\",\"137500000\",\"1100000000\",\"100000000\",\"21000000\",\"9507271\",\"17405891.19707116\",\"86712634466\",\"10500000000\",\"61599965\",\"0\",\"20000000\",\"84000000\",\"100000000\",\"100000000\",\"48252000\",\"4200000\",\"88888888\",\"91388946\",\"45000000000\",\"27000000\",\"21000000000\",\"400000000\",\"1800000000\",\"15733333\",\"27000000\",\"24000000\",\"21000000\",\"25000000000\",\"100000000\",\"1200000000\",\"60000000\",\"156306732.71\",\"21000000\",\"200000000\",\"100000000\",\"21000000\",\"14788275.991\",\"9000000000\",\"350000000\",\"45000000\",\"280000000\",\"31800000\",\"144000000\",\"500000000\",\"30000000000\",\"210000000\",\"660000000\",\"210000000\",\"85000000000\",\"12500000\",\"10000000000\",\"27716121\",\"20000000\",\"550000000\",\"999481516\",\"50000000000\",\"150000000\",\"4999999999\",\"50000000\",\" 90000000000\",\"19800000\",\"21000000\",\"120000000\",\"500000000\",\"64000000\",\"900000000\",\"4000000\",\"21000000\",\"23000000\",\"20166000\",\"23000000\",\"25000000\",\"1618033\",\"30000000\",\"1000000000000\",\"16600000\",\"232000000\",\"336000000\",\"10000000000\",\"100000000\",\"1100000000\",\"800000000\",\"5200000000\",\"840000000\",\"40000000\",\"18406979840\",\"500000000\",\"19340594\",\"252460800\",\"25000000\",\"60000000\",\"124000000\",\"1000000000\",\"6500000000\",\"1000000000\",\"21000000\",\"25000000\",\"50000000\",\"3000000\",\"5000000\",\"70000000\",\"500000000\",\"300000000\",\"21000000\",\"88000000\",\"30000000\",\"100000000\",\"100000000\",\"200000000\",\"80000000\",\"18400000\",\"45000000\",\"5121951220\",\"21000000\",\"26280000\",\"21000000\",\"18000000\",\"26000000\",\"10500000\",\"600000518\",\"150000000\",\"184000000000\",\"10200000000\",\"44000000\",\"168000000\",\"100000000\",\"1000000000\",\"84000000\",\"90000000\",\"92000000000\",\"650000000 \",\"100262205\",\"18081806 \",\"22075700\",\"21000000\",\"21000000\",\"82546564\",\"21000000\",\"5151000\",\"16880000000\",\"52500000\",\"100000000\",\"22105263\",\"1000000000\",\"1750000000\",\"88188888\",\"210000000\",\"184470000000\",\"55000000\",\"50000000\",\"260000000\",\"210000000\",\"2100000000\",\"366000000\",\"100000000\",\"25000000\",\"18000000000\",\"1000000000\",\"100000000\",\"1000000000\",\"7600000000\",\"50000000\",\"84000000\",\"21000000\",\"70000000000\",\"0\",\"8080000000\",\"54000000\",\"105120001.44\",\"25228800\",\"105000000\",\"21000000\",\"120000000\",\"21000000\",\"262800000\",\"19035999\",\"30886000\",\"13370000\",\"74800000000\",\"100000000\",\"19700000\",\"84000000\",\"500000000\",\"5000000000\",\"420000000\",\"64000000\",\"2100000\",\"168000000\",\"30000000\",\"1000000000\",\"35000000000\",\"98100000000\",\"0\",\"4000000000\",\"200000000\",\"7000000000\",\"54256119\",\"21000000\",\"0\",\"500000000\",\"1000000000\",\"10500000000\",\"190000000\",\"1000000000\",\"42000000\",\"15000000\",\"50000000000\",\"400000000\",\"105000000\",\"208000000\",\"160000000\",\"9000000\",\"5000000\",\"182000000\",\"16504333\",\"105000000\",\"159918400\",\"10008835635\",\"300000000\",\"60168145\",\"2800000\",\"120000\",\"2100000000\",\"0\",\"24487944\",\"0\",\"1000000000\",\"100000000\",\"8634140\",\"990000000000\",\"1000000000\",\"2000000000\",\"250000000\",\"1400222610\",\"21000000\",\"1000000\"],\"TotalCoinsMined\":{\"__ndarray__\":\"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\",\"dtype\":\"float64\",\"order\":\"little\",\"shape\":[532]}},\"selected\":{\"id\":\"2507\"},\"selection_policy\":{\"id\":\"2556\"}},\"id\":\"2506\",\"type\":\"ColumnDataSource\"},{\"attributes\":{\"format\":\"0,0.0[00000]\"},\"id\":\"2533\",\"type\":\"NumberFormatter\"},{\"attributes\":{\"format\":\"0,0.0[00000]\"},\"id\":\"2528\",\"type\":\"NumberFormatter\"},{\"attributes\":{\"margin\":[5,5,5,5],\"name\":\"HSpacer04609\",\"sizing_mode\":\"stretch_width\"},\"id\":\"2505\",\"type\":\"Spacer\"},{\"attributes\":{},\"id\":\"2514\",\"type\":\"StringEditor\"},{\"attributes\":{},\"id\":\"2508\",\"type\":\"StringFormatter\"},{\"attributes\":{},\"id\":\"2544\",\"type\":\"StringEditor\"},{\"attributes\":{},\"id\":\"2556\",\"type\":\"UnionRenderers\"},{\"attributes\":{},\"id\":\"2543\",\"type\":\"StringFormatter\"},{\"attributes\":{},\"id\":\"2539\",\"type\":\"NumberEditor\"},{\"attributes\":{\"editor\":{\"id\":\"2519\"},\"field\":\"TotalCoinsMined\",\"formatter\":{\"id\":\"2518\"},\"title\":\"TotalCoinsMined\"},\"id\":\"2520\",\"type\":\"TableColumn\"},{\"attributes\":{},\"id\":\"2507\",\"type\":\"Selection\"},{\"attributes\":{\"editor\":{\"id\":\"2514\"},\"field\":\"ProofType\",\"formatter\":{\"id\":\"2513\"},\"title\":\"ProofType\"},\"id\":\"2515\",\"type\":\"TableColumn\"},{\"attributes\":{},\"id\":\"2529\",\"type\":\"NumberEditor\"},{\"attributes\":{\"editor\":{\"id\":\"2509\"},\"field\":\"Algorithm\",\"formatter\":{\"id\":\"2508\"},\"title\":\"Algorithm\"},\"id\":\"2510\",\"type\":\"TableColumn\"},{\"attributes\":{},\"id\":\"2524\",\"type\":\"StringEditor\"},{\"attributes\":{\"format\":\"0,0.0[00000]\"},\"id\":\"2518\",\"type\":\"NumberFormatter\"},{\"attributes\":{},\"id\":\"2519\",\"type\":\"NumberEditor\"},{\"attributes\":{\"format\":\"0,0.0[00000]\"},\"id\":\"2538\",\"type\":\"NumberFormatter\"},{\"attributes\":{},\"id\":\"2548\",\"type\":\"NumberFormatter\"},{\"attributes\":{\"editor\":{\"id\":\"2534\"},\"field\":\"PC_2\",\"formatter\":{\"id\":\"2533\"},\"title\":\"PC 2\"},\"id\":\"2535\",\"type\":\"TableColumn\"},{\"attributes\":{},\"id\":\"2509\",\"type\":\"StringEditor\"},{\"attributes\":{\"editor\":{\"id\":\"2549\"},\"field\":\"Class\",\"formatter\":{\"id\":\"2548\"},\"title\":\"Class\"},\"id\":\"2550\",\"type\":\"TableColumn\"},{\"attributes\":{},\"id\":\"2534\",\"type\":\"NumberEditor\"},{\"attributes\":{\"columns\":[{\"id\":\"2510\"},{\"id\":\"2515\"},{\"id\":\"2520\"},{\"id\":\"2525\"},{\"id\":\"2530\"},{\"id\":\"2535\"},{\"id\":\"2540\"},{\"id\":\"2545\"},{\"id\":\"2550\"}],\"height\":300,\"reorderable\":false,\"source\":{\"id\":\"2506\"},\"view\":{\"id\":\"2555\"},\"width\":700},\"id\":\"2553\",\"type\":\"DataTable\"},{\"attributes\":{\"editor\":{\"id\":\"2539\"},\"field\":\"PC_3\",\"formatter\":{\"id\":\"2538\"},\"title\":\"PC 3\"},\"id\":\"2540\",\"type\":\"TableColumn\"}],\"root_ids\":[\"2504\"]},\"title\":\"Bokeh Application\",\"version\":\"2.4.2\"}};\n",
       "    var render_items = [{\"docid\":\"f677ea06-6710-4582-9ea3-4715a99bd99d\",\"root_ids\":[\"2504\"],\"roots\":{\"2504\":\"04fad96f-147e-4789-9cc6-5716f80c226e\"}}];\n",
       "    root.Bokeh.embed.embed_items_notebook(docs_json, render_items);\n",
       "  }\n",
       "  if (root.Bokeh !== undefined && root.Bokeh.Panel !== undefined) {\n",
       "    embed_document(root);\n",
       "  } else {\n",
       "    var attempts = 0;\n",
       "    var timer = setInterval(function(root) {\n",
       "      if (root.Bokeh !== undefined && root.Bokeh.Panel !== undefined) {\n",
       "        clearInterval(timer);\n",
       "        embed_document(root);\n",
       "      } else if (document.readyState == \"complete\") {\n",
       "        attempts++;\n",
       "        if (attempts > 200) {\n",
       "          clearInterval(timer);\n",
       "          console.log(\"Bokeh: ERROR: Unable to run BokehJS code because BokehJS library is missing\");\n",
       "        }\n",
       "      }\n",
       "    }, 25, root)\n",
       "  }\n",
       "})(window);</script>"
      ],
      "text/plain": [
       ":Table   [Algorithm,ProofType,TotalCoinsMined,TotalCoinSupply,PC 1,PC 2,PC 3,CoinName,Class]"
      ]
     },
     "execution_count": 88,
     "metadata": {
      "application/vnd.holoviews_exec.v0+json": {
       "id": "2504"
      }
     },
     "output_type": "execute_result"
    }
   ],
   "source": [
    "# Create a table with tradable cryptocurrencies.\n",
    "crypto_clustered_df.hvplot.table(sortable=True, selectable=True)"
   ]
  },
  {
   "cell_type": "code",
   "execution_count": 89,
   "metadata": {},
   "outputs": [
    {
     "name": "stdout",
     "output_type": "stream",
     "text": [
      "There are 532 tradable cryptocurrencies.\n"
     ]
    }
   ],
   "source": [
    "# Print the total number of tradable cryptocurrencies.\n",
    "index = crypto_clustered_df.index\n",
    "len(index)\n",
    "print(\"There are \" + str(len(index)) + \" \" + \"tradable cryptocurrencies.\")"
   ]
  },
  {
   "cell_type": "code",
   "execution_count": 90,
   "metadata": {},
   "outputs": [
    {
     "data": {
      "text/plain": [
       "array([[4.20000000e-11, 0.00000000e+00],\n",
       "       [5.32000000e-04, 1.06585544e-03],\n",
       "       [3.14159265e-01, 2.95755135e-02],\n",
       "       ...,\n",
       "       [1.40022261e-03, 9.90135079e-04],\n",
       "       [2.10000000e-05, 7.37028150e-06],\n",
       "       [1.00000000e-06, 1.29582282e-07]])"
      ]
     },
     "execution_count": 90,
     "metadata": {},
     "output_type": "execute_result"
    }
   ],
   "source": [
    "# Scaling data to create the scatter plot with tradable cryptocurrencies.\n",
    "mms = MinMaxScaler()\n",
    "crypto_scaled = mms.fit_transform(crypto_clustered_df[['TotalCoinSupply', 'TotalCoinsMined']])\n",
    "crypto_scaled"
   ]
  },
  {
   "cell_type": "code",
   "execution_count": 91,
   "metadata": {},
   "outputs": [
    {
     "data": {
      "text/html": [
       "<div>\n",
       "<style scoped>\n",
       "    .dataframe tbody tr th:only-of-type {\n",
       "        vertical-align: middle;\n",
       "    }\n",
       "\n",
       "    .dataframe tbody tr th {\n",
       "        vertical-align: top;\n",
       "    }\n",
       "\n",
       "    .dataframe thead th {\n",
       "        text-align: right;\n",
       "    }\n",
       "</style>\n",
       "<table border=\"1\" class=\"dataframe\">\n",
       "  <thead>\n",
       "    <tr style=\"text-align: right;\">\n",
       "      <th></th>\n",
       "      <th>TotalCoinSupply</th>\n",
       "      <th>TotalCoinsMined</th>\n",
       "      <th>CoinName</th>\n",
       "      <th>Class</th>\n",
       "    </tr>\n",
       "  </thead>\n",
       "  <tbody>\n",
       "    <tr>\n",
       "      <th>0</th>\n",
       "      <td>4.200000e-11</td>\n",
       "      <td>0.000000</td>\n",
       "      <td>42 Coin</td>\n",
       "      <td>0</td>\n",
       "    </tr>\n",
       "    <tr>\n",
       "      <th>2</th>\n",
       "      <td>5.320000e-04</td>\n",
       "      <td>0.001066</td>\n",
       "      <td>404Coin</td>\n",
       "      <td>0</td>\n",
       "    </tr>\n",
       "    <tr>\n",
       "      <th>5</th>\n",
       "      <td>3.141593e-01</td>\n",
       "      <td>0.029576</td>\n",
       "      <td>EliteCoin</td>\n",
       "      <td>0</td>\n",
       "    </tr>\n",
       "    <tr>\n",
       "      <th>7</th>\n",
       "      <td>2.100000e-05</td>\n",
       "      <td>0.000018</td>\n",
       "      <td>Bitcoin</td>\n",
       "      <td>3</td>\n",
       "    </tr>\n",
       "    <tr>\n",
       "      <th>8</th>\n",
       "      <td>0.000000e+00</td>\n",
       "      <td>0.000109</td>\n",
       "      <td>Ethereum</td>\n",
       "      <td>3</td>\n",
       "    </tr>\n",
       "    <tr>\n",
       "      <th>9</th>\n",
       "      <td>8.400000e-05</td>\n",
       "      <td>0.000064</td>\n",
       "      <td>Litecoin</td>\n",
       "      <td>3</td>\n",
       "    </tr>\n",
       "    <tr>\n",
       "      <th>10</th>\n",
       "      <td>2.200000e-05</td>\n",
       "      <td>0.000009</td>\n",
       "      <td>Dash</td>\n",
       "      <td>0</td>\n",
       "    </tr>\n",
       "    <tr>\n",
       "      <th>11</th>\n",
       "      <td>0.000000e+00</td>\n",
       "      <td>0.000017</td>\n",
       "      <td>Monero</td>\n",
       "      <td>3</td>\n",
       "    </tr>\n",
       "    <tr>\n",
       "      <th>12</th>\n",
       "      <td>2.100000e-04</td>\n",
       "      <td>0.000115</td>\n",
       "      <td>Ethereum Classic</td>\n",
       "      <td>3</td>\n",
       "    </tr>\n",
       "    <tr>\n",
       "      <th>13</th>\n",
       "      <td>2.100000e-05</td>\n",
       "      <td>0.000007</td>\n",
       "      <td>ZCash</td>\n",
       "      <td>3</td>\n",
       "    </tr>\n",
       "  </tbody>\n",
       "</table>\n",
       "</div>"
      ],
      "text/plain": [
       "    TotalCoinSupply  TotalCoinsMined          CoinName  Class\n",
       "0      4.200000e-11         0.000000           42 Coin      0\n",
       "2      5.320000e-04         0.001066           404Coin      0\n",
       "5      3.141593e-01         0.029576         EliteCoin      0\n",
       "7      2.100000e-05         0.000018           Bitcoin      3\n",
       "8      0.000000e+00         0.000109          Ethereum      3\n",
       "9      8.400000e-05         0.000064          Litecoin      3\n",
       "10     2.200000e-05         0.000009              Dash      0\n",
       "11     0.000000e+00         0.000017            Monero      3\n",
       "12     2.100000e-04         0.000115  Ethereum Classic      3\n",
       "13     2.100000e-05         0.000007             ZCash      3"
      ]
     },
     "execution_count": 91,
     "metadata": {},
     "output_type": "execute_result"
    }
   ],
   "source": [
    "# Create a new DataFrame that has the scaled data with the clustered_df DataFrame index.\n",
    "plot_df = pd.DataFrame(\n",
    "data=crypto_scaled, columns= ['TotalCoinSupply', 'TotalCoinsMined'], index = crypto_clustered_df.index)\n",
    "\n",
    "\n",
    "# Add the \"CoinName\" column from the clustered_df DataFrame to the new DataFrame.\n",
    "plot_df['CoinName']= crypto_clustered_df['CoinName']\n",
    "\n",
    "# Add the \"Class\" column from the clustered_df DataFrame to the new DataFrame. \n",
    "plot_df['Class'] = crypto_clustered_df['Class']\n",
    "\n",
    "plot_df.head(10)"
   ]
  },
  {
   "cell_type": "code",
   "execution_count": 92,
   "metadata": {},
   "outputs": [
    {
     "data": {},
     "metadata": {},
     "output_type": "display_data"
    },
    {
     "data": {
      "application/vnd.holoviews_exec.v0+json": "",
      "text/html": [
       "<div id='2572'>\n",
       "\n",
       "\n",
       "\n",
       "\n",
       "\n",
       "  <div class=\"bk-root\" id=\"7881b095-3aab-428a-b113-5b3edf38457a\" data-root-id=\"2572\"></div>\n",
       "</div>\n",
       "<script type=\"application/javascript\">(function(root) {\n",
       "  function embed_document(root) {\n",
       "    var docs_json = {\"4f94ede2-2efb-4c4e-be20-218374ef9737\":{\"defs\":[{\"extends\":null,\"module\":null,\"name\":\"ReactiveHTML1\",\"overrides\":[],\"properties\":[]},{\"extends\":null,\"module\":null,\"name\":\"FlexBox1\",\"overrides\":[],\"properties\":[{\"default\":\"flex-start\",\"kind\":null,\"name\":\"align_content\"},{\"default\":\"flex-start\",\"kind\":null,\"name\":\"align_items\"},{\"default\":\"row\",\"kind\":null,\"name\":\"flex_direction\"},{\"default\":\"wrap\",\"kind\":null,\"name\":\"flex_wrap\"},{\"default\":\"flex-start\",\"kind\":null,\"name\":\"justify_content\"}]},{\"extends\":null,\"module\":null,\"name\":\"GridStack1\",\"overrides\":[],\"properties\":[{\"default\":\"warn\",\"kind\":null,\"name\":\"mode\"},{\"default\":null,\"kind\":null,\"name\":\"ncols\"},{\"default\":null,\"kind\":null,\"name\":\"nrows\"},{\"default\":true,\"kind\":null,\"name\":\"allow_resize\"},{\"default\":true,\"kind\":null,\"name\":\"allow_drag\"},{\"default\":[],\"kind\":null,\"name\":\"state\"}]},{\"extends\":null,\"module\":null,\"name\":\"click1\",\"overrides\":[],\"properties\":[{\"default\":\"\",\"kind\":null,\"name\":\"terminal_output\"},{\"default\":\"\",\"kind\":null,\"name\":\"debug_name\"},{\"default\":0,\"kind\":null,\"name\":\"clears\"}]},{\"extends\":null,\"module\":null,\"name\":\"TemplateActions1\",\"overrides\":[],\"properties\":[{\"default\":0,\"kind\":null,\"name\":\"open_modal\"},{\"default\":0,\"kind\":null,\"name\":\"close_modal\"}]},{\"extends\":null,\"module\":null,\"name\":\"MaterialTemplateActions1\",\"overrides\":[],\"properties\":[{\"default\":0,\"kind\":null,\"name\":\"open_modal\"},{\"default\":0,\"kind\":null,\"name\":\"close_modal\"}]}],\"roots\":{\"references\":[{\"attributes\":{\"data\":{\"Class\":[1,1,1,1,1],\"CoinName\":[\"Vechain\",\"BiblePay\",\"LitecoinCash\",\"Poa Network\",\"Acute Angle Cloud\"],\"TotalCoinSupply\":{\"__ndarray__\":\"+nQumcwytj+U9gZfmEx1P7x5qkNuhks/hFoo4ZaLMD/8qfHSTWJQPw==\",\"dtype\":\"float64\",\"order\":\"little\",\"shape\":[5]},\"TotalCoinsMined\":{\"__ndarray__\":\"zaDgBxGurD+PWA2R2lNdP5CkxfJKIUU/nBkleI8SKz96Q0MFuIxQPw==\",\"dtype\":\"float64\",\"order\":\"little\",\"shape\":[5]}},\"selected\":{\"id\":\"2638\"},\"selection_policy\":{\"id\":\"2654\"}},\"id\":\"2637\",\"type\":\"ColumnDataSource\"},{\"attributes\":{\"fill_color\":{\"value\":\"#fc4f30\"},\"hatch_color\":{\"value\":\"#fc4f30\"},\"line_color\":{\"value\":\"#fc4f30\"},\"size\":{\"value\":5.477225575051661},\"x\":{\"field\":\"TotalCoinsMined\"},\"y\":{\"field\":\"TotalCoinSupply\"}},\"id\":\"2640\",\"type\":\"Scatter\"},{\"attributes\":{\"angle\":{\"value\":0.0},\"fill_alpha\":{\"value\":1.0},\"fill_color\":{\"value\":\"#fc4f30\"},\"hatch_alpha\":{\"value\":1.0},\"hatch_color\":{\"value\":\"#fc4f30\"},\"hatch_scale\":{\"value\":12.0},\"hatch_weight\":{\"value\":1.0},\"line_alpha\":{\"value\":1.0},\"line_cap\":{\"value\":\"butt\"},\"line_color\":{\"value\":\"#fc4f30\"},\"line_dash\":{\"value\":[]},\"line_dash_offset\":{\"value\":0},\"line_join\":{\"value\":\"bevel\"},\"line_width\":{\"value\":1},\"marker\":{\"value\":\"circle\"},\"size\":{\"value\":5.477225575051661},\"x\":{\"field\":\"TotalCoinsMined\"},\"y\":{\"field\":\"TotalCoinSupply\"}},\"id\":\"2658\",\"type\":\"Scatter\"},{\"attributes\":{},\"id\":\"2638\",\"type\":\"Selection\"},{\"attributes\":{},\"id\":\"2678\",\"type\":\"UnionRenderers\"},{\"attributes\":{\"below\":[{\"id\":\"2589\"}],\"center\":[{\"id\":\"2592\"},{\"id\":\"2596\"}],\"height\":300,\"left\":[{\"id\":\"2593\"}],\"margin\":[5,5,5,5],\"min_border_bottom\":10,\"min_border_left\":10,\"min_border_right\":10,\"min_border_top\":10,\"renderers\":[{\"id\":\"2622\"},{\"id\":\"2643\"},{\"id\":\"2665\"},{\"id\":\"2689\"}],\"right\":[{\"id\":\"2634\"}],\"sizing_mode\":\"fixed\",\"title\":{\"id\":\"2581\"},\"toolbar\":{\"id\":\"2603\"},\"width\":700,\"x_range\":{\"id\":\"2574\"},\"x_scale\":{\"id\":\"2585\"},\"y_range\":{\"id\":\"2575\"},\"y_scale\":{\"id\":\"2587\"}},\"id\":\"2580\",\"subtype\":\"Figure\",\"type\":\"Plot\"},{\"attributes\":{},\"id\":\"2590\",\"type\":\"BasicTicker\"},{\"attributes\":{\"source\":{\"id\":\"2659\"}},\"id\":\"2666\",\"type\":\"CDSView\"},{\"attributes\":{\"end\":1.042857142857143,\"reset_end\":1.042857142857143,\"reset_start\":-0.04285714285714286,\"start\":-0.04285714285714286,\"tags\":[[[\"TotalCoinsMined\",\"TotalCoinsMined\",null]]]},\"id\":\"2574\",\"type\":\"Range1d\"},{\"attributes\":{\"angle\":{\"value\":0.0},\"fill_alpha\":{\"value\":1.0},\"fill_color\":{\"value\":\"#6d904f\"},\"hatch_alpha\":{\"value\":1.0},\"hatch_color\":{\"value\":\"#6d904f\"},\"hatch_scale\":{\"value\":12.0},\"hatch_weight\":{\"value\":1.0},\"line_alpha\":{\"value\":1.0},\"line_cap\":{\"value\":\"butt\"},\"line_color\":{\"value\":\"#6d904f\"},\"line_dash\":{\"value\":[]},\"line_dash_offset\":{\"value\":0},\"line_join\":{\"value\":\"bevel\"},\"line_width\":{\"value\":1},\"marker\":{\"value\":\"circle\"},\"size\":{\"value\":5.477225575051661},\"x\":{\"field\":\"TotalCoinsMined\"},\"y\":{\"field\":\"TotalCoinSupply\"}},\"id\":\"2708\",\"type\":\"Scatter\"},{\"attributes\":{},\"id\":\"2594\",\"type\":\"BasicTicker\"},{\"attributes\":{\"data\":{\"Class\":[3,3,3,3,3,3,3,3,3,3,3,3,3,3,3,3,3,3,3,3,3,3,3,3,3,3,3,3,3,3,3,3,3,3,3,3,3,3,3,3,3,3,3,3,3,3,3,3,3,3,3,3,3,3,3,3,3,3,3,3,3,3,3,3,3,3,3,3,3,3,3,3,3,3,3,3,3,3,3,3,3,3,3,3,3,3,3,3,3,3,3,3,3,3,3,3,3,3,3,3,3,3,3,3,3,3,3,3,3,3,3,3,3,3,3,3,3,3,3,3,3,3,3,3,3,3,3,3,3,3,3,3,3,3,3,3,3,3,3,3,3,3,3,3,3,3,3,3,3,3,3,3,3,3,3,3,3,3,3,3,3,3,3,3,3,3,3,3,3,3,3,3,3,3,3,3,3,3,3,3,3,3,3,3,3,3,3,3,3,3,3,3,3,3,3,3,3,3,3,3,3,3,3,3,3,3,3,3,3,3,3,3,3,3,3,3,3,3,3,3,3,3,3,3,3,3,3,3,3,3,3,3,3,3,3,3,3,3],\"CoinName\":[\"Bitcoin\",\"Ethereum\",\"Litecoin\",\"Monero\",\"Ethereum Classic\",\"ZCash\",\"DigiByte\",\"ProsperCoin\",\"Spreadcoin\",\"Argentum\",\"MyriadCoin\",\"MoonCoin\",\"ZetaCoin\",\"SexCoin\",\"Quatloo\",\"QuarkCoin\",\"Riecoin\",\"Digitalcoin \",\"Catcoin\",\"CannaCoin\",\"CryptCoin\",\"Verge\",\"DevCoin\",\"EarthCoin\",\"E-Gulden\",\"Einsteinium\",\"Emerald\",\"Franko\",\"FeatherCoin\",\"GrandCoin\",\"GlobalCoin\",\"GoldCoin\",\"Infinite Coin\",\"IXcoin\",\"KrugerCoin\",\"LuckyCoin\",\"Litebar \",\"MegaCoin\",\"MediterraneanCoin\",\"MinCoin\",\"NobleCoin\",\"Namecoin\",\"NyanCoin\",\"RonPaulCoin\",\"StableCoin\",\"SmartCoin\",\"SysCoin\",\"TigerCoin\",\"TerraCoin\",\"UnbreakableCoin\",\"Unobtanium\",\"UroCoin\",\"ViaCoin\",\"Vertcoin\",\"WorldCoin\",\"JouleCoin\",\"ByteCoin\",\"DigitalNote \",\"MonaCoin\",\"Gulden\",\"PesetaCoin\",\"Wild Beast Coin\",\"Flo\",\"ArtByte\",\"Folding Coin\",\"Unitus\",\"CypherPunkCoin\",\"OmniCron\",\"GreenCoin\",\"Cryptonite\",\"MasterCoin\",\"SoonCoin\",\"1Credit\",\"MarsCoin \",\"Crypto\",\"Anarchists Prime\",\"BowsCoin\",\"Song Coin\",\"BitZeny\",\"Expanse\",\"Siacoin\",\"MindCoin\",\"I0coin\",\"Revolution VR\",\"HOdlcoin\",\"Gamecredits\",\"CarpeDiemCoin\",\"Adzcoin\",\"SoilCoin\",\"YoCoin\",\"SibCoin\",\"Francs\",\"BolivarCoin\",\"Omni\",\"PizzaCoin\",\"Komodo\",\"Karbo\",\"ZayedCoin\",\"Circuits of Value\",\"DopeCoin\",\"DollarCoin\",\"Shilling\",\"ZCoin\",\"Elementrem\",\"ZClassic\",\"KiloCoin\",\"ArtexCoin\",\"Kurrent\",\"Cannabis Industry Coin\",\"OsmiumCoin\",\"Bikercoins\",\"HexxCoin\",\"PacCoin\",\"Citadel\",\"BeaverCoin\",\"VaultCoin\",\"Zero\",\"Canada eCoin\",\"Zoin\",\"DubaiCoin\",\"EB3coin\",\"Coinonat\",\"BenjiRolls\",\"ILCoin\",\"EquiTrader\",\"Quantum Resistant Ledger\",\"Dynamic\",\"Nano\",\"ChanCoin\",\"Dinastycoin\",\"DigitalPrice\",\"Unify\",\"SocialCoin\",\"ArcticCoin\",\"DAS\",\"LeviarCoin\",\"Bitcore\",\"gCn Coin\",\"SmartCash\",\"Onix\",\"Bitcoin Cash\",\"Sojourn Coin\",\"NewYorkCoin\",\"FrazCoin\",\"Kronecoin\",\"AdCoin\",\"Linx\",\"Sumokoin\",\"BitcoinZ\",\"Elements\",\"VIVO Coin\",\"Bitcoin Gold\",\"Pirl\",\"eBoost\",\"Pura\",\"Innova\",\"Ellaism\",\"GoByte\",\"SHIELD\",\"UltraNote\",\"BitCoal\",\"DaxxCoin\",\"AC3\",\"Lethean\",\"PopularCoin\",\"Photon\",\"Sucre\",\"SparksPay\",\"GunCoin\",\"IrishCoin\",\"Pioneer Coin\",\"UnitedBitcoin\",\"Interzone\",\"TurtleCoin\",\"MUNcoin\",\"Niobio Cash\",\"ShareChain\",\"Travelflex\",\"KREDS\",\"BitFlip\",\"LottoCoin\",\"Crypto Improvement Fund\",\"Callisto Network\",\"BitTube\",\"Poseidon\",\"Aidos Kuneen\",\"Bitrolium\",\"Alpenschillling\",\"FuturoCoin\",\"Monero Classic\",\"Jumpcoin\",\"Infinex\",\"KEYCO\",\"GINcoin\",\"PlatinCoin\",\"Loki\",\"Newton Coin\",\"MassGrid\",\"PluraCoin\",\"Motion\",\"PlusOneCoin\",\"Axe\",\"HexCoin\",\"Webchain\",\"Ryo\",\"Urals Coin\",\"Qwertycoin\",\"Project Pai\",\"Azart\",\"Xchange\",\"CrypticCoin\",\"Actinium\",\"Bitcoin SV\",\"FREDEnergy\",\"Universal Molecule\",\"Lithium\",\"Exosis\",\"Block-Logic\",\"Beam\",\"Bithereum\",\"SLICE\",\"BLAST\",\"Bitcoin Rhodium\",\"GlobalToken\",\"SolarCoin\",\"UFO Coin\",\"BlakeCoin\",\"Crypto Escudo\",\"Crown Coin\",\"SmileyCoin\",\"Groestlcoin\",\"Bata\",\"Pakcoin\",\"JoinCoin\",\"Vollar\",\"Reality Clash\",\"Beldex\",\"Horizen\"],\"TotalCoinSupply\":{\"__ndarray__\":\"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\",\"dtype\":\"float64\",\"order\":\"little\",\"shape\":[238]},\"TotalCoinsMined\":{\"__ndarray__\":\"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\",\"dtype\":\"float64\",\"order\":\"little\",\"shape\":[238]}},\"selected\":{\"id\":\"2684\"},\"selection_policy\":{\"id\":\"2704\"}},\"id\":\"2683\",\"type\":\"ColumnDataSource\"},{\"attributes\":{\"coordinates\":null,\"group\":null,\"text_color\":\"black\",\"text_font_size\":\"12pt\"},\"id\":\"2581\",\"type\":\"Title\"},{\"attributes\":{\"fill_color\":{\"value\":\"#e5ae38\"},\"hatch_color\":{\"value\":\"#e5ae38\"},\"line_color\":{\"value\":\"#e5ae38\"},\"size\":{\"value\":5.477225575051661},\"x\":{\"field\":\"TotalCoinsMined\"},\"y\":{\"field\":\"TotalCoinSupply\"}},\"id\":\"2662\",\"type\":\"Scatter\"},{\"attributes\":{},\"id\":\"2684\",\"type\":\"Selection\"},{\"attributes\":{\"margin\":[5,5,5,5],\"name\":\"HSpacer04804\",\"sizing_mode\":\"stretch_width\"},\"id\":\"2853\",\"type\":\"Spacer\"},{\"attributes\":{\"angle\":{\"value\":0.0},\"fill_alpha\":{\"value\":1.0},\"fill_color\":{\"value\":\"#e5ae38\"},\"hatch_alpha\":{\"value\":1.0},\"hatch_color\":{\"value\":\"#e5ae38\"},\"hatch_scale\":{\"value\":12.0},\"hatch_weight\":{\"value\":1.0},\"line_alpha\":{\"value\":1.0},\"line_cap\":{\"value\":\"butt\"},\"line_color\":{\"value\":\"#e5ae38\"},\"line_dash\":{\"value\":[]},\"line_dash_offset\":{\"value\":0},\"line_join\":{\"value\":\"bevel\"},\"line_width\":{\"value\":1},\"marker\":{\"value\":\"circle\"},\"size\":{\"value\":5.477225575051661},\"x\":{\"field\":\"TotalCoinsMined\"},\"y\":{\"field\":\"TotalCoinSupply\"}},\"id\":\"2682\",\"type\":\"Scatter\"},{\"attributes\":{},\"id\":\"2612\",\"type\":\"AllLabels\"},{\"attributes\":{\"axis\":{\"id\":\"2589\"},\"coordinates\":null,\"grid_line_color\":null,\"group\":null,\"ticker\":null},\"id\":\"2592\",\"type\":\"Grid\"},{\"attributes\":{\"source\":{\"id\":\"2637\"}},\"id\":\"2644\",\"type\":\"CDSView\"},{\"attributes\":{\"fill_alpha\":{\"value\":0.2},\"fill_color\":{\"value\":\"#6d904f\"},\"hatch_alpha\":{\"value\":0.2},\"hatch_color\":{\"value\":\"#6d904f\"},\"line_alpha\":{\"value\":0.2},\"line_color\":{\"value\":\"#6d904f\"},\"size\":{\"value\":5.477225575051661},\"x\":{\"field\":\"TotalCoinsMined\"},\"y\":{\"field\":\"TotalCoinSupply\"}},\"id\":\"2688\",\"type\":\"Scatter\"},{\"attributes\":{},\"id\":\"2587\",\"type\":\"LinearScale\"},{\"attributes\":{\"coordinates\":null,\"data_source\":{\"id\":\"2659\"},\"glyph\":{\"id\":\"2662\"},\"group\":null,\"hover_glyph\":null,\"muted_glyph\":{\"id\":\"2664\"},\"nonselection_glyph\":{\"id\":\"2663\"},\"selection_glyph\":{\"id\":\"2682\"},\"view\":{\"id\":\"2666\"}},\"id\":\"2665\",\"type\":\"GlyphRenderer\"},{\"attributes\":{\"coordinates\":null,\"data_source\":{\"id\":\"2637\"},\"glyph\":{\"id\":\"2640\"},\"group\":null,\"hover_glyph\":null,\"muted_glyph\":{\"id\":\"2642\"},\"nonselection_glyph\":{\"id\":\"2641\"},\"selection_glyph\":{\"id\":\"2658\"},\"view\":{\"id\":\"2644\"}},\"id\":\"2643\",\"type\":\"GlyphRenderer\"},{\"attributes\":{\"axis_label\":\"TotalCoinSupply\",\"coordinates\":null,\"formatter\":{\"id\":\"2614\"},\"group\":null,\"major_label_policy\":{\"id\":\"2615\"},\"ticker\":{\"id\":\"2594\"}},\"id\":\"2593\",\"type\":\"LinearAxis\"},{\"attributes\":{\"source\":{\"id\":\"2683\"}},\"id\":\"2690\",\"type\":\"CDSView\"},{\"attributes\":{\"axis_label\":\"TotalCoinsMined\",\"coordinates\":null,\"formatter\":{\"id\":\"2611\"},\"group\":null,\"major_label_policy\":{\"id\":\"2612\"},\"ticker\":{\"id\":\"2590\"}},\"id\":\"2589\",\"type\":\"LinearAxis\"},{\"attributes\":{\"label\":{\"value\":\"1\"},\"renderers\":[{\"id\":\"2643\"}]},\"id\":\"2657\",\"type\":\"LegendItem\"},{\"attributes\":{\"axis\":{\"id\":\"2593\"},\"coordinates\":null,\"dimension\":1,\"grid_line_color\":null,\"group\":null,\"ticker\":null},\"id\":\"2596\",\"type\":\"Grid\"},{\"attributes\":{\"fill_color\":{\"value\":\"#6d904f\"},\"hatch_color\":{\"value\":\"#6d904f\"},\"line_color\":{\"value\":\"#6d904f\"},\"size\":{\"value\":5.477225575051661},\"x\":{\"field\":\"TotalCoinsMined\"},\"y\":{\"field\":\"TotalCoinSupply\"}},\"id\":\"2686\",\"type\":\"Scatter\"},{\"attributes\":{\"coordinates\":null,\"data_source\":{\"id\":\"2683\"},\"glyph\":{\"id\":\"2686\"},\"group\":null,\"hover_glyph\":null,\"muted_glyph\":{\"id\":\"2688\"},\"nonselection_glyph\":{\"id\":\"2687\"},\"selection_glyph\":{\"id\":\"2708\"},\"view\":{\"id\":\"2690\"}},\"id\":\"2689\",\"type\":\"GlyphRenderer\"},{\"attributes\":{\"fill_alpha\":{\"value\":0.1},\"fill_color\":{\"value\":\"#6d904f\"},\"hatch_alpha\":{\"value\":0.1},\"hatch_color\":{\"value\":\"#6d904f\"},\"line_alpha\":{\"value\":0.1},\"line_color\":{\"value\":\"#6d904f\"},\"size\":{\"value\":5.477225575051661},\"x\":{\"field\":\"TotalCoinsMined\"},\"y\":{\"field\":\"TotalCoinSupply\"}},\"id\":\"2687\",\"type\":\"Scatter\"},{\"attributes\":{\"label\":{\"value\":\"3\"},\"renderers\":[{\"id\":\"2689\"}]},\"id\":\"2707\",\"type\":\"LegendItem\"},{\"attributes\":{\"tools\":[{\"id\":\"2576\"},{\"id\":\"2597\"},{\"id\":\"2598\"},{\"id\":\"2599\"},{\"id\":\"2600\"},{\"id\":\"2601\"}]},\"id\":\"2603\",\"type\":\"Toolbar\"},{\"attributes\":{\"fill_alpha\":{\"value\":0.1},\"fill_color\":{\"value\":\"#30a2da\"},\"hatch_alpha\":{\"value\":0.1},\"hatch_color\":{\"value\":\"#30a2da\"},\"line_alpha\":{\"value\":0.1},\"line_color\":{\"value\":\"#30a2da\"},\"size\":{\"value\":5.477225575051661},\"x\":{\"field\":\"TotalCoinsMined\"},\"y\":{\"field\":\"TotalCoinSupply\"}},\"id\":\"2620\",\"type\":\"Scatter\"},{\"attributes\":{\"bottom_units\":\"screen\",\"coordinates\":null,\"fill_alpha\":0.5,\"fill_color\":\"lightgrey\",\"group\":null,\"left_units\":\"screen\",\"level\":\"overlay\",\"line_alpha\":1.0,\"line_color\":\"black\",\"line_dash\":[4,4],\"line_width\":2,\"right_units\":\"screen\",\"syncable\":false,\"top_units\":\"screen\"},\"id\":\"2602\",\"type\":\"BoxAnnotation\"},{\"attributes\":{},\"id\":\"2597\",\"type\":\"SaveTool\"},{\"attributes\":{\"source\":{\"id\":\"2616\"}},\"id\":\"2623\",\"type\":\"CDSView\"},{\"attributes\":{},\"id\":\"2598\",\"type\":\"PanTool\"},{\"attributes\":{},\"id\":\"2601\",\"type\":\"ResetTool\"},{\"attributes\":{},\"id\":\"2631\",\"type\":\"UnionRenderers\"},{\"attributes\":{},\"id\":\"2599\",\"type\":\"WheelZoomTool\"},{\"attributes\":{},\"id\":\"2615\",\"type\":\"AllLabels\"},{\"attributes\":{},\"id\":\"2660\",\"type\":\"Selection\"},{\"attributes\":{\"fill_alpha\":{\"value\":0.2},\"fill_color\":{\"value\":\"#e5ae38\"},\"hatch_alpha\":{\"value\":0.2},\"hatch_color\":{\"value\":\"#e5ae38\"},\"line_alpha\":{\"value\":0.2},\"line_color\":{\"value\":\"#e5ae38\"},\"size\":{\"value\":5.477225575051661},\"x\":{\"field\":\"TotalCoinsMined\"},\"y\":{\"field\":\"TotalCoinSupply\"}},\"id\":\"2664\",\"type\":\"Scatter\"},{\"attributes\":{},\"id\":\"2611\",\"type\":\"BasicTickFormatter\"},{\"attributes\":{\"callback\":null,\"renderers\":[{\"id\":\"2622\"},{\"id\":\"2643\"},{\"id\":\"2665\"},{\"id\":\"2689\"}],\"tags\":[\"hv_created\"],\"tooltips\":[[\"Class\",\"@{Class}\"],[\"TotalCoinsMined\",\"@{TotalCoinsMined}\"],[\"TotalCoinSupply\",\"@{TotalCoinSupply}\"],[\"CoinName\",\"@{CoinName}\"]]},\"id\":\"2576\",\"type\":\"HoverTool\"},{\"attributes\":{\"overlay\":{\"id\":\"2602\"}},\"id\":\"2600\",\"type\":\"BoxZoomTool\"},{\"attributes\":{\"label\":{\"value\":\"0\"},\"renderers\":[{\"id\":\"2622\"}]},\"id\":\"2635\",\"type\":\"LegendItem\"},{\"attributes\":{\"end\":1.1,\"reset_end\":1.1,\"reset_start\":-0.1,\"start\":-0.1,\"tags\":[[[\"TotalCoinSupply\",\"TotalCoinSupply\",null]]]},\"id\":\"2575\",\"type\":\"Range1d\"},{\"attributes\":{\"children\":[{\"id\":\"2573\"},{\"id\":\"2580\"},{\"id\":\"2853\"}],\"margin\":[0,0,0,0],\"name\":\"Row04799\",\"tags\":[\"embedded\"]},\"id\":\"2572\",\"type\":\"Row\"},{\"attributes\":{\"angle\":{\"value\":0.0},\"fill_alpha\":{\"value\":1.0},\"fill_color\":{\"value\":\"#30a2da\"},\"hatch_alpha\":{\"value\":1.0},\"hatch_color\":{\"value\":\"#30a2da\"},\"hatch_scale\":{\"value\":12.0},\"hatch_weight\":{\"value\":1.0},\"line_alpha\":{\"value\":1.0},\"line_cap\":{\"value\":\"butt\"},\"line_color\":{\"value\":\"#30a2da\"},\"line_dash\":{\"value\":[]},\"line_dash_offset\":{\"value\":0},\"line_join\":{\"value\":\"bevel\"},\"line_width\":{\"value\":1},\"marker\":{\"value\":\"circle\"},\"size\":{\"value\":5.477225575051661},\"x\":{\"field\":\"TotalCoinsMined\"},\"y\":{\"field\":\"TotalCoinSupply\"}},\"id\":\"2636\",\"type\":\"Scatter\"},{\"attributes\":{\"label\":{\"value\":\"2\"},\"renderers\":[{\"id\":\"2665\"}]},\"id\":\"2681\",\"type\":\"LegendItem\"},{\"attributes\":{\"fill_alpha\":{\"value\":0.1},\"fill_color\":{\"value\":\"#e5ae38\"},\"hatch_alpha\":{\"value\":0.1},\"hatch_color\":{\"value\":\"#e5ae38\"},\"line_alpha\":{\"value\":0.1},\"line_color\":{\"value\":\"#e5ae38\"},\"size\":{\"value\":5.477225575051661},\"x\":{\"field\":\"TotalCoinsMined\"},\"y\":{\"field\":\"TotalCoinSupply\"}},\"id\":\"2663\",\"type\":\"Scatter\"},{\"attributes\":{},\"id\":\"2614\",\"type\":\"BasicTickFormatter\"},{\"attributes\":{},\"id\":\"2704\",\"type\":\"UnionRenderers\"},{\"attributes\":{\"click_policy\":\"mute\",\"coordinates\":null,\"group\":null,\"items\":[{\"id\":\"2635\"},{\"id\":\"2657\"},{\"id\":\"2681\"},{\"id\":\"2707\"}],\"location\":[0,0],\"title\":\"Class\"},\"id\":\"2634\",\"type\":\"Legend\"},{\"attributes\":{\"fill_alpha\":{\"value\":0.2},\"fill_color\":{\"value\":\"#30a2da\"},\"hatch_alpha\":{\"value\":0.2},\"hatch_color\":{\"value\":\"#30a2da\"},\"line_alpha\":{\"value\":0.2},\"line_color\":{\"value\":\"#30a2da\"},\"size\":{\"value\":5.477225575051661},\"x\":{\"field\":\"TotalCoinsMined\"},\"y\":{\"field\":\"TotalCoinSupply\"}},\"id\":\"2621\",\"type\":\"Scatter\"},{\"attributes\":{},\"id\":\"2585\",\"type\":\"LinearScale\"},{\"attributes\":{\"data\":{\"Class\":[0,0,0,0,0,0,0,0,0,0,0,0,0,0,0,0,0,0,0,0,0,0,0,0,0,0,0,0,0,0,0,0,0,0,0,0,0,0,0,0,0,0,0,0,0,0,0,0,0,0,0,0,0,0,0,0,0,0,0,0,0,0,0,0,0,0,0,0,0,0,0,0,0,0,0,0,0,0,0,0,0,0,0,0,0,0,0,0,0,0,0,0,0,0,0,0,0,0,0,0,0,0,0,0,0,0,0,0,0,0,0,0,0,0,0,0,0,0,0,0,0,0,0,0,0,0,0,0,0,0,0,0,0,0,0,0,0,0,0,0,0,0,0,0,0,0,0,0,0,0,0,0,0,0,0,0,0,0,0,0,0,0,0,0,0,0,0,0,0,0,0,0,0,0,0,0,0,0,0,0,0,0,0,0,0,0,0,0,0,0,0,0,0,0,0,0,0,0,0,0,0,0,0,0,0,0,0,0,0,0,0,0,0,0,0,0,0,0,0,0,0,0,0,0,0,0,0,0,0,0,0,0,0,0,0,0,0,0,0,0,0,0,0,0,0,0,0,0,0,0,0,0,0,0,0,0,0,0,0,0,0,0,0,0,0,0,0,0,0,0,0,0,0,0,0,0,0,0,0,0,0,0,0,0,0,0,0,0],\"CoinName\":[\"42 Coin\",\"404Coin\",\"EliteCoin\",\"Dash\",\"Bitshares\",\"BitcoinDark\",\"PayCoin\",\"KoboCoin\",\"Aurora Coin\",\"BlueCoin\",\"EnergyCoin\",\"BitBar\",\"CryptoBullion\",\"CasinoCoin\",\"Diamond\",\"Exclusive Coin\",\"FlutterCoin\",\"HoboNickels\",\"HyperStake\",\"IOCoin\",\"MaxCoin\",\"MintCoin\",\"MazaCoin\",\"Nautilus Coin\",\"NavCoin\",\"OpalCoin\",\"Orbitcoin\",\"PotCoin\",\"PhoenixCoin\",\"Reddcoin\",\"SuperCoin\",\"SyncCoin\",\"TeslaCoin\",\"TittieCoin\",\"TorCoin\",\"UnitaryStatus Dollar\",\"UltraCoin\",\"VeriCoin\",\"X11 Coin\",\"Crypti\",\"StealthCoin\",\"ZCC Coin\",\"BurstCoin\",\"StorjCoin\",\"Neutron\",\"FairCoin\",\"RubyCoin\",\"Kore\",\"Dnotes\",\"8BIT Coin\",\"Sativa Coin\",\"Ucoin\",\"Vtorrent\",\"IslaCoin\",\"Nexus\",\"Droidz\",\"Squall Coin\",\"Diggits\",\"Paycon\",\"Emercoin\",\"EverGreenCoin\",\"Decred\",\"EDRCoin\",\"Hitcoin\",\"DubaiCoin\",\"PWR Coin\",\"BillaryCoin\",\"GPU Coin\",\"EuropeCoin\",\"ZeitCoin\",\"SwingCoin\",\"SafeExchangeCoin\",\"Nebuchadnezzar\",\"Ratecoin\",\"Revenu\",\"Clockcoin\",\"VIP Tokens\",\"BitSend\",\"Let it Ride\",\"PutinCoin\",\"iBankCoin\",\"Frankywillcoin\",\"MudraCoin\",\"Lutetium Coin\",\"GoldBlocks\",\"CarterCoin\",\"BitTokens\",\"MustangCoin\",\"ZoneCoin\",\"RootCoin\",\"BitCurrency\",\"Swiscoin\",\"BuzzCoin\",\"Opair\",\"PesoBit\",\"Halloween Coin\",\"CoffeeCoin\",\"RoyalCoin\",\"GanjaCoin V2\",\"TeamUP\",\"LanaCoin\",\"ARK\",\"InsaneCoin\",\"EmberCoin\",\"XenixCoin\",\"FreeCoin\",\"PLNCoin\",\"AquariusCoin\",\"Creatio\",\"Eternity\",\"Eurocoin\",\"BitcoinFast\",\"Stakenet\",\"BitConnect Coin\",\"MoneyCoin\",\"Enigma\",\"Russiacoin\",\"PandaCoin\",\"GameUnits\",\"GAKHcoin\",\"Allsafe\",\"LiteCreed\",\"Klingon Empire Darsek\",\"Internet of People\",\"KushCoin\",\"Printerium\",\"Impeach\",\"Zilbercoin\",\"FirstCoin\",\"FindCoin\",\"OpenChat\",\"RenosCoin\",\"VirtacoinPlus\",\"TajCoin\",\"Impact\",\"Atmos\",\"HappyCoin\",\"MacronCoin\",\"Condensate\",\"Independent Money System\",\"ArgusCoin\",\"LomoCoin\",\"ProCurrency\",\"GoldReserve\",\"GrowthCoin\",\"Phreak\",\"Degas Coin\",\"HTML5 Coin\",\"Ultimate Secure Cash\",\"QTUM\",\"Espers\",\"Denarius\",\"Virta Unique Coin\",\"Bitcoin Planet\",\"BritCoin\",\"Linda\",\"DeepOnion\",\"Signatum\",\"Cream\",\"Monoeci\",\"Draftcoin\",\"Stakecoin\",\"CoinonatX\",\"Ethereum Dark\",\"Obsidian\",\"Cardano\",\"Regalcoin\",\"TrezarCoin\",\"TerraNovaCoin\",\"Rupee\",\"WomenCoin\",\"Theresa May Coin\",\"NamoCoin\",\"LUXCoin\",\"Xios\",\"Bitcloud 2.0\",\"KekCoin\",\"BlackholeCoin\",\"Infinity Economics\",\"Magnet\",\"Lamden Tau\",\"Electra\",\"Bitcoin Diamond\",\"Cash & Back Coin\",\"Bulwark\",\"Kalkulus\",\"GermanCoin\",\"LiteCoin Ultra\",\"PhantomX\",\"Digiwage\",\"Trollcoin\",\"Litecoin Plus\",\"Monkey Project\",\"TokenPay\",\"1717 Masonic Commemorative Token\",\"My Big Coin\",\"Unified Society USDEX\",\"Tokyo Coin\",\"Stipend\",\"Pushi\",\"Ellerium\",\"Velox\",\"Ontology\",\"Bitspace\",\"Briacoin\",\"Ignition\",\"MedicCoin\",\"Bitcoin Green\",\"Deviant Coin\",\"Abjcoin\",\"Semux\",\"Carebit\",\"Zealium\",\"Proton\",\"iDealCash\",\"Bitcoin Incognito\",\"HollyWoodCoin\",\"Swisscoin\",\"Xt3ch\",\"TheVig\",\"EmaratCoin\",\"Dekado\",\"Lynx\",\"Poseidon Quark\",\"BitcoinWSpectrum\",\"Muse\",\"Trivechain\",\"Dystem\",\"Giant\",\"Peony Coin\",\"Absolute Coin\",\"Vitae\",\"TPCash\",\"ARENON\",\"EUNO\",\"MMOCoin\",\"Ketan\",\"XDNA\",\"PAXEX\",\"ThunderStake\",\"Kcash\",\"Bettex coin\",\"BitMoney\",\"Junson Ming Chan Coin\",\"HerbCoin\",\"PirateCash\",\"Oduwa\",\"Galilel\",\"Crypto Sports\",\"Credit\",\"Dash Platinum\",\"Nasdacoin\",\"Beetle Coin\",\"Titan Coin\",\"Award\",\"Insane Coin\",\"ALAX\",\"LiteDoge\",\"TruckCoin\",\"OrangeCoin\",\"BitstarCoin\",\"NeosCoin\",\"HyperCoin\",\"PinkCoin\",\"AudioCoin\",\"IncaKoin\",\"Piggy Coin\",\"Genstake\",\"XiaoMiCoin\",\"CapriCoin\",\" ClubCoin\",\"Radium\",\"Creditbit \",\"OKCash\",\"Lisk\",\"HiCoin\",\"WhiteCoin\",\"FriendshipCoin\",\"Triangles Coin\",\"EOS\",\"Oxycoin\",\"TigerCash\",\"Waves\",\"Particl\",\"Nxt\",\"ZEPHYR\",\"Gapcoin\",\"BitcoinPlus\"],\"TotalCoinSupply\":{\"__ndarray__\":\"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\",\"dtype\":\"float64\",\"order\":\"little\",\"shape\":[288]},\"TotalCoinsMined\":{\"__ndarray__\":\"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\",\"dtype\":\"float64\",\"order\":\"little\",\"shape\":[288]}},\"selected\":{\"id\":\"2617\"},\"selection_policy\":{\"id\":\"2631\"}},\"id\":\"2616\",\"type\":\"ColumnDataSource\"},{\"attributes\":{\"coordinates\":null,\"data_source\":{\"id\":\"2616\"},\"glyph\":{\"id\":\"2619\"},\"group\":null,\"hover_glyph\":null,\"muted_glyph\":{\"id\":\"2621\"},\"nonselection_glyph\":{\"id\":\"2620\"},\"selection_glyph\":{\"id\":\"2636\"},\"view\":{\"id\":\"2623\"}},\"id\":\"2622\",\"type\":\"GlyphRenderer\"},{\"attributes\":{\"fill_alpha\":{\"value\":0.2},\"fill_color\":{\"value\":\"#fc4f30\"},\"hatch_alpha\":{\"value\":0.2},\"hatch_color\":{\"value\":\"#fc4f30\"},\"line_alpha\":{\"value\":0.2},\"line_color\":{\"value\":\"#fc4f30\"},\"size\":{\"value\":5.477225575051661},\"x\":{\"field\":\"TotalCoinsMined\"},\"y\":{\"field\":\"TotalCoinSupply\"}},\"id\":\"2642\",\"type\":\"Scatter\"},{\"attributes\":{},\"id\":\"2654\",\"type\":\"UnionRenderers\"},{\"attributes\":{\"fill_color\":{\"value\":\"#30a2da\"},\"hatch_color\":{\"value\":\"#30a2da\"},\"line_color\":{\"value\":\"#30a2da\"},\"size\":{\"value\":5.477225575051661},\"x\":{\"field\":\"TotalCoinsMined\"},\"y\":{\"field\":\"TotalCoinSupply\"}},\"id\":\"2619\",\"type\":\"Scatter\"},{\"attributes\":{\"fill_alpha\":{\"value\":0.1},\"fill_color\":{\"value\":\"#fc4f30\"},\"hatch_alpha\":{\"value\":0.1},\"hatch_color\":{\"value\":\"#fc4f30\"},\"line_alpha\":{\"value\":0.1},\"line_color\":{\"value\":\"#fc4f30\"},\"size\":{\"value\":5.477225575051661},\"x\":{\"field\":\"TotalCoinsMined\"},\"y\":{\"field\":\"TotalCoinSupply\"}},\"id\":\"2641\",\"type\":\"Scatter\"},{\"attributes\":{\"data\":{\"Class\":[2],\"CoinName\":[\"BitTorrent\"],\"TotalCoinSupply\":{\"__ndarray__\":\"rkfhehSu7z8=\",\"dtype\":\"float64\",\"order\":\"little\",\"shape\":[1]},\"TotalCoinsMined\":{\"__ndarray__\":\"AAAAAAAA8D8=\",\"dtype\":\"float64\",\"order\":\"little\",\"shape\":[1]}},\"selected\":{\"id\":\"2660\"},\"selection_policy\":{\"id\":\"2678\"}},\"id\":\"2659\",\"type\":\"ColumnDataSource\"},{\"attributes\":{\"margin\":[5,5,5,5],\"name\":\"HSpacer04803\",\"sizing_mode\":\"stretch_width\"},\"id\":\"2573\",\"type\":\"Spacer\"},{\"attributes\":{},\"id\":\"2617\",\"type\":\"Selection\"}],\"root_ids\":[\"2572\"]},\"title\":\"Bokeh Application\",\"version\":\"2.4.2\"}};\n",
       "    var render_items = [{\"docid\":\"4f94ede2-2efb-4c4e-be20-218374ef9737\",\"root_ids\":[\"2572\"],\"roots\":{\"2572\":\"7881b095-3aab-428a-b113-5b3edf38457a\"}}];\n",
       "    root.Bokeh.embed.embed_items_notebook(docs_json, render_items);\n",
       "  }\n",
       "  if (root.Bokeh !== undefined && root.Bokeh.Panel !== undefined) {\n",
       "    embed_document(root);\n",
       "  } else {\n",
       "    var attempts = 0;\n",
       "    var timer = setInterval(function(root) {\n",
       "      if (root.Bokeh !== undefined && root.Bokeh.Panel !== undefined) {\n",
       "        clearInterval(timer);\n",
       "        embed_document(root);\n",
       "      } else if (document.readyState == \"complete\") {\n",
       "        attempts++;\n",
       "        if (attempts > 200) {\n",
       "          clearInterval(timer);\n",
       "          console.log(\"Bokeh: ERROR: Unable to run BokehJS code because BokehJS library is missing\");\n",
       "        }\n",
       "      }\n",
       "    }, 25, root)\n",
       "  }\n",
       "})(window);</script>"
      ],
      "text/plain": [
       ":NdOverlay   [Class]\n",
       "   :Scatter   [TotalCoinsMined]   (TotalCoinSupply,CoinName)"
      ]
     },
     "execution_count": 92,
     "metadata": {
      "application/vnd.holoviews_exec.v0+json": {
       "id": "2572"
      }
     },
     "output_type": "execute_result"
    }
   ],
   "source": [
    "# Create a hvplot.scatter plot using x=\"TotalCoinsMined\" and y=\"TotalCoinSupply\".\n",
    "plot_df.hvplot.scatter(\n",
    "    x='TotalCoinsMined', y='TotalCoinSupply', by='Class', hover_cols=['CoinName'])\n",
    "\n"
   ]
  },
  {
   "cell_type": "code",
   "execution_count": null,
   "metadata": {},
   "outputs": [],
   "source": []
  }
 ],
 "metadata": {
  "file_extension": ".py",
  "kernelspec": {
   "display_name": "PythonData",
   "language": "python",
   "name": "pythondata"
  },
  "language_info": {
   "codemirror_mode": {
    "name": "ipython",
    "version": 3
   },
   "file_extension": ".py",
   "mimetype": "text/x-python",
   "name": "python",
   "nbconvert_exporter": "python",
   "pygments_lexer": "ipython3",
   "version": "3.7.13"
  },
  "latex_envs": {
   "LaTeX_envs_menu_present": true,
   "autoclose": false,
   "autocomplete": true,
   "bibliofile": "biblio.bib",
   "cite_by": "apalike",
   "current_citInitial": 1,
   "eqLabelWithNumbers": true,
   "eqNumInitial": 1,
   "hotkeys": {
    "equation": "Ctrl-E",
    "itemize": "Ctrl-I"
   },
   "labels_anchors": false,
   "latex_user_defs": false,
   "report_style_numbering": false,
   "user_envs_cfg": false
  },
  "mimetype": "text/x-python",
  "name": "python",
  "npconvert_exporter": "python",
  "pygments_lexer": "ipython3",
  "version": 3
 },
 "nbformat": 4,
 "nbformat_minor": 2
}
